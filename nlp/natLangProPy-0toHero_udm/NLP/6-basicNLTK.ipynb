{
 "cells": [
  {
   "cell_type": "code",
   "execution_count": 3,
   "metadata": {},
   "outputs": [
    {
     "name": "stdout",
     "output_type": "stream",
     "text": [
      "Python 3.7.3\r\n"
     ]
    }
   ],
   "source": [
    "! python -V "
   ]
  },
  {
   "cell_type": "code",
   "execution_count": 5,
   "metadata": {},
   "outputs": [
    {
     "name": "stdout",
     "output_type": "stream",
     "text": [
      "Collecting nltk\n",
      "\u001b[?25l  Downloading https://files.pythonhosted.org/packages/8d/5d/825889810b85c303c8559a3fd74d451d80cf3585a851f2103e69576bf583/nltk-3.4.3.zip (1.4MB)\n",
      "\u001b[K     |████████████████████████████████| 1.5MB 497kB/s eta 0:00:01\n",
      "\u001b[?25hRequirement already satisfied: six in /home/vitor/anaconda3/envs/udmNLPy0-hero/lib/python3.7/site-packages (from nltk) (1.12.0)\n",
      "Building wheels for collected packages: nltk\n",
      "  Building wheel for nltk (setup.py) ... \u001b[?25ldone\n",
      "\u001b[?25h  Stored in directory: /home/vitor/.cache/pip/wheels/54/40/b7/c56ad418e6cd4d9e1e594b5e138d1ca6eec11a6ee3d464e5bb\n",
      "Successfully built nltk\n",
      "Installing collected packages: nltk\n",
      "Successfully installed nltk-3.4.3\n"
     ]
    }
   ],
   "source": [
    "! pip install nltk "
   ]
  },
  {
   "cell_type": "code",
   "execution_count": 6,
   "metadata": {},
   "outputs": [],
   "source": [
    "import nltk"
   ]
  },
  {
   "cell_type": "code",
   "execution_count": 7,
   "metadata": {},
   "outputs": [
    {
     "name": "stdout",
     "output_type": "stream",
     "text": [
      "NLTK Downloader\n",
      "---------------------------------------------------------------------------\n",
      "    d) Download   l) List    u) Update   c) Config   h) Help   q) Quit\n",
      "---------------------------------------------------------------------------\n",
      "Downloader> l\n",
      "\n",
      "Packages:\n",
      "  [ ] abc................. Australian Broadcasting Commission 2006\n",
      "  [ ] alpino.............. Alpino Dutch Treebank\n",
      "  [ ] averaged_perceptron_tagger Averaged Perceptron Tagger\n",
      "  [ ] averaged_perceptron_tagger_ru Averaged Perceptron Tagger (Russian)\n",
      "  [ ] basque_grammars..... Grammars for Basque\n",
      "  [ ] biocreative_ppi..... BioCreAtIvE (Critical Assessment of Information\n",
      "                           Extraction Systems in Biology)\n",
      "  [ ] bllip_wsj_no_aux.... BLLIP Parser: WSJ Model\n",
      "  [ ] book_grammars....... Grammars from NLTK Book\n",
      "  [ ] brown............... Brown Corpus\n",
      "  [ ] brown_tei........... Brown Corpus (TEI XML Version)\n",
      "  [ ] cess_cat............ CESS-CAT Treebank\n",
      "  [ ] cess_esp............ CESS-ESP Treebank\n",
      "  [ ] chat80.............. Chat-80 Data Files\n",
      "  [ ] city_database....... City Database\n",
      "  [ ] cmudict............. The Carnegie Mellon Pronouncing Dictionary (0.6)\n",
      "  [ ] comparative_sentences Comparative Sentence Dataset\n",
      "  [ ] comtrans............ ComTrans Corpus Sample\n",
      "  [ ] conll2000........... CONLL 2000 Chunking Corpus\n",
      "  [ ] conll2002........... CONLL 2002 Named Entity Recognition Corpus\n",
      "Hit Enter to continue: q\n",
      "\n",
      "---------------------------------------------------------------------------\n",
      "    d) Download   l) List    u) Update   c) Config   h) Help   q) Quit\n",
      "---------------------------------------------------------------------------\n",
      "Downloader> q\n"
     ]
    }
   ],
   "source": [
    "nltk.download_shell()\n"
   ]
  },
  {
   "cell_type": "code",
   "execution_count": 8,
   "metadata": {},
   "outputs": [
    {
     "name": "stderr",
     "output_type": "stream",
     "text": [
      "[nltk_data] Downloading package punkt to /home/vitor/nltk_data...\n",
      "[nltk_data]   Unzipping tokenizers/punkt.zip.\n"
     ]
    },
    {
     "data": {
      "text/plain": [
       "True"
      ]
     },
     "execution_count": 8,
     "metadata": {},
     "output_type": "execute_result"
    }
   ],
   "source": [
    "nltk.download(\"punkt\")"
   ]
  },
  {
   "cell_type": "code",
   "execution_count": 9,
   "metadata": {},
   "outputs": [
    {
     "name": "stderr",
     "output_type": "stream",
     "text": [
      "[nltk_data] Downloading package gutenberg to /home/vitor/nltk_data...\n",
      "[nltk_data]   Unzipping corpora/gutenberg.zip.\n"
     ]
    },
    {
     "data": {
      "text/plain": [
       "True"
      ]
     },
     "execution_count": 9,
     "metadata": {},
     "output_type": "execute_result"
    }
   ],
   "source": [
    "nltk.download(\"gutenberg\")"
   ]
  },
  {
   "cell_type": "code",
   "execution_count": 11,
   "metadata": {},
   "outputs": [
    {
     "data": {
      "text/plain": [
       "['austen-emma.txt',\n",
       " 'austen-persuasion.txt',\n",
       " 'austen-sense.txt',\n",
       " 'bible-kjv.txt',\n",
       " 'blake-poems.txt',\n",
       " 'bryant-stories.txt',\n",
       " 'burgess-busterbrown.txt',\n",
       " 'carroll-alice.txt',\n",
       " 'chesterton-ball.txt',\n",
       " 'chesterton-brown.txt',\n",
       " 'chesterton-thursday.txt',\n",
       " 'edgeworth-parents.txt',\n",
       " 'melville-moby_dick.txt',\n",
       " 'milton-paradise.txt',\n",
       " 'shakespeare-caesar.txt',\n",
       " 'shakespeare-hamlet.txt',\n",
       " 'shakespeare-macbeth.txt',\n",
       " 'whitman-leaves.txt']"
      ]
     },
     "execution_count": 11,
     "metadata": {},
     "output_type": "execute_result"
    }
   ],
   "source": [
    "nltk.corpus.gutenberg.fileids()"
   ]
  },
  {
   "cell_type": "code",
   "execution_count": 12,
   "metadata": {},
   "outputs": [],
   "source": [
    "emma= nltk.corpus.gutenberg.raw(\"austen-emma.txt\")"
   ]
  },
  {
   "cell_type": "code",
   "execution_count": 13,
   "metadata": {},
   "outputs": [
    {
     "name": "stdout",
     "output_type": "stream",
     "text": [
      "[Emma by Jane Austen 1816]\n",
      "\n",
      "VOLUME I\n",
      "\n",
      "CHAPTER I\n",
      "\n",
      "\n",
      "Emma Woodhouse, handsome, clever, and rich, with a comfortable home\n",
      "and happy disposition, seemed to unite some of the best blessings\n",
      "of existence; an\n"
     ]
    }
   ],
   "source": [
    "print(emma[:200])"
   ]
  },
  {
   "cell_type": "code",
   "execution_count": 14,
   "metadata": {},
   "outputs": [
    {
     "data": {
      "text/plain": [
       "['Woodhouse,',\n",
       " 'handsome,',\n",
       " 'clever,',\n",
       " 'and',\n",
       " 'rich,',\n",
       " 'with',\n",
       " 'a',\n",
       " 'comfortable',\n",
       " 'home',\n",
       " 'and']"
      ]
     },
     "execution_count": 14,
     "metadata": {},
     "output_type": "execute_result"
    }
   ],
   "source": [
    "emma.split()[10:20]"
   ]
  },
  {
   "cell_type": "code",
   "execution_count": 4,
   "metadata": {},
   "outputs": [],
   "source": [
    "with open(\"cosmic_conflict.txt\", 'r') as f:\n",
    "    sample_text=f.read()"
   ]
  },
  {
   "cell_type": "code",
   "execution_count": 5,
   "metadata": {},
   "outputs": [
    {
     "data": {
      "text/plain": [
       "'The answer to the question of the universe’s expansion rate is something called the Hubble constant, named after the astronomer Edwin Hubble who discovered in the 1920s that the universe is expanding. Galaxies recede from us at speeds proportional to their distances, going faster the farther away they are. The Hubble constant codifies this relationship between cosmic distances and velocities. But in doing so it reveals much more, making it of interest not only to astronomers but also to cosmologists and physicists. Because the constant represents the expansion rate at any particular moment in the universe’s long history, measuring its value over time provides an expansive view of how the universe evolves over the eons, giving researchers crucial clues to our cosmic origins and future. Somehow beckoned by the void, billions of outward-rushing galaxies also feel the collective gravitational pull of everything in the rearview mirror trying to tug them back. The Hubble constant reflects the sum total of all the stuff in the universe and the forces acting on it—weighing in on whether gravity or the void will ultimately win this intergalactic tug-of-war.\\n\\nThe universe’s contents could eventually reverse the expansion—a scenario called the “big crunch,” in which gravity pulls everything back into an infinitely hot and dense point like the one that birthed the big bang. Or the universe might steadily expand indefinitely, growing ever colder and listless in a “big chill” that offers endless space and time—but ultimately very little to do. Or just maybe the cosmic expansion will dramatically speed up, becoming so unruly that it bucks all its riders. Such an accelerating universe could sunder galaxies, then stars, then planets, atoms and subatomic particles until even the fabric of reality itself splits at its seams in a “big rip” that leaves practically nothing behind. Will the universe end in fire, ice or emptiness? The Hubble constant knows—but until the tension is resolved, the answer is unclear.\\n'"
      ]
     },
     "execution_count": 5,
     "metadata": {},
     "output_type": "execute_result"
    }
   ],
   "source": [
    "sample_text"
   ]
  },
  {
   "cell_type": "code",
   "execution_count": 6,
   "metadata": {},
   "outputs": [],
   "source": [
    "sample_text=sample_text.lower()"
   ]
  },
  {
   "cell_type": "code",
   "execution_count": 7,
   "metadata": {},
   "outputs": [
    {
     "name": "stdout",
     "output_type": "stream",
     "text": [
      "['the', 'answer', 'to', 'the', 'question', 'of', 'the', 'universe’s', 'expansion', 'rate', 'is', 'something', 'called', 'the', 'hubble', 'constant,', 'named', 'after', 'the', 'astronomer', 'edwin', 'hubble', 'who', 'discovered', 'in', 'the', '1920s', 'that', 'the', 'universe', 'is', 'expanding.', 'galaxies', 'recede', 'from', 'us', 'at', 'speeds', 'proportional', 'to', 'their', 'distances,', 'going', 'faster', 'the', 'farther', 'away', 'they', 'are.', 'the', 'hubble', 'constant', 'codifies', 'this', 'relationship', 'between', 'cosmic', 'distances', 'and', 'velocities.', 'but', 'in', 'doing', 'so', 'it', 'reveals', 'much', 'more,', 'making', 'it', 'of', 'interest', 'not', 'only', 'to', 'astronomers', 'but', 'also', 'to', 'cosmologists', 'and', 'physicists.', 'because', 'the', 'constant', 'represents', 'the', 'expansion', 'rate', 'at', 'any', 'particular', 'moment', 'in', 'the', 'universe’s', 'long', 'history,', 'measuring', 'its', 'value', 'over', 'time', 'provides', 'an', 'expansive', 'view', 'of', 'how', 'the', 'universe', 'evolves', 'over', 'the', 'eons,', 'giving', 'researchers', 'crucial', 'clues', 'to', 'our', 'cosmic', 'origins', 'and', 'future.', 'somehow', 'beckoned', 'by', 'the', 'void,', 'billions', 'of', 'outward-rushing', 'galaxies', 'also', 'feel', 'the', 'collective', 'gravitational', 'pull', 'of', 'everything', 'in', 'the', 'rearview', 'mirror', 'trying', 'to', 'tug', 'them', 'back.', 'the', 'hubble', 'constant', 'reflects', 'the', 'sum', 'total', 'of', 'all', 'the', 'stuff', 'in', 'the', 'universe', 'and', 'the', 'forces', 'acting', 'on', 'it—weighing', 'in', 'on', 'whether', 'gravity', 'or', 'the', 'void', 'will', 'ultimately', 'win', 'this', 'intergalactic', 'tug-of-war.', 'the', 'universe’s', 'contents', 'could', 'eventually', 'reverse', 'the', 'expansion—a', 'scenario', 'called', 'the', '“big', 'crunch,”', 'in', 'which', 'gravity', 'pulls', 'everything', 'back', 'into', 'an', 'infinitely', 'hot', 'and', 'dense', 'point', 'like', 'the', 'one', 'that', 'birthed', 'the', 'big', 'bang.', 'or', 'the', 'universe', 'might', 'steadily', 'expand', 'indefinitely,', 'growing', 'ever', 'colder', 'and', 'listless', 'in', 'a', '“big', 'chill”', 'that', 'offers', 'endless', 'space', 'and', 'time—but', 'ultimately', 'very', 'little', 'to', 'do.', 'or', 'just', 'maybe', 'the', 'cosmic', 'expansion', 'will', 'dramatically', 'speed', 'up,', 'becoming', 'so', 'unruly', 'that', 'it', 'bucks', 'all', 'its', 'riders.', 'such', 'an', 'accelerating', 'universe', 'could', 'sunder', 'galaxies,', 'then', 'stars,', 'then', 'planets,', 'atoms', 'and', 'subatomic', 'particles', 'until', 'even', 'the', 'fabric', 'of', 'reality', 'itself', 'splits', 'at', 'its', 'seams', 'in', 'a', '“big', 'rip”', 'that', 'leaves', 'practically', 'nothing', 'behind.', 'will', 'the', 'universe', 'end', 'in', 'fire,', 'ice', 'or', 'emptiness?', 'the', 'hubble', 'constant', 'knows—but', 'until', 'the', 'tension', 'is', 'resolved,', 'the', 'answer', 'is', 'unclear.']\n"
     ]
    }
   ],
   "source": [
    "tokens= [word for word in sample_text.split()]\n",
    "print(tokens)"
   ]
  },
  {
   "cell_type": "code",
   "execution_count": 8,
   "metadata": {},
   "outputs": [
    {
     "ename": "NameError",
     "evalue": "name 'nltk' is not defined",
     "output_type": "error",
     "traceback": [
      "\u001b[0;31m---------------------------------------------------------------------------\u001b[0m",
      "\u001b[0;31mNameError\u001b[0m                                 Traceback (most recent call last)",
      "\u001b[0;32m<ipython-input-8-fe990aba1cb7>\u001b[0m in \u001b[0;36m<module>\u001b[0;34m\u001b[0m\n\u001b[0;32m----> 1\u001b[0;31m \u001b[0mtokens\u001b[0m \u001b[0;34m=\u001b[0m \u001b[0mnltk\u001b[0m\u001b[0;34m.\u001b[0m\u001b[0mword_tokenize\u001b[0m\u001b[0;34m(\u001b[0m\u001b[0msample_text\u001b[0m\u001b[0;34m)\u001b[0m\u001b[0;34m\u001b[0m\u001b[0;34m\u001b[0m\u001b[0m\n\u001b[0m\u001b[1;32m      2\u001b[0m \u001b[0mprint\u001b[0m\u001b[0;34m(\u001b[0m\u001b[0mtokens\u001b[0m\u001b[0;34m)\u001b[0m\u001b[0;34m\u001b[0m\u001b[0;34m\u001b[0m\u001b[0m\n",
      "\u001b[0;31mNameError\u001b[0m: name 'nltk' is not defined"
     ]
    }
   ],
   "source": [
    "tokens = nltk.word_tokenize(sample_text)\n",
    "print(tokens)"
   ]
  },
  {
   "cell_type": "code",
   "execution_count": 9,
   "metadata": {},
   "outputs": [
    {
     "ename": "NameError",
     "evalue": "name 'nltk' is not defined",
     "output_type": "error",
     "traceback": [
      "\u001b[0;31m---------------------------------------------------------------------------\u001b[0m",
      "\u001b[0;31mNameError\u001b[0m                                 Traceback (most recent call last)",
      "\u001b[0;32m<ipython-input-9-7a2eb161c9a6>\u001b[0m in \u001b[0;36m<module>\u001b[0;34m\u001b[0m\n\u001b[0;32m----> 1\u001b[0;31m \u001b[0mnltk\u001b[0m\u001b[0;34m.\u001b[0m\u001b[0mdownload_shell\u001b[0m\u001b[0;34m(\u001b[0m\u001b[0;34m)\u001b[0m\u001b[0;34m\u001b[0m\u001b[0;34m\u001b[0m\u001b[0m\n\u001b[0m",
      "\u001b[0;31mNameError\u001b[0m: name 'nltk' is not defined"
     ]
    }
   ],
   "source": [
    "nltk.download_shell()"
   ]
  },
  {
   "cell_type": "code",
   "execution_count": 10,
   "metadata": {},
   "outputs": [],
   "source": [
    "import nltk\n"
   ]
  },
  {
   "cell_type": "code",
   "execution_count": 11,
   "metadata": {},
   "outputs": [
    {
     "name": "stdout",
     "output_type": "stream",
     "text": [
      "['the', 'answer', 'to', 'the', 'question', 'of', 'the', 'universe', '’', 's', 'expansion', 'rate', 'is', 'something', 'called', 'the', 'hubble', 'constant', ',', 'named', 'after', 'the', 'astronomer', 'edwin', 'hubble', 'who', 'discovered', 'in', 'the', '1920s', 'that', 'the', 'universe', 'is', 'expanding', '.', 'galaxies', 'recede', 'from', 'us', 'at', 'speeds', 'proportional', 'to', 'their', 'distances', ',', 'going', 'faster', 'the', 'farther', 'away', 'they', 'are', '.', 'the', 'hubble', 'constant', 'codifies', 'this', 'relationship', 'between', 'cosmic', 'distances', 'and', 'velocities', '.', 'but', 'in', 'doing', 'so', 'it', 'reveals', 'much', 'more', ',', 'making', 'it', 'of', 'interest', 'not', 'only', 'to', 'astronomers', 'but', 'also', 'to', 'cosmologists', 'and', 'physicists', '.', 'because', 'the', 'constant', 'represents', 'the', 'expansion', 'rate', 'at', 'any', 'particular', 'moment', 'in', 'the', 'universe', '’', 's', 'long', 'history', ',', 'measuring', 'its', 'value', 'over', 'time', 'provides', 'an', 'expansive', 'view', 'of', 'how', 'the', 'universe', 'evolves', 'over', 'the', 'eons', ',', 'giving', 'researchers', 'crucial', 'clues', 'to', 'our', 'cosmic', 'origins', 'and', 'future', '.', 'somehow', 'beckoned', 'by', 'the', 'void', ',', 'billions', 'of', 'outward-rushing', 'galaxies', 'also', 'feel', 'the', 'collective', 'gravitational', 'pull', 'of', 'everything', 'in', 'the', 'rearview', 'mirror', 'trying', 'to', 'tug', 'them', 'back', '.', 'the', 'hubble', 'constant', 'reflects', 'the', 'sum', 'total', 'of', 'all', 'the', 'stuff', 'in', 'the', 'universe', 'and', 'the', 'forces', 'acting', 'on', 'it—weighing', 'in', 'on', 'whether', 'gravity', 'or', 'the', 'void', 'will', 'ultimately', 'win', 'this', 'intergalactic', 'tug-of-war', '.', 'the', 'universe', '’', 's', 'contents', 'could', 'eventually', 'reverse', 'the', 'expansion—a', 'scenario', 'called', 'the', '“', 'big', 'crunch', ',', '”', 'in', 'which', 'gravity', 'pulls', 'everything', 'back', 'into', 'an', 'infinitely', 'hot', 'and', 'dense', 'point', 'like', 'the', 'one', 'that', 'birthed', 'the', 'big', 'bang', '.', 'or', 'the', 'universe', 'might', 'steadily', 'expand', 'indefinitely', ',', 'growing', 'ever', 'colder', 'and', 'listless', 'in', 'a', '“', 'big', 'chill', '”', 'that', 'offers', 'endless', 'space', 'and', 'time—but', 'ultimately', 'very', 'little', 'to', 'do', '.', 'or', 'just', 'maybe', 'the', 'cosmic', 'expansion', 'will', 'dramatically', 'speed', 'up', ',', 'becoming', 'so', 'unruly', 'that', 'it', 'bucks', 'all', 'its', 'riders', '.', 'such', 'an', 'accelerating', 'universe', 'could', 'sunder', 'galaxies', ',', 'then', 'stars', ',', 'then', 'planets', ',', 'atoms', 'and', 'subatomic', 'particles', 'until', 'even', 'the', 'fabric', 'of', 'reality', 'itself', 'splits', 'at', 'its', 'seams', 'in', 'a', '“', 'big', 'rip', '”', 'that', 'leaves', 'practically', 'nothing', 'behind', '.', 'will', 'the', 'universe', 'end', 'in', 'fire', ',', 'ice', 'or', 'emptiness', '?', 'the', 'hubble', 'constant', 'knows—but', 'until', 'the', 'tension', 'is', 'resolved', ',', 'the', 'answer', 'is', 'unclear', '.']\n"
     ]
    }
   ],
   "source": [
    "tokens = nltk.word_tokenize(sample_text)\n",
    "print(tokens)"
   ]
  },
  {
   "cell_type": "code",
   "execution_count": 12,
   "metadata": {},
   "outputs": [
    {
     "name": "stdout",
     "output_type": "stream",
     "text": [
      "['the', 'answer', 'to', 'the', 'question', 'of', 'the', 'universe', 's', 'expansion', 'rate', 'is', 'something', 'called', 'the', 'hubble', 'constant', 'named', 'after', 'the', 'astronomer', 'edwin', 'hubble', 'who', 'discovered', 'in', 'the', '1920s', 'that', 'the', 'universe', 'is', 'expanding', 'galaxies', 'recede', 'from', 'us', 'at', 'speeds', 'proportional', 'to', 'their', 'distances', 'going', 'faster', 'the', 'farther', 'away', 'they', 'are', 'the', 'hubble', 'constant', 'codifies', 'this', 'relationship', 'between', 'cosmic', 'distances', 'and', 'velocities', 'but', 'in', 'doing', 'so', 'it', 'reveals', 'much', 'more', 'making', 'it', 'of', 'interest', 'not', 'only', 'to', 'astronomers', 'but', 'also', 'to', 'cosmologists', 'and', 'physicists', 'because', 'the', 'constant', 'represents', 'the', 'expansion', 'rate', 'at', 'any', 'particular', 'moment', 'in', 'the', 'universe', 's', 'long', 'history', 'measuring', 'its', 'value', 'over', 'time', 'provides', 'an', 'expansive', 'view', 'of', 'how', 'the', 'universe', 'evolves', 'over', 'the', 'eons', 'giving', 'researchers', 'crucial', 'clues', 'to', 'our', 'cosmic', 'origins', 'and', 'future', 'somehow', 'beckoned', 'by', 'the', 'void', 'billions', 'of', 'outward', 'rushing', 'galaxies', 'also', 'feel', 'the', 'collective', 'gravitational', 'pull', 'of', 'everything', 'in', 'the', 'rearview', 'mirror', 'trying', 'to', 'tug', 'them', 'back', 'the', 'hubble', 'constant', 'reflects', 'the', 'sum', 'total', 'of', 'all', 'the', 'stuff', 'in', 'the', 'universe', 'and', 'the', 'forces', 'acting', 'on', 'it', 'weighing', 'in', 'on', 'whether', 'gravity', 'or', 'the', 'void', 'will', 'ultimately', 'win', 'this', 'intergalactic', 'tug', 'of', 'war', 'the', 'universe', 's', 'contents', 'could', 'eventually', 'reverse', 'the', 'expansion', 'a', 'scenario', 'called', 'the', 'big', 'crunch', 'in', 'which', 'gravity', 'pulls', 'everything', 'back', 'into', 'an', 'infinitely', 'hot', 'and', 'dense', 'point', 'like', 'the', 'one', 'that', 'birthed', 'the', 'big', 'bang', 'or', 'the', 'universe', 'might', 'steadily', 'expand', 'indefinitely', 'growing', 'ever', 'colder', 'and', 'listless', 'in', 'a', 'big', 'chill', 'that', 'offers', 'endless', 'space', 'and', 'time', 'but', 'ultimately', 'very', 'little', 'to', 'do', 'or', 'just', 'maybe', 'the', 'cosmic', 'expansion', 'will', 'dramatically', 'speed', 'up', 'becoming', 'so', 'unruly', 'that', 'it', 'bucks', 'all', 'its', 'riders', 'such', 'an', 'accelerating', 'universe', 'could', 'sunder', 'galaxies', 'then', 'stars', 'then', 'planets', 'atoms', 'and', 'subatomic', 'particles', 'until', 'even', 'the', 'fabric', 'of', 'reality', 'itself', 'splits', 'at', 'its', 'seams', 'in', 'a', 'big', 'rip', 'that', 'leaves', 'practically', 'nothing', 'behind', 'will', 'the', 'universe', 'end', 'in', 'fire', 'ice', 'or', 'emptiness', 'the', 'hubble', 'constant', 'knows', 'but', 'until', 'the', 'tension', 'is', 'resolved', 'the', 'answer', 'is', 'unclear']\n"
     ]
    }
   ],
   "source": [
    "from nltk.tokenize import RegexpTokenizer\n",
    "tokenizer=RegexpTokenizer(r'\\w+')\n",
    "tokens=tokenizer.tokenize(sample_text)\n",
    "print(tokens)"
   ]
  },
  {
   "cell_type": "code",
   "execution_count": 13,
   "metadata": {},
   "outputs": [],
   "source": [
    "token_freq=nltk.FreqDist(tokens)"
   ]
  },
  {
   "cell_type": "code",
   "execution_count": 14,
   "metadata": {},
   "outputs": [
    {
     "data": {
      "text/plain": [
       "5"
      ]
     },
     "execution_count": 14,
     "metadata": {},
     "output_type": "execute_result"
    }
   ],
   "source": [
    "token_freq[\"hubble\"]"
   ]
  },
  {
   "cell_type": "code",
   "execution_count": 16,
   "metadata": {},
   "outputs": [
    {
     "ename": "ModuleNotFoundError",
     "evalue": "No module named 'matplotlib'",
     "output_type": "error",
     "traceback": [
      "\u001b[0;31m---------------------------------------------------------------------------\u001b[0m",
      "\u001b[0;31mModuleNotFoundError\u001b[0m                       Traceback (most recent call last)",
      "\u001b[0;32m<ipython-input-16-a2a73114f7f0>\u001b[0m in \u001b[0;36m<module>\u001b[0;34m\u001b[0m\n\u001b[0;32m----> 1\u001b[0;31m \u001b[0mget_ipython\u001b[0m\u001b[0;34m(\u001b[0m\u001b[0;34m)\u001b[0m\u001b[0;34m.\u001b[0m\u001b[0mrun_line_magic\u001b[0m\u001b[0;34m(\u001b[0m\u001b[0;34m'matplotlib'\u001b[0m\u001b[0;34m,\u001b[0m \u001b[0;34m'inline'\u001b[0m\u001b[0;34m)\u001b[0m\u001b[0;34m\u001b[0m\u001b[0;34m\u001b[0m\u001b[0m\n\u001b[0m\u001b[1;32m      2\u001b[0m \u001b[0mtoken_freq\u001b[0m\u001b[0;34m.\u001b[0m\u001b[0mplot\u001b[0m\u001b[0;34m(\u001b[0m\u001b[0;36m20\u001b[0m\u001b[0;34m,\u001b[0m \u001b[0mcumulative\u001b[0m\u001b[0;34m=\u001b[0m\u001b[0;32mFalse\u001b[0m\u001b[0;34m)\u001b[0m\u001b[0;34m\u001b[0m\u001b[0;34m\u001b[0m\u001b[0m\n",
      "\u001b[0;32m~/anaconda3/envs/udmNLPy0-hero/lib/python3.7/site-packages/IPython/core/interactiveshell.py\u001b[0m in \u001b[0;36mrun_line_magic\u001b[0;34m(self, magic_name, line, _stack_depth)\u001b[0m\n\u001b[1;32m   2305\u001b[0m                 \u001b[0mkwargs\u001b[0m\u001b[0;34m[\u001b[0m\u001b[0;34m'local_ns'\u001b[0m\u001b[0;34m]\u001b[0m \u001b[0;34m=\u001b[0m \u001b[0msys\u001b[0m\u001b[0;34m.\u001b[0m\u001b[0m_getframe\u001b[0m\u001b[0;34m(\u001b[0m\u001b[0mstack_depth\u001b[0m\u001b[0;34m)\u001b[0m\u001b[0;34m.\u001b[0m\u001b[0mf_locals\u001b[0m\u001b[0;34m\u001b[0m\u001b[0;34m\u001b[0m\u001b[0m\n\u001b[1;32m   2306\u001b[0m             \u001b[0;32mwith\u001b[0m \u001b[0mself\u001b[0m\u001b[0;34m.\u001b[0m\u001b[0mbuiltin_trap\u001b[0m\u001b[0;34m:\u001b[0m\u001b[0;34m\u001b[0m\u001b[0;34m\u001b[0m\u001b[0m\n\u001b[0;32m-> 2307\u001b[0;31m                 \u001b[0mresult\u001b[0m \u001b[0;34m=\u001b[0m \u001b[0mfn\u001b[0m\u001b[0;34m(\u001b[0m\u001b[0;34m*\u001b[0m\u001b[0margs\u001b[0m\u001b[0;34m,\u001b[0m \u001b[0;34m**\u001b[0m\u001b[0mkwargs\u001b[0m\u001b[0;34m)\u001b[0m\u001b[0;34m\u001b[0m\u001b[0;34m\u001b[0m\u001b[0m\n\u001b[0m\u001b[1;32m   2308\u001b[0m             \u001b[0;32mreturn\u001b[0m \u001b[0mresult\u001b[0m\u001b[0;34m\u001b[0m\u001b[0;34m\u001b[0m\u001b[0m\n\u001b[1;32m   2309\u001b[0m \u001b[0;34m\u001b[0m\u001b[0m\n",
      "\u001b[0;32m</home/vitor/anaconda3/envs/udmNLPy0-hero/lib/python3.7/site-packages/decorator.py:decorator-gen-108>\u001b[0m in \u001b[0;36mmatplotlib\u001b[0;34m(self, line)\u001b[0m\n",
      "\u001b[0;32m~/anaconda3/envs/udmNLPy0-hero/lib/python3.7/site-packages/IPython/core/magic.py\u001b[0m in \u001b[0;36m<lambda>\u001b[0;34m(f, *a, **k)\u001b[0m\n\u001b[1;32m    185\u001b[0m     \u001b[0;31m# but it's overkill for just that one bit of state.\u001b[0m\u001b[0;34m\u001b[0m\u001b[0;34m\u001b[0m\u001b[0;34m\u001b[0m\u001b[0m\n\u001b[1;32m    186\u001b[0m     \u001b[0;32mdef\u001b[0m \u001b[0mmagic_deco\u001b[0m\u001b[0;34m(\u001b[0m\u001b[0marg\u001b[0m\u001b[0;34m)\u001b[0m\u001b[0;34m:\u001b[0m\u001b[0;34m\u001b[0m\u001b[0;34m\u001b[0m\u001b[0m\n\u001b[0;32m--> 187\u001b[0;31m         \u001b[0mcall\u001b[0m \u001b[0;34m=\u001b[0m \u001b[0;32mlambda\u001b[0m \u001b[0mf\u001b[0m\u001b[0;34m,\u001b[0m \u001b[0;34m*\u001b[0m\u001b[0ma\u001b[0m\u001b[0;34m,\u001b[0m \u001b[0;34m**\u001b[0m\u001b[0mk\u001b[0m\u001b[0;34m:\u001b[0m \u001b[0mf\u001b[0m\u001b[0;34m(\u001b[0m\u001b[0;34m*\u001b[0m\u001b[0ma\u001b[0m\u001b[0;34m,\u001b[0m \u001b[0;34m**\u001b[0m\u001b[0mk\u001b[0m\u001b[0;34m)\u001b[0m\u001b[0;34m\u001b[0m\u001b[0;34m\u001b[0m\u001b[0m\n\u001b[0m\u001b[1;32m    188\u001b[0m \u001b[0;34m\u001b[0m\u001b[0m\n\u001b[1;32m    189\u001b[0m         \u001b[0;32mif\u001b[0m \u001b[0mcallable\u001b[0m\u001b[0;34m(\u001b[0m\u001b[0marg\u001b[0m\u001b[0;34m)\u001b[0m\u001b[0;34m:\u001b[0m\u001b[0;34m\u001b[0m\u001b[0;34m\u001b[0m\u001b[0m\n",
      "\u001b[0;32m~/anaconda3/envs/udmNLPy0-hero/lib/python3.7/site-packages/IPython/core/magics/pylab.py\u001b[0m in \u001b[0;36mmatplotlib\u001b[0;34m(self, line)\u001b[0m\n\u001b[1;32m     97\u001b[0m             \u001b[0mprint\u001b[0m\u001b[0;34m(\u001b[0m\u001b[0;34m\"Available matplotlib backends: %s\"\u001b[0m \u001b[0;34m%\u001b[0m \u001b[0mbackends_list\u001b[0m\u001b[0;34m)\u001b[0m\u001b[0;34m\u001b[0m\u001b[0;34m\u001b[0m\u001b[0m\n\u001b[1;32m     98\u001b[0m         \u001b[0;32melse\u001b[0m\u001b[0;34m:\u001b[0m\u001b[0;34m\u001b[0m\u001b[0;34m\u001b[0m\u001b[0m\n\u001b[0;32m---> 99\u001b[0;31m             \u001b[0mgui\u001b[0m\u001b[0;34m,\u001b[0m \u001b[0mbackend\u001b[0m \u001b[0;34m=\u001b[0m \u001b[0mself\u001b[0m\u001b[0;34m.\u001b[0m\u001b[0mshell\u001b[0m\u001b[0;34m.\u001b[0m\u001b[0menable_matplotlib\u001b[0m\u001b[0;34m(\u001b[0m\u001b[0margs\u001b[0m\u001b[0;34m.\u001b[0m\u001b[0mgui\u001b[0m\u001b[0;34m)\u001b[0m\u001b[0;34m\u001b[0m\u001b[0;34m\u001b[0m\u001b[0m\n\u001b[0m\u001b[1;32m    100\u001b[0m             \u001b[0mself\u001b[0m\u001b[0;34m.\u001b[0m\u001b[0m_show_matplotlib_backend\u001b[0m\u001b[0;34m(\u001b[0m\u001b[0margs\u001b[0m\u001b[0;34m.\u001b[0m\u001b[0mgui\u001b[0m\u001b[0;34m,\u001b[0m \u001b[0mbackend\u001b[0m\u001b[0;34m)\u001b[0m\u001b[0;34m\u001b[0m\u001b[0;34m\u001b[0m\u001b[0m\n\u001b[1;32m    101\u001b[0m \u001b[0;34m\u001b[0m\u001b[0m\n",
      "\u001b[0;32m~/anaconda3/envs/udmNLPy0-hero/lib/python3.7/site-packages/IPython/core/interactiveshell.py\u001b[0m in \u001b[0;36menable_matplotlib\u001b[0;34m(self, gui)\u001b[0m\n\u001b[1;32m   3370\u001b[0m         \"\"\"\n\u001b[1;32m   3371\u001b[0m         \u001b[0;32mfrom\u001b[0m \u001b[0mIPython\u001b[0m\u001b[0;34m.\u001b[0m\u001b[0mcore\u001b[0m \u001b[0;32mimport\u001b[0m \u001b[0mpylabtools\u001b[0m \u001b[0;32mas\u001b[0m \u001b[0mpt\u001b[0m\u001b[0;34m\u001b[0m\u001b[0;34m\u001b[0m\u001b[0m\n\u001b[0;32m-> 3372\u001b[0;31m         \u001b[0mgui\u001b[0m\u001b[0;34m,\u001b[0m \u001b[0mbackend\u001b[0m \u001b[0;34m=\u001b[0m \u001b[0mpt\u001b[0m\u001b[0;34m.\u001b[0m\u001b[0mfind_gui_and_backend\u001b[0m\u001b[0;34m(\u001b[0m\u001b[0mgui\u001b[0m\u001b[0;34m,\u001b[0m \u001b[0mself\u001b[0m\u001b[0;34m.\u001b[0m\u001b[0mpylab_gui_select\u001b[0m\u001b[0;34m)\u001b[0m\u001b[0;34m\u001b[0m\u001b[0;34m\u001b[0m\u001b[0m\n\u001b[0m\u001b[1;32m   3373\u001b[0m \u001b[0;34m\u001b[0m\u001b[0m\n\u001b[1;32m   3374\u001b[0m         \u001b[0;32mif\u001b[0m \u001b[0mgui\u001b[0m \u001b[0;34m!=\u001b[0m \u001b[0;34m'inline'\u001b[0m\u001b[0;34m:\u001b[0m\u001b[0;34m\u001b[0m\u001b[0;34m\u001b[0m\u001b[0m\n",
      "\u001b[0;32m~/anaconda3/envs/udmNLPy0-hero/lib/python3.7/site-packages/IPython/core/pylabtools.py\u001b[0m in \u001b[0;36mfind_gui_and_backend\u001b[0;34m(gui, gui_select)\u001b[0m\n\u001b[1;32m    274\u001b[0m     \"\"\"\n\u001b[1;32m    275\u001b[0m \u001b[0;34m\u001b[0m\u001b[0m\n\u001b[0;32m--> 276\u001b[0;31m     \u001b[0;32mimport\u001b[0m \u001b[0mmatplotlib\u001b[0m\u001b[0;34m\u001b[0m\u001b[0;34m\u001b[0m\u001b[0m\n\u001b[0m\u001b[1;32m    277\u001b[0m \u001b[0;34m\u001b[0m\u001b[0m\n\u001b[1;32m    278\u001b[0m     \u001b[0;32mif\u001b[0m \u001b[0mgui\u001b[0m \u001b[0;32mand\u001b[0m \u001b[0mgui\u001b[0m \u001b[0;34m!=\u001b[0m \u001b[0;34m'auto'\u001b[0m\u001b[0;34m:\u001b[0m\u001b[0;34m\u001b[0m\u001b[0;34m\u001b[0m\u001b[0m\n",
      "\u001b[0;31mModuleNotFoundError\u001b[0m: No module named 'matplotlib'"
     ]
    }
   ],
   "source": [
    "%matplotlib inline\n",
    "token_freq.plot(20, cumulative=False)"
   ]
  },
  {
   "cell_type": "code",
   "execution_count": 17,
   "metadata": {},
   "outputs": [
    {
     "ename": "ModuleNotFoundError",
     "evalue": "No module named 'matplotlib'",
     "output_type": "error",
     "traceback": [
      "\u001b[0;31m---------------------------------------------------------------------------\u001b[0m",
      "\u001b[0;31mModuleNotFoundError\u001b[0m                       Traceback (most recent call last)",
      "\u001b[0;32m<ipython-input-17-0484cd13f94d>\u001b[0m in \u001b[0;36m<module>\u001b[0;34m\u001b[0m\n\u001b[0;32m----> 1\u001b[0;31m \u001b[0;32mimport\u001b[0m \u001b[0mmatplotlib\u001b[0m\u001b[0;34m\u001b[0m\u001b[0;34m\u001b[0m\u001b[0m\n\u001b[0m",
      "\u001b[0;31mModuleNotFoundError\u001b[0m: No module named 'matplotlib'"
     ]
    }
   ],
   "source": [
    "import matplotlib"
   ]
  },
  {
   "cell_type": "code",
   "execution_count": 18,
   "metadata": {},
   "outputs": [
    {
     "name": "stdout",
     "output_type": "stream",
     "text": [
      "Collecting matplotlib\n",
      "\u001b[?25l  Downloading https://files.pythonhosted.org/packages/19/7a/60bd79c5d79559150f8bba866dd7d434f0a170312e4d15e8aefa5faba294/matplotlib-3.1.1-cp37-cp37m-manylinux1_x86_64.whl (13.1MB)\n",
      "\u001b[K     |████████████████████████████████| 13.1MB 2.6MB/s eta 0:00:01\n",
      "\u001b[?25hRequirement already satisfied: python-dateutil>=2.1 in /home/vitor/anaconda3/envs/udmNLPy0-hero/lib/python3.7/site-packages (from matplotlib) (2.8.0)\n",
      "Collecting kiwisolver>=1.0.1 (from matplotlib)\n",
      "\u001b[?25l  Downloading https://files.pythonhosted.org/packages/93/f8/518fb0bb89860eea6ff1b96483fbd9236d5ee991485d0f3eceff1770f654/kiwisolver-1.1.0-cp37-cp37m-manylinux1_x86_64.whl (90kB)\n",
      "\u001b[K     |████████████████████████████████| 92kB 800kB/s eta 0:00:011\n",
      "\u001b[?25hCollecting cycler>=0.10 (from matplotlib)\n",
      "  Using cached https://files.pythonhosted.org/packages/f7/d2/e07d3ebb2bd7af696440ce7e754c59dd546ffe1bbe732c8ab68b9c834e61/cycler-0.10.0-py2.py3-none-any.whl\n",
      "Collecting pyparsing!=2.0.4,!=2.1.2,!=2.1.6,>=2.0.1 (from matplotlib)\n",
      "\u001b[?25l  Downloading https://files.pythonhosted.org/packages/11/fa/0160cd525c62d7abd076a070ff02b2b94de589f1a9789774f17d7c54058e/pyparsing-2.4.2-py2.py3-none-any.whl (65kB)\n",
      "\u001b[K     |████████████████████████████████| 71kB 789kB/s eta 0:00:011\n",
      "\u001b[?25hCollecting numpy>=1.11 (from matplotlib)\n",
      "\u001b[?25l  Downloading https://files.pythonhosted.org/packages/05/4b/55cfbfd3e5e85016eeef9f21c0ec809d978706a0d60b62cc28aeec8c792f/numpy-1.17.0-cp37-cp37m-manylinux1_x86_64.whl (20.3MB)\n",
      "\u001b[K     |████████████████████████████████| 20.3MB 3.3MB/s eta 0:00:01\n",
      "\u001b[?25hRequirement already satisfied: six>=1.5 in /home/vitor/anaconda3/envs/udmNLPy0-hero/lib/python3.7/site-packages (from python-dateutil>=2.1->matplotlib) (1.12.0)\n",
      "Requirement already satisfied: setuptools in /home/vitor/anaconda3/envs/udmNLPy0-hero/lib/python3.7/site-packages (from kiwisolver>=1.0.1->matplotlib) (41.0.1)\n",
      "Installing collected packages: kiwisolver, cycler, pyparsing, numpy, matplotlib\n",
      "Successfully installed cycler-0.10.0 kiwisolver-1.1.0 matplotlib-3.1.1 numpy-1.17.0 pyparsing-2.4.2\n",
      "Note: you may need to restart the kernel to use updated packages.\n"
     ]
    }
   ],
   "source": [
    "pip install matplotlib"
   ]
  },
  {
   "cell_type": "code",
   "execution_count": 19,
   "metadata": {},
   "outputs": [],
   "source": [
    "import matplotlib"
   ]
  },
  {
   "cell_type": "code",
   "execution_count": 20,
   "metadata": {},
   "outputs": [
    {
     "data": {
      "image/png": "[encoded data removed]",
      "text/plain": [
       "<Figure size 432x288 with 1 Axes>"
      ]
     },
     "metadata": {
      "needs_background": "light"
     },
     "output_type": "display_data"
    },
    {
     "data": {
      "text/plain": [
       "<matplotlib.axes._subplots.AxesSubplot at 0x7fb44e1c6128>"
      ]
     },
     "execution_count": 20,
     "metadata": {},
     "output_type": "execute_result"
    }
   ],
   "source": [
    "%matplotlib inline\n",
    "token_freq.plot(20, cumulative=False)"
   ]
  },
  {
   "cell_type": "code",
   "execution_count": 21,
   "metadata": {},
   "outputs": [
    {
     "ename": "LookupError",
     "evalue": "\n**********************************************************************\n  Resource \u001b[93mstopwords\u001b[0m not found.\n  Please use the NLTK Downloader to obtain the resource:\n\n  \u001b[31m>>> import nltk\n  >>> nltk.download('stopwords')\n  \u001b[0m\n  For more information see: https://www.nltk.org/data.html\n\n  Attempted to load \u001b[93mcorpora/stopwords\u001b[0m\n\n  Searched in:\n    - '/home/vitor/nltk_data'\n    - '/home/vitor/anaconda3/envs/udmNLPy0-hero/nltk_data'\n    - '/home/vitor/anaconda3/envs/udmNLPy0-hero/share/nltk_data'\n    - '/home/vitor/anaconda3/envs/udmNLPy0-hero/lib/nltk_data'\n    - '/usr/share/nltk_data'\n    - '/usr/local/share/nltk_data'\n    - '/usr/lib/nltk_data'\n    - '/usr/local/lib/nltk_data'\n**********************************************************************\n",
     "output_type": "error",
     "traceback": [
      "\u001b[0;31m---------------------------------------------------------------------------\u001b[0m",
      "\u001b[0;31mLookupError\u001b[0m                               Traceback (most recent call last)",
      "\u001b[0;32m~/anaconda3/envs/udmNLPy0-hero/lib/python3.7/site-packages/nltk/corpus/util.py\u001b[0m in \u001b[0;36m__load\u001b[0;34m(self)\u001b[0m\n\u001b[1;32m     85\u001b[0m                 \u001b[0;32mtry\u001b[0m\u001b[0;34m:\u001b[0m\u001b[0;34m\u001b[0m\u001b[0;34m\u001b[0m\u001b[0m\n\u001b[0;32m---> 86\u001b[0;31m                     \u001b[0mroot\u001b[0m \u001b[0;34m=\u001b[0m \u001b[0mnltk\u001b[0m\u001b[0;34m.\u001b[0m\u001b[0mdata\u001b[0m\u001b[0;34m.\u001b[0m\u001b[0mfind\u001b[0m\u001b[0;34m(\u001b[0m\u001b[0;34m'{}/{}'\u001b[0m\u001b[0;34m.\u001b[0m\u001b[0mformat\u001b[0m\u001b[0;34m(\u001b[0m\u001b[0mself\u001b[0m\u001b[0;34m.\u001b[0m\u001b[0msubdir\u001b[0m\u001b[0;34m,\u001b[0m \u001b[0mzip_name\u001b[0m\u001b[0;34m)\u001b[0m\u001b[0;34m)\u001b[0m\u001b[0;34m\u001b[0m\u001b[0;34m\u001b[0m\u001b[0m\n\u001b[0m\u001b[1;32m     87\u001b[0m                 \u001b[0;32mexcept\u001b[0m \u001b[0mLookupError\u001b[0m\u001b[0;34m:\u001b[0m\u001b[0;34m\u001b[0m\u001b[0;34m\u001b[0m\u001b[0m\n",
      "\u001b[0;32m~/anaconda3/envs/udmNLPy0-hero/lib/python3.7/site-packages/nltk/data.py\u001b[0m in \u001b[0;36mfind\u001b[0;34m(resource_name, paths)\u001b[0m\n\u001b[1;32m    700\u001b[0m     \u001b[0mresource_not_found\u001b[0m \u001b[0;34m=\u001b[0m \u001b[0;34m'\\n%s\\n%s\\n%s\\n'\u001b[0m \u001b[0;34m%\u001b[0m \u001b[0;34m(\u001b[0m\u001b[0msep\u001b[0m\u001b[0;34m,\u001b[0m \u001b[0mmsg\u001b[0m\u001b[0;34m,\u001b[0m \u001b[0msep\u001b[0m\u001b[0;34m)\u001b[0m\u001b[0;34m\u001b[0m\u001b[0;34m\u001b[0m\u001b[0m\n\u001b[0;32m--> 701\u001b[0;31m     \u001b[0;32mraise\u001b[0m \u001b[0mLookupError\u001b[0m\u001b[0;34m(\u001b[0m\u001b[0mresource_not_found\u001b[0m\u001b[0;34m)\u001b[0m\u001b[0;34m\u001b[0m\u001b[0;34m\u001b[0m\u001b[0m\n\u001b[0m\u001b[1;32m    702\u001b[0m \u001b[0;34m\u001b[0m\u001b[0m\n",
      "\u001b[0;31mLookupError\u001b[0m: \n**********************************************************************\n  Resource \u001b[93mstopwords\u001b[0m not found.\n  Please use the NLTK Downloader to obtain the resource:\n\n  \u001b[31m>>> import nltk\n  >>> nltk.download('stopwords')\n  \u001b[0m\n  For more information see: https://www.nltk.org/data.html\n\n  Attempted to load \u001b[93mcorpora/stopwords.zip/stopwords/\u001b[0m\n\n  Searched in:\n    - '/home/vitor/nltk_data'\n    - '/home/vitor/anaconda3/envs/udmNLPy0-hero/nltk_data'\n    - '/home/vitor/anaconda3/envs/udmNLPy0-hero/share/nltk_data'\n    - '/home/vitor/anaconda3/envs/udmNLPy0-hero/lib/nltk_data'\n    - '/usr/share/nltk_data'\n    - '/usr/local/share/nltk_data'\n    - '/usr/lib/nltk_data'\n    - '/usr/local/lib/nltk_data'\n**********************************************************************\n",
      "\nDuring handling of the above exception, another exception occurred:\n",
      "\u001b[0;31mLookupError\u001b[0m                               Traceback (most recent call last)",
      "\u001b[0;32m<ipython-input-21-ac85819eaadd>\u001b[0m in \u001b[0;36m<module>\u001b[0;34m\u001b[0m\n\u001b[1;32m      1\u001b[0m \u001b[0;32mfrom\u001b[0m \u001b[0mnltk\u001b[0m\u001b[0;34m.\u001b[0m\u001b[0mcorpus\u001b[0m \u001b[0;32mimport\u001b[0m \u001b[0mstopwords\u001b[0m\u001b[0;34m\u001b[0m\u001b[0;34m\u001b[0m\u001b[0m\n\u001b[0;32m----> 2\u001b[0;31m \u001b[0mstop_words\u001b[0m\u001b[0;34m=\u001b[0m\u001b[0mset\u001b[0m\u001b[0;34m(\u001b[0m\u001b[0mstopwords\u001b[0m\u001b[0;34m.\u001b[0m\u001b[0mwords\u001b[0m\u001b[0;34m(\u001b[0m\u001b[0;34m'english'\u001b[0m\u001b[0;34m)\u001b[0m\u001b[0;34m)\u001b[0m\u001b[0;34m\u001b[0m\u001b[0;34m\u001b[0m\u001b[0m\n\u001b[0m\u001b[1;32m      3\u001b[0m \u001b[0mprint\u001b[0m\u001b[0;34m(\u001b[0m\u001b[0mstop_words\u001b[0m\u001b[0;34m)\u001b[0m\u001b[0;34m\u001b[0m\u001b[0;34m\u001b[0m\u001b[0m\n",
      "\u001b[0;32m~/anaconda3/envs/udmNLPy0-hero/lib/python3.7/site-packages/nltk/corpus/util.py\u001b[0m in \u001b[0;36m__getattr__\u001b[0;34m(self, attr)\u001b[0m\n\u001b[1;32m    121\u001b[0m             \u001b[0;32mraise\u001b[0m \u001b[0mAttributeError\u001b[0m\u001b[0;34m(\u001b[0m\u001b[0;34m\"LazyCorpusLoader object has no attribute '__bases__'\"\u001b[0m\u001b[0;34m)\u001b[0m\u001b[0;34m\u001b[0m\u001b[0;34m\u001b[0m\u001b[0m\n\u001b[1;32m    122\u001b[0m \u001b[0;34m\u001b[0m\u001b[0m\n\u001b[0;32m--> 123\u001b[0;31m         \u001b[0mself\u001b[0m\u001b[0;34m.\u001b[0m\u001b[0m__load\u001b[0m\u001b[0;34m(\u001b[0m\u001b[0;34m)\u001b[0m\u001b[0;34m\u001b[0m\u001b[0;34m\u001b[0m\u001b[0m\n\u001b[0m\u001b[1;32m    124\u001b[0m         \u001b[0;31m# This looks circular, but its not, since __load() changes our\u001b[0m\u001b[0;34m\u001b[0m\u001b[0;34m\u001b[0m\u001b[0;34m\u001b[0m\u001b[0m\n\u001b[1;32m    125\u001b[0m         \u001b[0;31m# __class__ to something new:\u001b[0m\u001b[0;34m\u001b[0m\u001b[0;34m\u001b[0m\u001b[0;34m\u001b[0m\u001b[0m\n",
      "\u001b[0;32m~/anaconda3/envs/udmNLPy0-hero/lib/python3.7/site-packages/nltk/corpus/util.py\u001b[0m in \u001b[0;36m__load\u001b[0;34m(self)\u001b[0m\n\u001b[1;32m     86\u001b[0m                     \u001b[0mroot\u001b[0m \u001b[0;34m=\u001b[0m \u001b[0mnltk\u001b[0m\u001b[0;34m.\u001b[0m\u001b[0mdata\u001b[0m\u001b[0;34m.\u001b[0m\u001b[0mfind\u001b[0m\u001b[0;34m(\u001b[0m\u001b[0;34m'{}/{}'\u001b[0m\u001b[0;34m.\u001b[0m\u001b[0mformat\u001b[0m\u001b[0;34m(\u001b[0m\u001b[0mself\u001b[0m\u001b[0;34m.\u001b[0m\u001b[0msubdir\u001b[0m\u001b[0;34m,\u001b[0m \u001b[0mzip_name\u001b[0m\u001b[0;34m)\u001b[0m\u001b[0;34m)\u001b[0m\u001b[0;34m\u001b[0m\u001b[0;34m\u001b[0m\u001b[0m\n\u001b[1;32m     87\u001b[0m                 \u001b[0;32mexcept\u001b[0m \u001b[0mLookupError\u001b[0m\u001b[0;34m:\u001b[0m\u001b[0;34m\u001b[0m\u001b[0;34m\u001b[0m\u001b[0m\n\u001b[0;32m---> 88\u001b[0;31m                     \u001b[0;32mraise\u001b[0m \u001b[0me\u001b[0m\u001b[0;34m\u001b[0m\u001b[0;34m\u001b[0m\u001b[0m\n\u001b[0m\u001b[1;32m     89\u001b[0m \u001b[0;34m\u001b[0m\u001b[0m\n\u001b[1;32m     90\u001b[0m         \u001b[0;31m# Load the corpus.\u001b[0m\u001b[0;34m\u001b[0m\u001b[0;34m\u001b[0m\u001b[0;34m\u001b[0m\u001b[0m\n",
      "\u001b[0;32m~/anaconda3/envs/udmNLPy0-hero/lib/python3.7/site-packages/nltk/corpus/util.py\u001b[0m in \u001b[0;36m__load\u001b[0;34m(self)\u001b[0m\n\u001b[1;32m     81\u001b[0m         \u001b[0;32melse\u001b[0m\u001b[0;34m:\u001b[0m\u001b[0;34m\u001b[0m\u001b[0;34m\u001b[0m\u001b[0m\n\u001b[1;32m     82\u001b[0m             \u001b[0;32mtry\u001b[0m\u001b[0;34m:\u001b[0m\u001b[0;34m\u001b[0m\u001b[0;34m\u001b[0m\u001b[0m\n\u001b[0;32m---> 83\u001b[0;31m                 \u001b[0mroot\u001b[0m \u001b[0;34m=\u001b[0m \u001b[0mnltk\u001b[0m\u001b[0;34m.\u001b[0m\u001b[0mdata\u001b[0m\u001b[0;34m.\u001b[0m\u001b[0mfind\u001b[0m\u001b[0;34m(\u001b[0m\u001b[0;34m'{}/{}'\u001b[0m\u001b[0;34m.\u001b[0m\u001b[0mformat\u001b[0m\u001b[0;34m(\u001b[0m\u001b[0mself\u001b[0m\u001b[0;34m.\u001b[0m\u001b[0msubdir\u001b[0m\u001b[0;34m,\u001b[0m \u001b[0mself\u001b[0m\u001b[0;34m.\u001b[0m\u001b[0m__name\u001b[0m\u001b[0;34m)\u001b[0m\u001b[0;34m)\u001b[0m\u001b[0;34m\u001b[0m\u001b[0;34m\u001b[0m\u001b[0m\n\u001b[0m\u001b[1;32m     84\u001b[0m             \u001b[0;32mexcept\u001b[0m \u001b[0mLookupError\u001b[0m \u001b[0;32mas\u001b[0m \u001b[0me\u001b[0m\u001b[0;34m:\u001b[0m\u001b[0;34m\u001b[0m\u001b[0;34m\u001b[0m\u001b[0m\n\u001b[1;32m     85\u001b[0m                 \u001b[0;32mtry\u001b[0m\u001b[0;34m:\u001b[0m\u001b[0;34m\u001b[0m\u001b[0;34m\u001b[0m\u001b[0m\n",
      "\u001b[0;32m~/anaconda3/envs/udmNLPy0-hero/lib/python3.7/site-packages/nltk/data.py\u001b[0m in \u001b[0;36mfind\u001b[0;34m(resource_name, paths)\u001b[0m\n\u001b[1;32m    699\u001b[0m     \u001b[0msep\u001b[0m \u001b[0;34m=\u001b[0m \u001b[0;34m'*'\u001b[0m \u001b[0;34m*\u001b[0m \u001b[0;36m70\u001b[0m\u001b[0;34m\u001b[0m\u001b[0;34m\u001b[0m\u001b[0m\n\u001b[1;32m    700\u001b[0m     \u001b[0mresource_not_found\u001b[0m \u001b[0;34m=\u001b[0m \u001b[0;34m'\\n%s\\n%s\\n%s\\n'\u001b[0m \u001b[0;34m%\u001b[0m \u001b[0;34m(\u001b[0m\u001b[0msep\u001b[0m\u001b[0;34m,\u001b[0m \u001b[0mmsg\u001b[0m\u001b[0;34m,\u001b[0m \u001b[0msep\u001b[0m\u001b[0;34m)\u001b[0m\u001b[0;34m\u001b[0m\u001b[0;34m\u001b[0m\u001b[0m\n\u001b[0;32m--> 701\u001b[0;31m     \u001b[0;32mraise\u001b[0m \u001b[0mLookupError\u001b[0m\u001b[0;34m(\u001b[0m\u001b[0mresource_not_found\u001b[0m\u001b[0;34m)\u001b[0m\u001b[0;34m\u001b[0m\u001b[0;34m\u001b[0m\u001b[0m\n\u001b[0m\u001b[1;32m    702\u001b[0m \u001b[0;34m\u001b[0m\u001b[0m\n\u001b[1;32m    703\u001b[0m \u001b[0;34m\u001b[0m\u001b[0m\n",
      "\u001b[0;31mLookupError\u001b[0m: \n**********************************************************************\n  Resource \u001b[93mstopwords\u001b[0m not found.\n  Please use the NLTK Downloader to obtain the resource:\n\n  \u001b[31m>>> import nltk\n  >>> nltk.download('stopwords')\n  \u001b[0m\n  For more information see: https://www.nltk.org/data.html\n\n  Attempted to load \u001b[93mcorpora/stopwords\u001b[0m\n\n  Searched in:\n    - '/home/vitor/nltk_data'\n    - '/home/vitor/anaconda3/envs/udmNLPy0-hero/nltk_data'\n    - '/home/vitor/anaconda3/envs/udmNLPy0-hero/share/nltk_data'\n    - '/home/vitor/anaconda3/envs/udmNLPy0-hero/lib/nltk_data'\n    - '/usr/share/nltk_data'\n    - '/usr/local/share/nltk_data'\n    - '/usr/lib/nltk_data'\n    - '/usr/local/lib/nltk_data'\n**********************************************************************\n"
     ]
    }
   ],
   "source": [
    "from nltk.corpus import stopwords\n",
    "stop_words=set(stopwords.words('english'))\n",
    "print(stop_words)"
   ]
  },
  {
   "cell_type": "code",
   "execution_count": 22,
   "metadata": {},
   "outputs": [
    {
     "name": "stderr",
     "output_type": "stream",
     "text": [
      "[nltk_data] Downloading package stopwords to /home/vitor/nltk_data...\n",
      "[nltk_data]   Unzipping corpora/stopwords.zip.\n"
     ]
    },
    {
     "data": {
      "text/plain": [
       "True"
      ]
     },
     "execution_count": 22,
     "metadata": {},
     "output_type": "execute_result"
    }
   ],
   "source": [
    "nltk.download('stopwords')"
   ]
  },
  {
   "cell_type": "code",
   "execution_count": 23,
   "metadata": {},
   "outputs": [
    {
     "name": "stdout",
     "output_type": "stream",
     "text": [
      "{'just', 'll', 'their', 'are', \"don't\", 'shan', \"shan't\", 'nor', 'shouldn', 'how', 'yourself', \"aren't\", \"wasn't\", \"isn't\", 'then', 'was', 'wasn', 'is', 'until', 'here', 'am', 'further', \"doesn't\", 'had', 'isn', \"shouldn't\", 'before', 'when', 'hadn', 'him', 'not', 'them', 'we', 'during', 'in', 'over', 'as', 'ma', 'will', 'too', 'yourselves', 'on', 'each', 'couldn', 'our', 'itself', 'he', 'off', 'd', 'needn', 'if', 'you', 'by', \"it's\", 'theirs', 'ain', 'who', 'or', 't', 'himself', \"she's\", 'once', \"hadn't\", 'aren', 'did', 'doesn', 'such', \"that'll\", 'between', 'hers', 'the', 'under', 'a', 'where', 'these', 'hasn', 'through', \"you'll\", 'same', 'mightn', 'those', 'she', 'any', 'why', \"hasn't\", 'from', 'for', 'about', 'more', 'has', 'some', 'very', 'an', 'most', 'doing', 'themselves', 'what', \"couldn't\", 'with', 'wouldn', 'below', \"wouldn't\", 'yours', 'because', 'me', 'herself', 'your', 'above', 'being', 'only', \"won't\", 'to', 'out', 'few', 'into', 'up', 'm', 'its', 'been', \"you're\", 'no', 'down', 'my', 'at', 'can', \"weren't\", 'both', 'be', 's', 'again', 'of', \"should've\", \"mightn't\", 'does', 'should', \"mustn't\", 'her', 'i', 'they', 'now', 'mustn', 'which', 'his', 'haven', 'weren', 'do', \"you'd\", 'against', 'this', 'don', \"needn't\", 'that', 'having', 'all', 'didn', \"haven't\", 'than', 'o', 'own', \"you've\", 'it', 've', \"didn't\", 'ourselves', 'there', 'won', 're', 'while', 'y', 'other', 'have', 'myself', 'and', 'after', 'so', 'were', 'ours', 'but', 'whom'}\n"
     ]
    }
   ],
   "source": [
    "from nltk.corpus import stopwords\n",
    "stop_words=set(stopwords.words('english'))\n",
    "print(stop_words)"
   ]
  },
  {
   "cell_type": "code",
   "execution_count": 27,
   "metadata": {},
   "outputs": [
    {
     "name": "stdout",
     "output_type": "stream",
     "text": [
      "['answer', 'question', 'universe', 'expansion', 'rate', 'something', 'called', 'hubble', 'constant', 'named', 'astronomer', 'edwin', 'hubble', 'discovered', '1920s', 'universe', 'expanding', 'galaxies', 'recede', 'us', 'speeds', 'proportional', 'distances', 'going', 'faster', 'farther', 'away', 'hubble', 'constant', 'codifies', 'relationship', 'cosmic', 'distances', 'velocities', 'reveals', 'much', 'making', 'interest', 'astronomers', 'also', 'cosmologists', 'physicists', 'constant', 'represents', 'expansion', 'rate', 'particular', 'moment', 'universe', 'long', 'history', 'measuring', 'value', 'time', 'provides', 'expansive', 'view', 'universe', 'evolves', 'eons', 'giving', 'researchers', 'crucial', 'clues', 'cosmic', 'origins', 'future', 'somehow', 'beckoned', 'void', 'billions', 'outward', 'rushing', 'galaxies', 'also', 'feel', 'collective', 'gravitational', 'pull', 'everything', 'rearview', 'mirror', 'trying', 'tug', 'back', 'hubble', 'constant', 'reflects', 'sum', 'total', 'stuff', 'universe', 'forces', 'acting', 'weighing', 'whether', 'gravity', 'void', 'ultimately', 'win', 'intergalactic', 'tug', 'war', 'universe', 'contents', 'could', 'eventually', 'reverse', 'expansion', 'scenario', 'called', 'big', 'crunch', 'gravity', 'pulls', 'everything', 'back', 'infinitely', 'hot', 'dense', 'point', 'like', 'one', 'birthed', 'big', 'bang', 'universe', 'might', 'steadily', 'expand', 'indefinitely', 'growing', 'ever', 'colder', 'listless', 'big', 'chill', 'offers', 'endless', 'space', 'time', 'ultimately', 'little', 'maybe', 'cosmic', 'expansion', 'dramatically', 'speed', 'becoming', 'unruly', 'bucks', 'riders', 'accelerating', 'universe', 'could', 'sunder', 'galaxies', 'stars', 'planets', 'atoms', 'subatomic', 'particles', 'even', 'fabric', 'reality', 'splits', 'seams', 'big', 'rip', 'leaves', 'practically', 'nothing', 'behind', 'universe', 'end', 'fire', 'ice', 'emptiness', 'hubble', 'constant', 'knows', 'tension', 'resolved', 'answer', 'unclear']\n"
     ]
    }
   ],
   "source": [
    "def remove_stopwords(words):\n",
    "    \n",
    "    filtered_words = []\n",
    "    for word in words:\n",
    "        if word not in stop_words:\n",
    "            filtered_words.append(word)\n",
    "            \n",
    "    return filtered_words\n",
    "    \n",
    "print(remove_stopwords(tokens))"
   ]
  },
  {
   "cell_type": "code",
   "execution_count": 29,
   "metadata": {},
   "outputs": [
    {
     "data": {
      "image/png": "[encoded data removed]",
      "text/plain": [
       "<Figure size 432x288 with 1 Axes>"
      ]
     },
     "metadata": {
      "needs_background": "light"
     },
     "output_type": "display_data"
    },
    {
     "data": {
      "text/plain": [
       "<matplotlib.axes._subplots.AxesSubplot at 0x7fb44cd11780>"
      ]
     },
     "execution_count": 29,
     "metadata": {},
     "output_type": "execute_result"
    }
   ],
   "source": [
    "%matplotlib inline\n",
    "token_freq=nltk.FreqDist(remove_stopwords(tokens))\n",
    "token_freq.plot(20, cumulative=False)"
   ]
  },
  {
   "cell_type": "code",
   "execution_count": 31,
   "metadata": {},
   "outputs": [
    {
     "name": "stdout",
     "output_type": "stream",
     "text": [
      "['the answer to the question of the universe’s expansion rate is something called the hubble constant, named after the astronomer edwin hubble who discovered in the 1920s that the universe is expanding.', 'galaxies recede from us at speeds proportional to their distances, going faster the farther away they are.', 'the hubble constant codifies this relationship between cosmic distances and velocities.', 'but in doing so it reveals much more, making it of interest not only to astronomers but also to cosmologists and physicists.', 'because the constant represents the expansion rate at any particular moment in the universe’s long history, measuring its value over time provides an expansive view of how the universe evolves over the eons, giving researchers crucial clues to our cosmic origins and future.', 'somehow beckoned by the void, billions of outward-rushing galaxies also feel the collective gravitational pull of everything in the rearview mirror trying to tug them back.', 'the hubble constant reflects the sum total of all the stuff in the universe and the forces acting on it—weighing in on whether gravity or the void will ultimately win this intergalactic tug-of-war.', 'the universe’s contents could eventually reverse the expansion—a scenario called the “big crunch,” in which gravity pulls everything back into an infinitely hot and dense point like the one that birthed the big bang.', 'or the universe might steadily expand indefinitely, growing ever colder and listless in a “big chill” that offers endless space and time—but ultimately very little to do.', 'or just maybe the cosmic expansion will dramatically speed up, becoming so unruly that it bucks all its riders.', 'such an accelerating universe could sunder galaxies, then stars, then planets, atoms and subatomic particles until even the fabric of reality itself splits at its seams in a “big rip” that leaves practically nothing behind.', 'will the universe end in fire, ice or emptiness?', 'the hubble constant knows—but until the tension is resolved, the answer is unclear.']\n"
     ]
    }
   ],
   "source": [
    "sents = nltk.sent_tokenize(sample_text)\n",
    "print(sents)"
   ]
  },
  {
   "cell_type": "code",
   "execution_count": 32,
   "metadata": {},
   "outputs": [
    {
     "data": {
      "text/plain": [
       "'galaxies recede from us at speeds proportional to their distances, going faster the farther away they are.'"
      ]
     },
     "execution_count": 32,
     "metadata": {},
     "output_type": "execute_result"
    }
   ],
   "source": [
    "sents[1]"
   ]
  },
  {
   "cell_type": "code",
   "execution_count": 34,
   "metadata": {},
   "outputs": [
    {
     "data": {
      "text/plain": [
       "'!\"#$%&\\'()*+,-./:;<=>?@[\\\\]^_`{|}~'"
      ]
     },
     "execution_count": 34,
     "metadata": {},
     "output_type": "execute_result"
    }
   ],
   "source": [
    "import string\n",
    "\n",
    "string.punctuation"
   ]
  },
  {
   "cell_type": "code",
   "execution_count": 36,
   "metadata": {},
   "outputs": [
    {
     "name": "stdout",
     "output_type": "stream",
     "text": [
      "['the', 'answer', 'to', 'the', 'question', 'of', 'the', 'universe', '’', 's', 'expansion', 'rate', 'is', 'something', 'called', 'the', 'hubble', 'constant', 'named', 'after', 'the', 'astronomer', 'edwin', 'hubble', 'who', 'discovered', 'in', 'the', '1920s', 'that', 'the', 'universe', 'is', 'expanding', 'galaxies', 'recede', 'from', 'us', 'at', 'speeds', 'proportional', 'to', 'their', 'distances', 'going', 'faster', 'the', 'farther', 'away', 'they', 'are', 'the', 'hubble', 'constant', 'codifies', 'this', 'relationship', 'between', 'cosmic', 'distances', 'and', 'velocities', 'but', 'in', 'doing', 'so', 'it', 'reveals', 'much', 'more', 'making', 'it', 'of', 'interest', 'not', 'only', 'to', 'astronomers', 'but', 'also', 'to', 'cosmologists', 'and', 'physicists', 'because', 'the', 'constant', 'represents', 'the', 'expansion', 'rate', 'at', 'any', 'particular', 'moment', 'in', 'the', 'universe', '’', 's', 'long', 'history', 'measuring', 'its', 'value', 'over', 'time', 'provides', 'an', 'expansive', 'view', 'of', 'how', 'the', 'universe', 'evolves', 'over', 'the', 'eons', 'giving', 'researchers', 'crucial', 'clues', 'to', 'our', 'cosmic', 'origins', 'and', 'future', 'somehow', 'beckoned', 'by', 'the', 'void', 'billions', 'of', 'outwardrushing', 'galaxies', 'also', 'feel', 'the', 'collective', 'gravitational', 'pull', 'of', 'everything', 'in', 'the', 'rearview', 'mirror', 'trying', 'to', 'tug', 'them', 'back', 'the', 'hubble', 'constant', 'reflects', 'the', 'sum', 'total', 'of', 'all', 'the', 'stuff', 'in', 'the', 'universe', 'and', 'the', 'forces', 'acting', 'on', 'it—weighing', 'in', 'on', 'whether', 'gravity', 'or', 'the', 'void', 'will', 'ultimately', 'win', 'this', 'intergalactic', 'tugofwar', 'the', 'universe', '’', 's', 'contents', 'could', 'eventually', 'reverse', 'the', 'expansion—a', 'scenario', 'called', 'the', '“', 'big', 'crunch', '”', 'in', 'which', 'gravity', 'pulls', 'everything', 'back', 'into', 'an', 'infinitely', 'hot', 'and', 'dense', 'point', 'like', 'the', 'one', 'that', 'birthed', 'the', 'big', 'bang', 'or', 'the', 'universe', 'might', 'steadily', 'expand', 'indefinitely', 'growing', 'ever', 'colder', 'and', 'listless', 'in', 'a', '“', 'big', 'chill', '”', 'that', 'offers', 'endless', 'space', 'and', 'time—but', 'ultimately', 'very', 'little', 'to', 'do', 'or', 'just', 'maybe', 'the', 'cosmic', 'expansion', 'will', 'dramatically', 'speed', 'up', 'becoming', 'so', 'unruly', 'that', 'it', 'bucks', 'all', 'its', 'riders', 'such', 'an', 'accelerating', 'universe', 'could', 'sunder', 'galaxies', 'then', 'stars', 'then', 'planets', 'atoms', 'and', 'subatomic', 'particles', 'until', 'even', 'the', 'fabric', 'of', 'reality', 'itself', 'splits', 'at', 'its', 'seams', 'in', 'a', '“', 'big', 'rip', '”', 'that', 'leaves', 'practically', 'nothing', 'behind', 'will', 'the', 'universe', 'end', 'in', 'fire', 'ice', 'or', 'emptiness', 'the', 'hubble', 'constant', 'knows—but', 'until', 'the', 'tension', 'is', 'resolved', 'the', 'answer', 'is', 'unclear']\n"
     ]
    }
   ],
   "source": [
    "new_text=''.join([i for i in sample_text if i not in string.punctuation])\n",
    "print(nltk.word_tokenize(new_text))"
   ]
  },
  {
   "cell_type": "code",
   "execution_count": null,
   "metadata": {},
   "outputs": [],
   "source": []
  }
 ],
 "metadata": {
  "kernelspec": {
   "display_name": "Python 3",
   "language": "python",
   "name": "python3"
  },
  "language_info": {
   "codemirror_mode": {
    "name": "ipython",
    "version": 3
   },
   "file_extension": ".py",
   "mimetype": "text/x-python",
   "name": "python",
   "nbconvert_exporter": "python",
   "pygments_lexer": "ipython3",
   "version": "3.7.3"
  }
 },
 "nbformat": 4,
 "nbformat_minor": 2
}
