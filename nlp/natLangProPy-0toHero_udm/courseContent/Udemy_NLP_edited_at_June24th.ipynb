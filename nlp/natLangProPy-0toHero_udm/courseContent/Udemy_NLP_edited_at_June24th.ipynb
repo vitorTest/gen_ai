{
 "cells": [
  {
   "cell_type": "markdown",
   "metadata": {},
   "source": [
    "## 2. Python NLP Libraries and Packages"
   ]
  },
  {
   "cell_type": "markdown",
   "metadata": {},
   "source": [
    "Here are the most powerful and useful NLP libraries in Python.\n",
    "\n",
    "•\t**Scikit-learn:** the most powerful and famous Machine Learning library in Python\n",
    "\n",
    "•\t**Natural Language Toolkit (NLTK):** The complete toolkit for all NLP techniques.\n",
    "\n",
    "•\t**TextBlob:** Easy to use NLP tools API, built on top of NLTK and Pattern.\n",
    "\n",
    "•\t**SpaCy:** Industrial strength NLP with Python and Cython.\n",
    "\n",
    "•\t**Gensim:** Topic Modelling for Humans\n",
    "\n",
    "•\t**Stanford Core NLP:** NLP services and packages by Stanford NLP Group.\n",
    "\n",
    "•\t**Fasttext:** NLP library for learning of word embeddings and sentence classification created by Facebook's AI Research (FAIR) lab"
   ]
  },
  {
   "cell_type": "markdown",
   "metadata": {},
   "source": [
    "Knowing when to use which package all depends on your use case. Here’s a summary:\n",
    "\n",
    "We recommend ***NLTK*** only as an education and research tool. Its modularized structure makes it excellent for learning and exploring NLP concepts, but it’s not meant for production. It’s the most famous Python NLP library, and it’s led to incredible breakthroughs in the field. \n",
    "\n",
    "NLTK is also popular for education and research. On its own website, NLTK claims to be an “an amazing library to play with natural language.” The major drawback of NLTK is that it’s heavy and slippery, and it has a steep learning curve. The second major weakness is that it’s slow and not production-ready.\n",
    "\n",
    "***TextBlob*** is built on top of NLTK, and it’s more easily-accessible. This is our favorite library for fast-prototyping or building applications that don’t require highly optimized performance. Beginners should start here.\n",
    "\n",
    "TextBlob makes text processing simple by providing an intuitive interface to NLTK. It’s a welcome addition to an already solid lineup of Python NLP libraries because it has a gentle learning curve while boasting a surprising amount of functionality.\n",
    "\n",
    "***Stanford’s CoreNLP*** is a Java library with Python wrappers. It’s in many existing production systems due to its speed.\n",
    "\n",
    "Stanford CoreNLP is a suite of production-ready natural analysis tools. It includes part-of-speech (POS) tagging, entity recognition, pattern learning, parsing, and much more. Many organizations use CoreNLP for production implementations. It’s fast, accurate, and able to support several major languages.\n",
    "\n",
    "***SpaCy*** is a new NLP library that’s designed to be fast, streamlined, and production-ready. It’s not as widely adopted, but if you’re building a new application, you should give it a try.\n",
    "\n",
    "SpaCy is minimal and opinionated, and it doesn’t flood you with options like NLTK does. Its philosophy is to only present one algorithm (the best one) for each purpose. You don’t have to make choices, and you can focus on being productive. Because it’s built on Cython, it’s also lightning-fast. \n",
    "\n",
    "***Gensim*** is most commonly used for topic modeling and similarity detection. It’s not a general-purpose NLP library, but for the tasks it does handle, it does them well.\n",
    "\n",
    "Gensim is a well-optimized library for topic modeling and document similarity analysis. Among the Python NLP libraries listed here, it’s the most specialized. Its topic modeling algorithms, such as its Latent Dirichlet Allocation (LDA) implementation, are best-in-class. In addition, it’s robust, efficient, and scalable.\n",
    "\n",
    "***Fasttext*** is mainly used for applying deep learning techniques to NLP problems.\n",
    "\n",
    "FastText combines some of the most successful concepts introduced by the natural language processing and machine learning communities in the last few decades. These include representing sentences with bag of words and bag of n-grams, as well as using subword information, and sharing information across classes through a hidden representation. \n",
    "\n",
    "It also employs a hierachical softmax that takes advantage of the unbalanced distribution of the classes to speed up computation. These different concepts are being used for two different tasks: efficient text classification and learning word vector representations."
   ]
  },
  {
   "cell_type": "markdown",
   "metadata": {},
   "source": [
    "## 3. Basic Text Processing and NLP Techniques\n",
    "\n",
    "As we discussed before, the written text or spoken language is the most unstructured form of all the available data. Before we try to extract meaningful insights from text data, we need to sanitize the data by applying some text preprocessing techniques such as tokenization, lemmatization and stopword removal. In NLP, our first goal is to prepare the text data into a format that could be handled by machine learning algorithms. For this purpose, we're going to use the NLP packages mentioned above but let's start with NLTK package at first due to its simplicity.\n",
    "\n",
    "Installing the NLTK package is the same as we install any other Python package. \n",
    "\n",
    "If we want to install in Jupyter Notebook, we just need to type the following command:\n"
   ]
  },
  {
   "cell_type": "markdown",
   "metadata": {},
   "source": [
    "##### We assume that you already know Python basics and syntax and how to import a package properly in Python 3 environment\n",
    "\n",
    "Let's see which version of Python we're using."
   ]
  },
  {
   "cell_type": "code",
   "execution_count": 222,
   "metadata": {},
   "outputs": [
    {
     "name": "stdout",
     "output_type": "stream",
     "text": [
      "Python 3.6.1 :: Anaconda 4.4.0 (x86_64)\r\n"
     ]
    }
   ],
   "source": [
    "! python -V"
   ]
  },
  {
   "cell_type": "markdown",
   "metadata": {},
   "source": [
    "In Jupyer Notebook, we can run any terminal or bash script just by using exclamation mark (!) before the commands. So, this installation is same as typing \"pip install nltk\" on terminal or command screen."
   ]
  },
  {
   "cell_type": "code",
   "execution_count": null,
   "metadata": {},
   "outputs": [],
   "source": [
    "! pip install nltk"
   ]
  },
  {
   "cell_type": "markdown",
   "metadata": {},
   "source": [
    "Installing NLTK package is a little bit different than installing other Python packages. NLTK package has many other sub modules and data that should be installed after we import NLTK.\n",
    "\n",
    "Once that we have confirmed that nltk is installed, we will have to download and install NLTK data. NLTK Data consists of the corpora and all the words in a language along with various grammar syntaxes, toy grammars, trained models, etc. They help the users to easily process languages by applying the various functions. Please note that installing nltk data is a long process it involves downloading over 1 GB of data. \n",
    "\n",
    "To download the nltk data, we at first need to import NLTK and then run \"nltk.download_shell()\" to see the download options."
   ]
  },
  {
   "cell_type": "code",
   "execution_count": 1,
   "metadata": {},
   "outputs": [],
   "source": [
    "import nltk"
   ]
  },
  {
   "cell_type": "code",
   "execution_count": null,
   "metadata": {},
   "outputs": [
    {
     "name": "stdout",
     "output_type": "stream",
     "text": [
      "NLTK Downloader\n",
      "---------------------------------------------------------------------------\n",
      "    d) Download   l) List    u) Update   c) Config   h) Help   q) Quit\n",
      "---------------------------------------------------------------------------\n",
      "Downloader> l\n",
      "\n",
      "Packages:\n",
      "  [ ] abc................. Australian Broadcasting Commission 2006\n",
      "  [ ] alpino.............. Alpino Dutch Treebank\n",
      "  [*] averaged_perceptron_tagger Averaged Perceptron Tagger\n",
      "  [ ] averaged_perceptron_tagger_ru Averaged Perceptron Tagger (Russian)\n",
      "  [ ] basque_grammars..... Grammars for Basque\n",
      "  [ ] biocreative_ppi..... BioCreAtIvE (Critical Assessment of Information\n",
      "                           Extraction Systems in Biology)\n",
      "  [ ] bllip_wsj_no_aux.... BLLIP Parser: WSJ Model\n",
      "  [ ] book_grammars....... Grammars from NLTK Book\n",
      "  [ ] brown............... Brown Corpus\n",
      "  [ ] brown_tei........... Brown Corpus (TEI XML Version)\n",
      "  [ ] cess_cat............ CESS-CAT Treebank\n",
      "  [ ] cess_esp............ CESS-ESP Treebank\n",
      "  [ ] chat80.............. Chat-80 Data Files\n",
      "  [ ] city_database....... City Database\n",
      "  [ ] cmudict............. The Carnegie Mellon Pronouncing Dictionary (0.6)\n",
      "  [ ] comparative_sentences Comparative Sentence Dataset\n",
      "  [ ] comtrans............ ComTrans Corpus Sample\n",
      "  [ ] conll2000........... CONLL 2000 Chunking Corpus\n",
      "  [ ] conll2002........... CONLL 2002 Named Entity Recognition Corpus\n"
     ]
    }
   ],
   "source": [
    "nltk.download_shell()"
   ]
  },
  {
   "cell_type": "markdown",
   "metadata": {},
   "source": [
    "There are many datasets and submoduls that could be installed one by one or we can just simply run the following command the install all:"
   ]
  },
  {
   "cell_type": "code",
   "execution_count": null,
   "metadata": {},
   "outputs": [],
   "source": [
    "nltk.download(\"all\")"
   ]
  },
  {
   "cell_type": "markdown",
   "metadata": {},
   "source": [
    "For the beginning, we suggest that you just install \"punkt\" by typing ***nltk.download(\"punkt\")***.\n",
    "\n",
    "If you're unsure of which data/model you need, you can start out with the basic list of data + models with ***nltk.download(\"popular\")***"
   ]
  },
  {
   "cell_type": "markdown",
   "metadata": {},
   "source": [
    "Now we can start playing with text data. If you need a samplee text data that you can play with, you can use sample text corpus embedded in NLTK. \n",
    "\n",
    "NLTK includes a small selection of texts from the Project Gutenberg electronic text archive, which contains some 25,000 free electronic books, hosted at http://www.gutenberg.org/. There are many other text corpuses inside NLTK such as Reuters, Brown, etc.\n",
    "\n",
    "The following command will let you download a small selection of texts from the Project Gutenberg into your system. "
   ]
  },
  {
   "cell_type": "code",
   "execution_count": 3,
   "metadata": {},
   "outputs": [
    {
     "name": "stdout",
     "output_type": "stream",
     "text": [
      "[nltk_data] Downloading package gutenberg to\n",
      "[nltk_data]     /Users/vkocaman/nltk_data...\n",
      "[nltk_data]   Unzipping corpora/gutenberg.zip.\n"
     ]
    },
    {
     "data": {
      "text/plain": [
       "True"
      ]
     },
     "execution_count": 3,
     "metadata": {},
     "output_type": "execute_result"
    }
   ],
   "source": [
    "nltk.download(\"gutenberg\")"
   ]
  },
  {
   "cell_type": "markdown",
   "metadata": {},
   "source": [
    "Now let's see the downloaded texts from Project Gutenberg. "
   ]
  },
  {
   "cell_type": "code",
   "execution_count": 4,
   "metadata": {},
   "outputs": [
    {
     "data": {
      "text/plain": [
       "['austen-emma.txt',\n",
       " 'austen-persuasion.txt',\n",
       " 'austen-sense.txt',\n",
       " 'bible-kjv.txt',\n",
       " 'blake-poems.txt',\n",
       " 'bryant-stories.txt',\n",
       " 'burgess-busterbrown.txt',\n",
       " 'carroll-alice.txt',\n",
       " 'chesterton-ball.txt',\n",
       " 'chesterton-brown.txt',\n",
       " 'chesterton-thursday.txt',\n",
       " 'edgeworth-parents.txt',\n",
       " 'melville-moby_dick.txt',\n",
       " 'milton-paradise.txt',\n",
       " 'shakespeare-caesar.txt',\n",
       " 'shakespeare-hamlet.txt',\n",
       " 'shakespeare-macbeth.txt',\n",
       " 'whitman-leaves.txt']"
      ]
     },
     "execution_count": 4,
     "metadata": {},
     "output_type": "execute_result"
    }
   ],
   "source": [
    "nltk.corpus.gutenberg.fileids()"
   ]
  },
  {
   "cell_type": "markdown",
   "metadata": {},
   "source": [
    "Then we select one of the text corpora and load it into our projeect with the following command."
   ]
  },
  {
   "cell_type": "code",
   "execution_count": 8,
   "metadata": {},
   "outputs": [],
   "source": [
    "emma = nltk.corpus.gutenberg.raw('austen-emma.txt')"
   ]
  },
  {
   "cell_type": "markdown",
   "metadata": {},
   "source": [
    "Now we loaded a whole text file into our project. Since the size of this text is quite large, we can split that by paragraph and select a few of them or just select as many words as we want by splitting into words."
   ]
  },
  {
   "cell_type": "code",
   "execution_count": 16,
   "metadata": {},
   "outputs": [
    {
     "name": "stdout",
     "output_type": "stream",
     "text": [
      "[Emma by Jane Austen 1816]\n",
      "\n",
      "VOLUME I\n",
      "\n",
      "CHAPTER I\n",
      "\n",
      "\n",
      "Emma Woodhouse, handsome, clever, and rich, with a comfortable home\n",
      "and happy disposition, seemed to unite some of the best blessings\n",
      "of existence; an\n"
     ]
    }
   ],
   "source": [
    "# here, we just print the first 200 letters from the corpus\n",
    "print (emma[:200])"
   ]
  },
  {
   "cell_type": "code",
   "execution_count": 18,
   "metadata": {},
   "outputs": [
    {
     "data": {
      "text/plain": [
       "['Woodhouse,',\n",
       " 'handsome,',\n",
       " 'clever,',\n",
       " 'and',\n",
       " 'rich,',\n",
       " 'with',\n",
       " 'a',\n",
       " 'comfortable',\n",
       " 'home',\n",
       " 'and']"
      ]
     },
     "execution_count": 18,
     "metadata": {},
     "output_type": "execute_result"
    }
   ],
   "source": [
    "# now we print the words between the places of 10 and 20\n",
    "emma.split()[10:20]"
   ]
  },
  {
   "cell_type": "markdown",
   "metadata": {},
   "source": [
    "### a. Tokenization"
   ]
  },
  {
   "cell_type": "markdown",
   "metadata": {},
   "source": [
    "But for the simplicity, we'll just create our own text and then play with it. I just copy pasted a text from a scieentific article at https://www.scientificamerican.com/article/cosmic-conflict-diverging-data-on-universes-expansion-polarizes-scientists1/ and saved as text and then read it into our project."
   ]
  },
  {
   "cell_type": "code",
   "execution_count": 1,
   "metadata": {},
   "outputs": [],
   "source": [
    "with open (\"sample_text.txt\", \"r\") as f:\n",
    "    sample_text=f.read()"
   ]
  },
  {
   "cell_type": "code",
   "execution_count": 2,
   "metadata": {},
   "outputs": [
    {
     "data": {
      "text/plain": [
       "'The answer to the question of the universe’s expansion rate is something called the Hubble constant, named after the astronomer Edwin Hubble who discovered in the 1920s that the universe is expanding. Galaxies recede from us at speeds proportional to their distances, going faster the farther away they are. The Hubble constant codifies this relationship between cosmic distances and velocities. But in doing so it reveals much more, making it of interest not only to astronomers but also to cosmologists and physicists. Because the constant represents the expansion rate at any particular moment in the universe’s long history, measuring its value over time provides an expansive view of how the universe evolves over the eons, giving researchers crucial clues to our cosmic origins and future. Somehow beckoned by the void, billions of outward-rushing galaxies also feel the collective gravitational pull of everything in the rearview mirror trying to tug them back. The Hubble constant reflects the sum total of all the stuff in the universe and the forces acting on it—weighing in on whether gravity or the void will ultimately win this intergalactic tug-of-war.\\n\\nThe universe’s contents could eventually reverse the expansion—a scenario called the “big crunch,” in which gravity pulls everything back into an infinitely hot and dense point like the one that birthed the big bang. Or the universe might steadily expand indefinitely, growing ever colder and listless in a “big chill” that offers endless space and time—but ultimately very little to do. Or just maybe the cosmic expansion will dramatically speed up, becoming so unruly that it bucks all its riders. Such an accelerating universe could sunder galaxies, then stars, then planets, atoms and subatomic particles until even the fabric of reality itself splits at its seams in a “big rip” that leaves practically nothing behind. Will the universe end in fire, ice or emptiness? The Hubble constant knows—but until the tension is resolved, the answer is unclear.'"
      ]
     },
     "execution_count": 2,
     "metadata": {},
     "output_type": "execute_result"
    }
   ],
   "source": [
    "sample_text"
   ]
  },
  {
   "cell_type": "markdown",
   "metadata": {},
   "source": [
    "Before starting to process this text, we better convert all letters to lowercase in order to standardize the text."
   ]
  },
  {
   "cell_type": "code",
   "execution_count": 3,
   "metadata": {},
   "outputs": [],
   "source": [
    "sample_text=sample_text.lower()"
   ]
  },
  {
   "cell_type": "markdown",
   "metadata": {},
   "source": [
    "Tokenization is a step which splits longer strings of text into smaller pieces, or tokens. Larger chunks of text can be tokenized into sentences, sentences can be tokenized into words, etc. This immediately turns an unstructured string (text document) into a more usable data, which can be further structured, and made more suitable for machine learning. Further processing is generally performed after a piece of text has been appropriately tokenized. \n",
    "\n",
    "Below are three different ways i.e Split, RegexpTokenizer and Word Tokenize.\n",
    "\n",
    "Let's tokenize this text by using pure python at first."
   ]
  },
  {
   "cell_type": "code",
   "execution_count": 4,
   "metadata": {},
   "outputs": [],
   "source": [
    "# here, we just split the whole text by spaces \n",
    "tokens = [word for word in sample_text.split()]"
   ]
  },
  {
   "cell_type": "code",
   "execution_count": 5,
   "metadata": {},
   "outputs": [
    {
     "name": "stdout",
     "output_type": "stream",
     "text": [
      "['the', 'answer', 'to', 'the', 'question', 'of', 'the', 'universe’s', 'expansion', 'rate', 'is', 'something', 'called', 'the', 'hubble', 'constant,', 'named', 'after', 'the', 'astronomer', 'edwin', 'hubble', 'who', 'discovered', 'in', 'the', '1920s', 'that', 'the', 'universe', 'is', 'expanding.', 'galaxies', 'recede', 'from', 'us', 'at', 'speeds', 'proportional', 'to', 'their', 'distances,', 'going', 'faster', 'the', 'farther', 'away', 'they', 'are.', 'the', 'hubble', 'constant', 'codifies', 'this', 'relationship', 'between', 'cosmic', 'distances', 'and', 'velocities.', 'but', 'in', 'doing', 'so', 'it', 'reveals', 'much', 'more,', 'making', 'it', 'of', 'interest', 'not', 'only', 'to', 'astronomers', 'but', 'also', 'to', 'cosmologists', 'and', 'physicists.', 'because', 'the', 'constant', 'represents', 'the', 'expansion', 'rate', 'at', 'any', 'particular', 'moment', 'in', 'the', 'universe’s', 'long', 'history,', 'measuring', 'its', 'value', 'over', 'time', 'provides', 'an', 'expansive', 'view', 'of', 'how', 'the', 'universe', 'evolves', 'over', 'the', 'eons,', 'giving', 'researchers', 'crucial', 'clues', 'to', 'our', 'cosmic', 'origins', 'and', 'future.', 'somehow', 'beckoned', 'by', 'the', 'void,', 'billions', 'of', 'outward-rushing', 'galaxies', 'also', 'feel', 'the', 'collective', 'gravitational', 'pull', 'of', 'everything', 'in', 'the', 'rearview', 'mirror', 'trying', 'to', 'tug', 'them', 'back.', 'the', 'hubble', 'constant', 'reflects', 'the', 'sum', 'total', 'of', 'all', 'the', 'stuff', 'in', 'the', 'universe', 'and', 'the', 'forces', 'acting', 'on', 'it—weighing', 'in', 'on', 'whether', 'gravity', 'or', 'the', 'void', 'will', 'ultimately', 'win', 'this', 'intergalactic', 'tug-of-war.', 'the', 'universe’s', 'contents', 'could', 'eventually', 'reverse', 'the', 'expansion—a', 'scenario', 'called', 'the', '“big', 'crunch,”', 'in', 'which', 'gravity', 'pulls', 'everything', 'back', 'into', 'an', 'infinitely', 'hot', 'and', 'dense', 'point', 'like', 'the', 'one', 'that', 'birthed', 'the', 'big', 'bang.', 'or', 'the', 'universe', 'might', 'steadily', 'expand', 'indefinitely,', 'growing', 'ever', 'colder', 'and', 'listless', 'in', 'a', '“big', 'chill”', 'that', 'offers', 'endless', 'space', 'and', 'time—but', 'ultimately', 'very', 'little', 'to', 'do.', 'or', 'just', 'maybe', 'the', 'cosmic', 'expansion', 'will', 'dramatically', 'speed', 'up,', 'becoming', 'so', 'unruly', 'that', 'it', 'bucks', 'all', 'its', 'riders.', 'such', 'an', 'accelerating', 'universe', 'could', 'sunder', 'galaxies,', 'then', 'stars,', 'then', 'planets,', 'atoms', 'and', 'subatomic', 'particles', 'until', 'even', 'the', 'fabric', 'of', 'reality', 'itself', 'splits', 'at', 'its', 'seams', 'in', 'a', '“big', 'rip”', 'that', 'leaves', 'practically', 'nothing', 'behind.', 'will', 'the', 'universe', 'end', 'in', 'fire,', 'ice', 'or', 'emptiness?', 'the', 'hubble', 'constant', 'knows—but', 'until', 'the', 'tension', 'is', 'resolved,', 'the', 'answer', 'is', 'unclear.']\n"
     ]
    }
   ],
   "source": [
    "print (tokens)"
   ]
  },
  {
   "cell_type": "markdown",
   "metadata": {},
   "source": [
    "Now let's do the same with NLTK tokenizer"
   ]
  },
  {
   "cell_type": "code",
   "execution_count": 7,
   "metadata": {},
   "outputs": [
    {
     "name": "stdout",
     "output_type": "stream",
     "text": [
      "['the', 'answer', 'to', 'the', 'question', 'of', 'the', 'universe', '’', 's', 'expansion', 'rate', 'is', 'something', 'called', 'the', 'hubble', 'constant', ',', 'named', 'after', 'the', 'astronomer', 'edwin', 'hubble', 'who', 'discovered', 'in', 'the', '1920s', 'that', 'the', 'universe', 'is', 'expanding', '.', 'galaxies', 'recede', 'from', 'us', 'at', 'speeds', 'proportional', 'to', 'their', 'distances', ',', 'going', 'faster', 'the', 'farther', 'away', 'they', 'are', '.', 'the', 'hubble', 'constant', 'codifies', 'this', 'relationship', 'between', 'cosmic', 'distances', 'and', 'velocities', '.', 'but', 'in', 'doing', 'so', 'it', 'reveals', 'much', 'more', ',', 'making', 'it', 'of', 'interest', 'not', 'only', 'to', 'astronomers', 'but', 'also', 'to', 'cosmologists', 'and', 'physicists', '.', 'because', 'the', 'constant', 'represents', 'the', 'expansion', 'rate', 'at', 'any', 'particular', 'moment', 'in', 'the', 'universe', '’', 's', 'long', 'history', ',', 'measuring', 'its', 'value', 'over', 'time', 'provides', 'an', 'expansive', 'view', 'of', 'how', 'the', 'universe', 'evolves', 'over', 'the', 'eons', ',', 'giving', 'researchers', 'crucial', 'clues', 'to', 'our', 'cosmic', 'origins', 'and', 'future', '.', 'somehow', 'beckoned', 'by', 'the', 'void', ',', 'billions', 'of', 'outward-rushing', 'galaxies', 'also', 'feel', 'the', 'collective', 'gravitational', 'pull', 'of', 'everything', 'in', 'the', 'rearview', 'mirror', 'trying', 'to', 'tug', 'them', 'back', '.', 'the', 'hubble', 'constant', 'reflects', 'the', 'sum', 'total', 'of', 'all', 'the', 'stuff', 'in', 'the', 'universe', 'and', 'the', 'forces', 'acting', 'on', 'it—weighing', 'in', 'on', 'whether', 'gravity', 'or', 'the', 'void', 'will', 'ultimately', 'win', 'this', 'intergalactic', 'tug-of-war', '.', 'the', 'universe', '’', 's', 'contents', 'could', 'eventually', 'reverse', 'the', 'expansion—a', 'scenario', 'called', 'the', '“', 'big', 'crunch', ',', '”', 'in', 'which', 'gravity', 'pulls', 'everything', 'back', 'into', 'an', 'infinitely', 'hot', 'and', 'dense', 'point', 'like', 'the', 'one', 'that', 'birthed', 'the', 'big', 'bang', '.', 'or', 'the', 'universe', 'might', 'steadily', 'expand', 'indefinitely', ',', 'growing', 'ever', 'colder', 'and', 'listless', 'in', 'a', '“', 'big', 'chill', '”', 'that', 'offers', 'endless', 'space', 'and', 'time—but', 'ultimately', 'very', 'little', 'to', 'do', '.', 'or', 'just', 'maybe', 'the', 'cosmic', 'expansion', 'will', 'dramatically', 'speed', 'up', ',', 'becoming', 'so', 'unruly', 'that', 'it', 'bucks', 'all', 'its', 'riders', '.', 'such', 'an', 'accelerating', 'universe', 'could', 'sunder', 'galaxies', ',', 'then', 'stars', ',', 'then', 'planets', ',', 'atoms', 'and', 'subatomic', 'particles', 'until', 'even', 'the', 'fabric', 'of', 'reality', 'itself', 'splits', 'at', 'its', 'seams', 'in', 'a', '“', 'big', 'rip', '”', 'that', 'leaves', 'practically', 'nothing', 'behind', '.', 'will', 'the', 'universe', 'end', 'in', 'fire', ',', 'ice', 'or', 'emptiness', '?', 'the', 'hubble', 'constant', 'knows—but', 'until', 'the', 'tension', 'is', 'resolved', ',', 'the', 'answer', 'is', 'unclear', '.']\n"
     ]
    }
   ],
   "source": [
    "import nltk\n",
    "tokens = nltk.word_tokenize(sample_text)\n",
    "print(tokens)"
   ]
  },
  {
   "cell_type": "markdown",
   "metadata": {},
   "source": [
    "We can also tokenizee the text with custom regex patterns which is called RegexpTokenizer. Using this function, we can apply highly customized and detailed tokenization that could help us extract much more information without further processing."
   ]
  },
  {
   "cell_type": "code",
   "execution_count": 8,
   "metadata": {},
   "outputs": [
    {
     "name": "stdout",
     "output_type": "stream",
     "text": [
      "['the', 'answer', 'to', 'the', 'question', 'of', 'the', 'universe', 's', 'expansion', 'rate', 'is', 'something', 'called', 'the', 'hubble', 'constant', 'named', 'after', 'the', 'astronomer', 'edwin', 'hubble', 'who', 'discovered', 'in', 'the', '1920s', 'that', 'the', 'universe', 'is', 'expanding', 'galaxies', 'recede', 'from', 'us', 'at', 'speeds', 'proportional', 'to', 'their', 'distances', 'going', 'faster', 'the', 'farther', 'away', 'they', 'are', 'the', 'hubble', 'constant', 'codifies', 'this', 'relationship', 'between', 'cosmic', 'distances', 'and', 'velocities', 'but', 'in', 'doing', 'so', 'it', 'reveals', 'much', 'more', 'making', 'it', 'of', 'interest', 'not', 'only', 'to', 'astronomers', 'but', 'also', 'to', 'cosmologists', 'and', 'physicists', 'because', 'the', 'constant', 'represents', 'the', 'expansion', 'rate', 'at', 'any', 'particular', 'moment', 'in', 'the', 'universe', 's', 'long', 'history', 'measuring', 'its', 'value', 'over', 'time', 'provides', 'an', 'expansive', 'view', 'of', 'how', 'the', 'universe', 'evolves', 'over', 'the', 'eons', 'giving', 'researchers', 'crucial', 'clues', 'to', 'our', 'cosmic', 'origins', 'and', 'future', 'somehow', 'beckoned', 'by', 'the', 'void', 'billions', 'of', 'outward', 'rushing', 'galaxies', 'also', 'feel', 'the', 'collective', 'gravitational', 'pull', 'of', 'everything', 'in', 'the', 'rearview', 'mirror', 'trying', 'to', 'tug', 'them', 'back', 'the', 'hubble', 'constant', 'reflects', 'the', 'sum', 'total', 'of', 'all', 'the', 'stuff', 'in', 'the', 'universe', 'and', 'the', 'forces', 'acting', 'on', 'it', 'weighing', 'in', 'on', 'whether', 'gravity', 'or', 'the', 'void', 'will', 'ultimately', 'win', 'this', 'intergalactic', 'tug', 'of', 'war', 'the', 'universe', 's', 'contents', 'could', 'eventually', 'reverse', 'the', 'expansion', 'a', 'scenario', 'called', 'the', 'big', 'crunch', 'in', 'which', 'gravity', 'pulls', 'everything', 'back', 'into', 'an', 'infinitely', 'hot', 'and', 'dense', 'point', 'like', 'the', 'one', 'that', 'birthed', 'the', 'big', 'bang', 'or', 'the', 'universe', 'might', 'steadily', 'expand', 'indefinitely', 'growing', 'ever', 'colder', 'and', 'listless', 'in', 'a', 'big', 'chill', 'that', 'offers', 'endless', 'space', 'and', 'time', 'but', 'ultimately', 'very', 'little', 'to', 'do', 'or', 'just', 'maybe', 'the', 'cosmic', 'expansion', 'will', 'dramatically', 'speed', 'up', 'becoming', 'so', 'unruly', 'that', 'it', 'bucks', 'all', 'its', 'riders', 'such', 'an', 'accelerating', 'universe', 'could', 'sunder', 'galaxies', 'then', 'stars', 'then', 'planets', 'atoms', 'and', 'subatomic', 'particles', 'until', 'even', 'the', 'fabric', 'of', 'reality', 'itself', 'splits', 'at', 'its', 'seams', 'in', 'a', 'big', 'rip', 'that', 'leaves', 'practically', 'nothing', 'behind', 'will', 'the', 'universe', 'end', 'in', 'fire', 'ice', 'or', 'emptiness', 'the', 'hubble', 'constant', 'knows', 'but', 'until', 'the', 'tension', 'is', 'resolved', 'the', 'answer', 'is', 'unclear']\n"
     ]
    }
   ],
   "source": [
    "from nltk.tokenize import RegexpTokenizer\n",
    "tokenizer = RegexpTokenizer(r'\\w+')\n",
    "tokens=tokenizer.tokenize(sample_text)\n",
    "print (tokens)"
   ]
  },
  {
   "cell_type": "markdown",
   "metadata": {},
   "source": [
    "As you see, wee don't see any punctuations since we tokenized by words in regex. \n",
    "\n",
    "Let's see the frequeencies of each token. This is quite simple and straightforward with NLTK"
   ]
  },
  {
   "cell_type": "code",
   "execution_count": 9,
   "metadata": {},
   "outputs": [],
   "source": [
    "token_freq=nltk.FreqDist(tokens)"
   ]
  },
  {
   "cell_type": "markdown",
   "metadata": {},
   "source": [
    "This return a dictionary like key-value pair and in order to find a frequency of a token, we simply use that token as key within brackets just as we do in dictionary types."
   ]
  },
  {
   "cell_type": "code",
   "execution_count": 10,
   "metadata": {},
   "outputs": [
    {
     "data": {
      "text/plain": [
       "5"
      ]
     },
     "execution_count": 10,
     "metadata": {},
     "output_type": "execute_result"
    }
   ],
   "source": [
    "token_freq[\"hubble\"]\n",
    "# this shows that the number of \"Hubble\" word inside the text is five."
   ]
  },
  {
   "cell_type": "markdown",
   "metadata": {},
   "source": [
    "and we can easily plot this with an embedded plot function..."
   ]
  },
  {
   "cell_type": "code",
   "execution_count": 63,
   "metadata": {},
   "outputs": [
    {
     "data": {
      "image/png": "[encoded data removed]",
      "text/plain": [
       "<matplotlib.figure.Figure at 0x11492be80>"
      ]
     },
     "metadata": {},
     "output_type": "display_data"
    }
   ],
   "source": [
    "%matplotlib inline \n",
    "\n",
    "token_freq.plot(20, cumulative=False)"
   ]
  },
  {
   "cell_type": "markdown",
   "metadata": {},
   "source": [
    "As you can see from the plot, the words like a, an, the, be etc. are highly populated in the text but don’t add any extra information in a sentence. Such words can often create noise while modelling. Such words are known as ***Stop Words***. \n",
    "\n",
    "Let's see the stopwords in English language as in NLTK package\n"
   ]
  },
  {
   "cell_type": "code",
   "execution_count": 11,
   "metadata": {},
   "outputs": [
    {
     "name": "stdout",
     "output_type": "stream",
     "text": [
      "{'hasn', 'i', 'the', 'most', 'its', 'didn', 'you', 'were', 'haven', 'themselves', 'while', 'some', 'isn', 'did', 'over', 'through', 'which', 'up', 'here', 'more', 'ourselves', 've', 'needn', 'have', 'her', 'just', 'weren', 'but', 'under', 'this', 'those', 'd', 'his', 'that', 'shouldn', 'their', 'itself', 'few', 'other', 'above', 'am', 'such', 'what', 'with', 'himself', 'for', 'why', 'who', 'all', 'after', 'has', 'will', 'doesn', 'are', 'll', 'theirs', 'down', 'at', 'than', 'of', 'my', 'own', 'do', 'm', 'as', 'same', 'aren', 'is', 'again', 'myself', 'y', 'couldn', 'mightn', 'by', 'them', 'on', 'ours', 'an', 'to', 'both', 'he', 'once', 'in', 'ain', 'then', 'we', 'o', 'won', 'if', 'it', 'and', 's', 'shan', 'was', 'whom', 'these', 'they', 'from', 'your', 'wouldn', 'be', 'no', 'been', 'doing', 'out', 'wasn', 'about', 'yourself', 'only', 'had', 'during', 'she', 'hadn', 'don', 'herself', 'me', 'off', 'nor', 'does', 'now', 'having', 'being', 'because', 'further', 'yourselves', 'not', 'each', 'him', 'when', 'too', 'between', 'should', 'below', 'can', 'our', 'against', 'mustn', 'until', 'there', 'ma', 're', 'so', 'hers', 'very', 'a', 'before', 'yours', 'any', 'or', 'where', 'into', 't', 'how'}\n"
     ]
    }
   ],
   "source": [
    "from nltk.corpus import stopwords\n",
    "stop_words=set(stopwords.words('english'))\n",
    "print(stop_words)"
   ]
  },
  {
   "cell_type": "markdown",
   "metadata": {},
   "source": [
    "Now we can filter each sentence by removing the stop words as shown below:"
   ]
  },
  {
   "cell_type": "code",
   "execution_count": 13,
   "metadata": {},
   "outputs": [
    {
     "name": "stdout",
     "output_type": "stream",
     "text": [
      "['answer', 'question', 'universe', 'expansion', 'rate', 'something', 'called', 'hubble', 'constant', 'named', 'astronomer', 'edwin', 'hubble', 'discovered', '1920s', 'universe', 'expanding', 'galaxies', 'recede', 'us', 'speeds', 'proportional', 'distances', 'going', 'faster', 'farther', 'away', 'hubble', 'constant', 'codifies', 'relationship', 'cosmic', 'distances', 'velocities', 'reveals', 'much', 'making', 'interest', 'astronomers', 'also', 'cosmologists', 'physicists', 'constant', 'represents', 'expansion', 'rate', 'particular', 'moment', 'universe', 'long', 'history', 'measuring', 'value', 'time', 'provides', 'expansive', 'view', 'universe', 'evolves', 'eons', 'giving', 'researchers', 'crucial', 'clues', 'cosmic', 'origins', 'future', 'somehow', 'beckoned', 'void', 'billions', 'outward', 'rushing', 'galaxies', 'also', 'feel', 'collective', 'gravitational', 'pull', 'everything', 'rearview', 'mirror', 'trying', 'tug', 'back', 'hubble', 'constant', 'reflects', 'sum', 'total', 'stuff', 'universe', 'forces', 'acting', 'weighing', 'whether', 'gravity', 'void', 'ultimately', 'win', 'intergalactic', 'tug', 'war', 'universe', 'contents', 'could', 'eventually', 'reverse', 'expansion', 'scenario', 'called', 'big', 'crunch', 'gravity', 'pulls', 'everything', 'back', 'infinitely', 'hot', 'dense', 'point', 'like', 'one', 'birthed', 'big', 'bang', 'universe', 'might', 'steadily', 'expand', 'indefinitely', 'growing', 'ever', 'colder', 'listless', 'big', 'chill', 'offers', 'endless', 'space', 'time', 'ultimately', 'little', 'maybe', 'cosmic', 'expansion', 'dramatically', 'speed', 'becoming', 'unruly', 'bucks', 'riders', 'accelerating', 'universe', 'could', 'sunder', 'galaxies', 'stars', 'planets', 'atoms', 'subatomic', 'particles', 'even', 'fabric', 'reality', 'splits', 'seams', 'big', 'rip', 'leaves', 'practically', 'nothing', 'behind', 'universe', 'end', 'fire', 'ice', 'emptiness', 'hubble', 'constant', 'knows', 'tension', 'resolved', 'answer', 'unclear']\n"
     ]
    }
   ],
   "source": [
    "def remove_stopwords(words):\n",
    "\n",
    "    filtered_words = []\n",
    "    for word in words:\n",
    "        if word not in stop_words:\n",
    "            filtered_words.append(word)\n",
    "            \n",
    "    return filtered_words\n",
    "        \n",
    "print (remove_stopwords(tokens))"
   ]
  },
  {
   "cell_type": "markdown",
   "metadata": {},
   "source": [
    "Now let's find the frequencies and plot again"
   ]
  },
  {
   "cell_type": "code",
   "execution_count": 15,
   "metadata": {},
   "outputs": [
    {
     "data": {
      "image/png": "[encoded data removed]",
      "text/plain": [
       "<matplotlib.figure.Figure at 0x118c91518>"
      ]
     },
     "metadata": {},
     "output_type": "display_data"
    }
   ],
   "source": [
    "%matplotlib inline\n",
    "token_freq=nltk.FreqDist(remove_stopwords(tokens))\n",
    "token_freq.plot(20, cumulative=False)"
   ]
  },
  {
   "cell_type": "markdown",
   "metadata": {},
   "source": [
    "As you can see, now the plot makes much moree sense and we can easily understand that the text is talking about ***universe and hubble***."
   ]
  },
  {
   "cell_type": "markdown",
   "metadata": {},
   "source": [
    "Now let's tokenize this txt by sentences"
   ]
  },
  {
   "cell_type": "code",
   "execution_count": 67,
   "metadata": {},
   "outputs": [
    {
     "name": "stdout",
     "output_type": "stream",
     "text": [
      "['the answer to the question of the universe’s expansion rate is something called the hubble constant, named after the astronomer edwin hubble who discovered in the 1920s that the universe is expanding.', 'galaxies recede from us at speeds proportional to their distances, going faster the farther away they are.', 'the hubble constant codifies this relationship between cosmic distances and velocities.', 'but in doing so it reveals much more, making it of interest not only to astronomers but also to cosmologists and physicists.', 'because the constant represents the expansion rate at any particular moment in the universe’s long history, measuring its value over time provides an expansive view of how the universe evolves over the eons, giving researchers crucial clues to our cosmic origins and future.', 'somehow beckoned by the void, billions of outward-rushing galaxies also feel the collective gravitational pull of everything in the rearview mirror trying to tug them back.', 'the hubble constant reflects the sum total of all the stuff in the universe and the forces acting on it—weighing in on whether gravity or the void will ultimately win this intergalactic tug-of-war.', 'the universe’s contents could eventually reverse the expansion—a scenario called the “big crunch,” in which gravity pulls everything back into an infinitely hot and dense point like the one that birthed the big bang.', 'or the universe might steadily expand indefinitely, growing ever colder and listless in a “big chill” that offers endless space and time—but ultimately very little to do.', 'or just maybe the cosmic expansion will dramatically speed up, becoming so unruly that it bucks all its riders.', 'such an accelerating universe could sunder galaxies, then stars, then planets, atoms and subatomic particles until even the fabric of reality itself splits at its seams in a “big rip” that leaves practically nothing behind.', 'will the universe end in fire, ice or emptiness?', 'the hubble constant knows—but until the tension is resolved, the answer is unclear.']\n"
     ]
    }
   ],
   "source": [
    "sents = nltk.sent_tokenize(sample_text)\n",
    "print (sents)"
   ]
  },
  {
   "cell_type": "code",
   "execution_count": 93,
   "metadata": {},
   "outputs": [
    {
     "data": {
      "text/plain": [
       "'the answer to the question of the universe’s expansion rate is something called the hubble constant, named after the astronomer edwin hubble who discovered in the 1920s that the universe is expanding.'"
      ]
     },
     "execution_count": 93,
     "metadata": {},
     "output_type": "execute_result"
    }
   ],
   "source": [
    "sents[0]"
   ]
  },
  {
   "cell_type": "code",
   "execution_count": 95,
   "metadata": {},
   "outputs": [
    {
     "data": {
      "text/plain": [
       "'galaxies recede from us at speeds proportional to their distances, going faster the farther away they are.'"
      ]
     },
     "execution_count": 95,
     "metadata": {},
     "output_type": "execute_result"
    }
   ],
   "source": [
    "sents[1]"
   ]
  },
  {
   "cell_type": "markdown",
   "metadata": {},
   "source": [
    "As you can see, the sentence tokenization basically works with ending punctuations such as periods and question marks. \n",
    "\n",
    "What if we want to remove the punctuations as well? In order to accomplish this, we can either come up with a list  unwanted punctuations or use a ready-to-use list in python..  Let's see how we can do it. The first way to do this is to use regular expressions package called Regex."
   ]
  },
  {
   "cell_type": "code",
   "execution_count": 76,
   "metadata": {},
   "outputs": [],
   "source": [
    "import regex as re\n",
    "\n",
    "def remove_punctuation(words):\n",
    "    \"\"\"Remove punctuation from list of tokenized words\"\"\"\n",
    "    new_words = []\n",
    "    for word in words:\n",
    "        new_word = re.sub(r'[^\\w\\s]', '', word)\n",
    "        if new_word != '':\n",
    "            new_words.append(new_word)\n",
    "    return new_words"
   ]
  },
  {
   "cell_type": "code",
   "execution_count": 75,
   "metadata": {},
   "outputs": [
    {
     "name": "stdout",
     "output_type": "stream",
     "text": [
      "['the', 'answer', 'to', 'the', 'question', 'of', 'the', 'universe', 's', 'expansion', 'rate', 'is', 'something', 'called', 'the', 'hubble', 'constant', 'named', 'after', 'the', 'astronomer', 'edwin', 'hubble', 'who', 'discovered', 'in', 'the', '1920s', 'that', 'the', 'universe', 'is', 'expanding', 'galaxies', 'recede', 'from', 'us', 'at', 'speeds', 'proportional', 'to', 'their', 'distances', 'going', 'faster', 'the', 'farther', 'away', 'they', 'are', 'the', 'hubble', 'constant', 'codifies', 'this', 'relationship', 'between', 'cosmic', 'distances', 'and', 'velocities', 'but', 'in', 'doing', 'so', 'it', 'reveals', 'much', 'more', 'making', 'it', 'of', 'interest', 'not', 'only', 'to', 'astronomers', 'but', 'also', 'to', 'cosmologists', 'and', 'physicists', 'because', 'the', 'constant', 'represents', 'the', 'expansion', 'rate', 'at', 'any', 'particular', 'moment', 'in', 'the', 'universe', 's', 'long', 'history', 'measuring', 'its', 'value', 'over', 'time', 'provides', 'an', 'expansive', 'view', 'of', 'how', 'the', 'universe', 'evolves', 'over', 'the', 'eons', 'giving', 'researchers', 'crucial', 'clues', 'to', 'our', 'cosmic', 'origins', 'and', 'future', 'somehow', 'beckoned', 'by', 'the', 'void', 'billions', 'of', 'outwardrushing', 'galaxies', 'also', 'feel', 'the', 'collective', 'gravitational', 'pull', 'of', 'everything', 'in', 'the', 'rearview', 'mirror', 'trying', 'to', 'tug', 'them', 'back', 'the', 'hubble', 'constant', 'reflects', 'the', 'sum', 'total', 'of', 'all', 'the', 'stuff', 'in', 'the', 'universe', 'and', 'the', 'forces', 'acting', 'on', 'itweighing', 'in', 'on', 'whether', 'gravity', 'or', 'the', 'void', 'will', 'ultimately', 'win', 'this', 'intergalactic', 'tugofwar', 'the', 'universe', 's', 'contents', 'could', 'eventually', 'reverse', 'the', 'expansiona', 'scenario', 'called', 'the', 'big', 'crunch', 'in', 'which', 'gravity', 'pulls', 'everything', 'back', 'into', 'an', 'infinitely', 'hot', 'and', 'dense', 'point', 'like', 'the', 'one', 'that', 'birthed', 'the', 'big', 'bang', 'or', 'the', 'universe', 'might', 'steadily', 'expand', 'indefinitely', 'growing', 'ever', 'colder', 'and', 'listless', 'in', 'a', 'big', 'chill', 'that', 'offers', 'endless', 'space', 'and', 'timebut', 'ultimately', 'very', 'little', 'to', 'do', 'or', 'just', 'maybe', 'the', 'cosmic', 'expansion', 'will', 'dramatically', 'speed', 'up', 'becoming', 'so', 'unruly', 'that', 'it', 'bucks', 'all', 'its', 'riders', 'such', 'an', 'accelerating', 'universe', 'could', 'sunder', 'galaxies', 'then', 'stars', 'then', 'planets', 'atoms', 'and', 'subatomic', 'particles', 'until', 'even', 'the', 'fabric', 'of', 'reality', 'itself', 'splits', 'at', 'its', 'seams', 'in', 'a', 'big', 'rip', 'that', 'leaves', 'practically', 'nothing', 'behind', 'will', 'the', 'universe', 'end', 'in', 'fire', 'ice', 'or', 'emptiness', 'the', 'hubble', 'constant', 'knowsbut', 'until', 'the', 'tension', 'is', 'resolved', 'the', 'answer', 'is', 'unclear']\n"
     ]
    }
   ],
   "source": [
    "words = nltk.word_tokenize(sample_text)\n",
    "\n",
    "print (remove_punctuation (words))"
   ]
  },
  {
   "cell_type": "markdown",
   "metadata": {},
   "source": [
    "The beauty and power of Python is hidden inside the simplicity and there is always a better and much simpler way to accomplish the same task.\n",
    "\n",
    "So lets do this punctuation removel task with a much simpler and faster way using ***string*** package."
   ]
  },
  {
   "cell_type": "code",
   "execution_count": 83,
   "metadata": {},
   "outputs": [
    {
     "data": {
      "text/plain": [
       "'!\"#$%&\\'()*+,-./:;<=>?@[\\\\]^_`{|}~'"
      ]
     },
     "execution_count": 83,
     "metadata": {},
     "output_type": "execute_result"
    }
   ],
   "source": [
    "# here is the predefineed punctuations coming along with string package\n",
    "import string \n",
    "\n",
    "string.punctuation"
   ]
  },
  {
   "cell_type": "code",
   "execution_count": 85,
   "metadata": {},
   "outputs": [
    {
     "name": "stdout",
     "output_type": "stream",
     "text": [
      "['the', 'answer', 'to', 'the', 'question', 'of', 'the', 'universe', '’', 's', 'expansion', 'rate', 'is', 'something', 'called', 'the', 'hubble', 'constant', 'named', 'after', 'the', 'astronomer', 'edwin', 'hubble', 'who', 'discovered', 'in', 'the', '1920s', 'that', 'the', 'universe', 'is', 'expanding', 'galaxies', 'recede', 'from', 'us', 'at', 'speeds', 'proportional', 'to', 'their', 'distances', 'going', 'faster', 'the', 'farther', 'away', 'they', 'are', 'the', 'hubble', 'constant', 'codifies', 'this', 'relationship', 'between', 'cosmic', 'distances', 'and', 'velocities', 'but', 'in', 'doing', 'so', 'it', 'reveals', 'much', 'more', 'making', 'it', 'of', 'interest', 'not', 'only', 'to', 'astronomers', 'but', 'also', 'to', 'cosmologists', 'and', 'physicists', 'because', 'the', 'constant', 'represents', 'the', 'expansion', 'rate', 'at', 'any', 'particular', 'moment', 'in', 'the', 'universe', '’', 's', 'long', 'history', 'measuring', 'its', 'value', 'over', 'time', 'provides', 'an', 'expansive', 'view', 'of', 'how', 'the', 'universe', 'evolves', 'over', 'the', 'eons', 'giving', 'researchers', 'crucial', 'clues', 'to', 'our', 'cosmic', 'origins', 'and', 'future', 'somehow', 'beckoned', 'by', 'the', 'void', 'billions', 'of', 'outwardrushing', 'galaxies', 'also', 'feel', 'the', 'collective', 'gravitational', 'pull', 'of', 'everything', 'in', 'the', 'rearview', 'mirror', 'trying', 'to', 'tug', 'them', 'back', 'the', 'hubble', 'constant', 'reflects', 'the', 'sum', 'total', 'of', 'all', 'the', 'stuff', 'in', 'the', 'universe', 'and', 'the', 'forces', 'acting', 'on', 'it—weighing', 'in', 'on', 'whether', 'gravity', 'or', 'the', 'void', 'will', 'ultimately', 'win', 'this', 'intergalactic', 'tugofwar', 'the', 'universe', '’', 's', 'contents', 'could', 'eventually', 'reverse', 'the', 'expansion—a', 'scenario', 'called', 'the', '“', 'big', 'crunch', '”', 'in', 'which', 'gravity', 'pulls', 'everything', 'back', 'into', 'an', 'infinitely', 'hot', 'and', 'dense', 'point', 'like', 'the', 'one', 'that', 'birthed', 'the', 'big', 'bang', 'or', 'the', 'universe', 'might', 'steadily', 'expand', 'indefinitely', 'growing', 'ever', 'colder', 'and', 'listless', 'in', 'a', '“', 'big', 'chill', '”', 'that', 'offers', 'endless', 'space', 'and', 'time—but', 'ultimately', 'very', 'little', 'to', 'do', 'or', 'just', 'maybe', 'the', 'cosmic', 'expansion', 'will', 'dramatically', 'speed', 'up', 'becoming', 'so', 'unruly', 'that', 'it', 'bucks', 'all', 'its', 'riders', 'such', 'an', 'accelerating', 'universe', 'could', 'sunder', 'galaxies', 'then', 'stars', 'then', 'planets', 'atoms', 'and', 'subatomic', 'particles', 'until', 'even', 'the', 'fabric', 'of', 'reality', 'itself', 'splits', 'at', 'its', 'seams', 'in', 'a', '“', 'big', 'rip', '”', 'that', 'leaves', 'practically', 'nothing', 'behind', 'will', 'the', 'universe', 'end', 'in', 'fire', 'ice', 'or', 'emptiness', 'the', 'hubble', 'constant', 'knows—but', 'until', 'the', 'tension', 'is', 'resolved', 'the', 'answer', 'is', 'unclear']\n"
     ]
    }
   ],
   "source": [
    "new_text=''.join([i for i in sample_text if i not in string.punctuation])\n",
    "\n",
    "print (nltk.word_tokenize (new_text))\n",
    "\n",
    "# we basically join all the characters except the punctuations"
   ]
  },
  {
   "cell_type": "markdown",
   "metadata": {},
   "source": [
    "### b. Stemming and Lemmatization"
   ]
  },
  {
   "cell_type": "markdown",
   "metadata": {},
   "source": [
    "For grammatical reasons, documents are going to use different forms of a word, such as organize, organizes, and organizing. \n",
    "\n",
    "Additionally, there are families of derivationally related words with similar meanings, such as democracy, democratic, and democratization. In many situations, it seems as if it would be useful for a search for one of these words to return documents that contain another word in the set.\n",
    "\n",
    "***Stemming*** usually refers to a crude heuristic process that chops off the ends of words in the hope of achieving this goal correctly most of the time, and often includes the removal of derivational affixes. (removing affixes from words and return the root word. Ex: The stem of the word working => work.)\n",
    "\n",
    "***Lemmatization*** usually refers to doing things properly with the use of a vocabulary and morphological analysis of words, normally aiming to remove inflectional endings only and to return the base or dictionary form of a word, which is known as the lemma . \n",
    "\n",
    "If confronted with the token saw, stemming might return just s, whereas lemmatization would attempt to return either see or saw depending on whether the use of the token was as a verb or a noun. The two may also differ in that stemming most commonly collapses derivationally related words, whereas lemmatization commonly only collapses the different inflectional forms of a lemma. \n",
    "\n",
    "The goal of both stemming and lemmatization is to reduce inflectional forms and sometimes derivationally related forms of a word to a common base form. As we can understand, both techniques could remove important information but also help us to normalize our corpus (although lemmatization is the one that is usually applied)\n",
    "\n",
    "There are many algorithms for stemming and most of them produce similar results. Here are the embedded stemming algorithms in NLTK:\n",
    "\n",
    "- nltk.stem.ISRIStemmer\n",
    "\n",
    "- nltk.stem.LancasterStemmer\n",
    "\n",
    "- nltk.stem.PorterStemmer\n",
    "\n",
    "- nltk.stem.RegexpStemmer\n",
    "\n",
    "- nltk.stem.RSLPStemmer\n",
    "\n",
    "- nltk.stem.SnowballStemmer\n",
    "\n",
    "but the most used algorithm is ***Porter stemming*** algorithm."
   ]
  },
  {
   "cell_type": "code",
   "execution_count": 146,
   "metadata": {},
   "outputs": [
    {
     "name": "stdout",
     "output_type": "stream",
     "text": [
      "run\n",
      "decreas\n",
      "multipli\n"
     ]
    }
   ],
   "source": [
    "#-----PorterStemmer------\n",
    "from nltk.stem import PorterStemmer\n",
    "stemmer = PorterStemmer()\n",
    "print (stemmer.stem('running'))\n",
    "print (stemmer.stem('decreases'))\n",
    "print (stemmer.stem('multiplying'))"
   ]
  },
  {
   "cell_type": "markdown",
   "metadata": {},
   "source": [
    "Let's try the same with Lancaster stemming algorithm"
   ]
  },
  {
   "cell_type": "code",
   "execution_count": 147,
   "metadata": {},
   "outputs": [
    {
     "name": "stdout",
     "output_type": "stream",
     "text": [
      "run\n",
      "decreas\n",
      "multiply\n"
     ]
    }
   ],
   "source": [
    "#-----LancasterStemmer------\n",
    "from nltk.stem import LancasterStemmer\n",
    "stemmer = LancasterStemmer()\n",
    "print (stemmer.stem('running'))\n",
    "print (stemmer.stem('decreases'))\n",
    "print (stemmer.stem('multiplying'))"
   ]
  },
  {
   "cell_type": "markdown",
   "metadata": {},
   "source": [
    ".. and with Snowball stemming algorithm"
   ]
  },
  {
   "cell_type": "code",
   "execution_count": 148,
   "metadata": {},
   "outputs": [
    {
     "name": "stdout",
     "output_type": "stream",
     "text": [
      "run\n",
      "decreas\n",
      "multipli\n"
     ]
    }
   ],
   "source": [
    "#-----SnowballStemmer------\n",
    "from nltk.stem import SnowballStemmer\n",
    "stemmer = SnowballStemmer(\"english\") # we need to specify language to initiate this stemmer\n",
    "print (stemmer.stem(\"running\"))\n",
    "print (stemmer.stem('decreases'))\n",
    "print (stemmer.stem('multiplying'))"
   ]
  },
  {
   "cell_type": "markdown",
   "metadata": {},
   "source": [
    "Now we will try ***WordNetLemmatizer*** algorithm"
   ]
  },
  {
   "cell_type": "code",
   "execution_count": 149,
   "metadata": {},
   "outputs": [
    {
     "name": "stdout",
     "output_type": "stream",
     "text": [
      "running\n",
      "decrease\n",
      "multiplying\n"
     ]
    }
   ],
   "source": [
    "#-----WordNetLemmatizer------\n",
    "from nltk.stem import WordNetLemmatizer\n",
    "lemmatizer = WordNetLemmatizer()\n",
    "print(lemmatizer.lemmatize('running'))\n",
    "print(lemmatizer.lemmatize('decreases'))\n",
    "print(lemmatizer.lemmatize('multiplying'))"
   ]
  },
  {
   "cell_type": "markdown",
   "metadata": {},
   "source": [
    "Stemming works on words without knowing its context and that’s why stemming has lower accuracy and faster than lemmatization. \n",
    "\n",
    "We can also specify the part-of-speech in lemmatization"
   ]
  },
  {
   "cell_type": "code",
   "execution_count": 144,
   "metadata": {},
   "outputs": [
    {
     "name": "stdout",
     "output_type": "stream",
     "text": [
      "play\n",
      "playing\n",
      "playing\n",
      "playing\n"
     ]
    }
   ],
   "source": [
    "print(lemmatizer.lemmatize('playing', pos=\"v\"))\n",
    " \n",
    "print(lemmatizer.lemmatize('playing', pos=\"n\"))\n",
    " \n",
    "print(lemmatizer.lemmatize('playing', pos=\"a\"))\n",
    " \n",
    "print(lemmatizer.lemmatize('playing', pos=\"r\"))"
   ]
  },
  {
   "cell_type": "markdown",
   "metadata": {},
   "source": [
    "### c. Part-of-Speech (POS) Tagging "
   ]
  },
  {
   "cell_type": "markdown",
   "metadata": {},
   "source": [
    "POS Tagging is used when we need to analysis the words in the sentence for grammar and their arrangement in a manner that shows the relationships among the words.\n",
    "\n",
    "Apart from the grammar relations, every word in a sentence is also associated with a part of speech (pos) tag (nouns, verbs, adjectives, adverbs etc). The pos tags defines the usage and function of a word in the sentence. \n",
    "\n",
    "Part of Speech tagging is highly useful in terms of word sense disambiguation. The meaning of certain words would change based on the context. "
   ]
  },
  {
   "cell_type": "code",
   "execution_count": 165,
   "metadata": {},
   "outputs": [
    {
     "name": "stdout",
     "output_type": "stream",
     "text": [
      "galaxies recede from us at speeds proportional to their distances, going faster the farther away they are.\n"
     ]
    },
    {
     "data": {
      "text/plain": [
       "[('galaxies', 'NNS'),\n",
       " ('recede', 'VBP'),\n",
       " ('from', 'IN'),\n",
       " ('us', 'PRP'),\n",
       " ('at', 'IN'),\n",
       " ('speeds', 'NNS'),\n",
       " ('proportional', 'JJ'),\n",
       " ('to', 'TO'),\n",
       " ('their', 'PRP$'),\n",
       " ('distances', 'NNS'),\n",
       " (',', ','),\n",
       " ('going', 'VBG'),\n",
       " ('faster', 'RBR'),\n",
       " ('the', 'DT'),\n",
       " ('farther', 'JJR'),\n",
       " ('away', 'RB'),\n",
       " ('they', 'PRP'),\n",
       " ('are', 'VBP'),\n",
       " ('.', '.')]"
      ]
     },
     "execution_count": 165,
     "metadata": {},
     "output_type": "execute_result"
    }
   ],
   "source": [
    "from nltk import sent_tokenize, word_tokenize, pos_tag\n",
    "\n",
    "sents = nltk.sent_tokenize(sample_text)\n",
    "\n",
    "print (sents[1])\n",
    "\n",
    "tokens = word_tokenize(sents[1])\n",
    "\n",
    "pos_tag(tokens)"
   ]
  },
  {
   "cell_type": "markdown",
   "metadata": {},
   "source": [
    "Here are the meaning of POS tags:\n",
    "\n",
    "CC | Coordinating conjunction |\n",
    "\n",
    "CD | Cardinal number |\n",
    "\n",
    "DT | Determiner |\n",
    "\n",
    "EX | Existential there |\n",
    "\n",
    "FW | Foreign word |\n",
    "\n",
    "IN | Preposition or subordinating conjunction |\n",
    "\n",
    "JJ | Adjective |\n",
    "\n",
    "JJR | Adjective, comparative |\n",
    "\n",
    "JJS | Adjective, superlative |\n",
    "\n",
    "LS | List item marker |\n",
    "\n",
    "MD | Modal |\n",
    "\n",
    "NN | Noun, singular or mass |\n",
    "\n",
    "NNS | Noun, plural |\n",
    "\n",
    "NNP | Proper noun, singular |\n",
    "\n",
    "NNPS | Proper noun, plural |\n",
    "\n",
    "PDT | Predeterminer |\n",
    "\n",
    "POS | Possessive ending |\n",
    "\n",
    "PRP | Personal pronoun |\n",
    "\n",
    "PRP$ | Possessive pronoun |\n",
    "\n",
    "RB | Adverb |\n",
    "\n",
    "RBR | Adverb, comparative |\n",
    "\n",
    "RBS | Adverb, superlative |\n",
    "\n",
    "RP | Particle |\n",
    "\n",
    "SYM | Symbol |\n",
    "\n",
    "TO | to |\n",
    "\n",
    "UH | Interjection |\n",
    "\n",
    "VB | Verb, base form |\n",
    "\n",
    "VBD | Verb, past tense |\n",
    "\n",
    "VBG | Verb, gerund or present participle |\n",
    "\n",
    "VBN | Verb, past participle |\n",
    "\n",
    "VBP | Verb, non-3rd person singular present |\n",
    "\n",
    "VBZ | Verb, 3rd person singular present |\n",
    "\n",
    "WDT | Wh-determiner |\n",
    "\n",
    "WP | Wh-pronoun |\n",
    "\n",
    "WP$ | Possessive wh-pronoun |\n",
    "\n",
    "WRB | Wh-adverb |"
   ]
  },
  {
   "cell_type": "markdown",
   "metadata": {},
   "source": [
    "### d. Named Entity Recognition (NER)"
   ]
  },
  {
   "cell_type": "markdown",
   "metadata": {},
   "source": [
    "In the real world, in our daily conversations we don’t work directly with the categories of words. Instead, for example, if we want to build a Netflix chatbot we want it to recognize both ‘Batman’ and ‘Avatar’ as instances of the same group which we call ‘films’ , but ‘Steven Spielberg’ as a ‘director’. This concept of semantic field dependent of a context is what we define as entity. The role of a named entity recognizer is to detect relevant entities in our corpus.\n",
    "\n",
    "The process of detecting the named entities such as person names, location names, company names etc from the text is called as NER. For example :\n",
    "\n",
    "Sentence: Steve, the CEO of Apple Inc. is living in San Francisco.\n",
    "\n",
    "Named Entities –  ( “person” : “Steve” ), (“org” : “Apple Inc.”), (“location” : “San Francisco”)\n"
   ]
  },
  {
   "cell_type": "code",
   "execution_count": 186,
   "metadata": {},
   "outputs": [
    {
     "name": "stdout",
     "output_type": "stream",
     "text": [
      "[nltk_data] Downloading package maxent_ne_chunker to\n",
      "[nltk_data]     /Users/vkocaman/nltk_data...\n",
      "[nltk_data]   Unzipping chunkers/maxent_ne_chunker.zip.\n"
     ]
    },
    {
     "data": {
      "text/plain": [
       "True"
      ]
     },
     "execution_count": 186,
     "metadata": {},
     "output_type": "execute_result"
    }
   ],
   "source": [
    "# at first, lets download the following NLTK package\n",
    "\n",
    "nltk.download(\"maxent_ne_chunker\")"
   ]
  },
  {
   "cell_type": "markdown",
   "metadata": {},
   "source": [
    "***Commonly Used Types of Named Entity***\n",
    "\n",
    "ORGANIZATION\tGeorgia-Pacific Corp., WHO\n",
    "\n",
    "PERSON\tEddy Bonte, President Obama\n",
    "\n",
    "LOCATION\tMurray River, Mount Everest\n",
    "\n",
    "DATE\tJune, 2008-06-29\n",
    "\n",
    "TIME\ttwo fifty a m, 1:30 p.m.\n",
    "\n",
    "MONEY\t175 million Canadian Dollars, GBP 10.40\n",
    "\n",
    "PERCENT\ttwenty pct, 18.75 %\n",
    "\n",
    "FACILITY\tWashington Monument, Stonehenge\n",
    "\n",
    "GPE\t(Geo-Political Entity) South East Asia, Midlothian"
   ]
  },
  {
   "cell_type": "markdown",
   "metadata": {},
   "source": [
    "The imagee below shows the architecture for a simple information extraction system. It begins by processing a document using several of the procedures discussed before : first, the raw text of the document is split into sentences using a sentence segmenter, and each sentence is further subdivided into words using a tokenizer. Next, each sentence is tagged with part-of-speech tags, which will prove very helpful in the next step, named entity detection. In this step, we search for mentions of potentially interesting entities in each sentence. Finally, we use relation detection to search for likely relations between different entities in the text.\n",
    "\n",
    "We should keep in mind that B-because models are statistical and strongly depend on the examples they were trained on, this doesn't always work perfectly and might need some tuning later, depending on your use case."
   ]
  },
  {
   "cell_type": "code",
   "execution_count": 223,
   "metadata": {},
   "outputs": [
    {
     "data": {
      "image/png": "[encoded data removed]",
      "text/plain": [
       "<IPython.core.display.Image object>"
      ]
     },
     "execution_count": 223,
     "metadata": {},
     "output_type": "execute_result"
    }
   ],
   "source": [
    "from IPython.display import Image\n",
    "Image(\"NR_architecture.png\")"
   ]
  },
  {
   "cell_type": "code",
   "execution_count": 216,
   "metadata": {},
   "outputs": [
    {
     "data": {
      "image/png": "[encoded data removed]",
      "text/plain": [
       "Tree('S', [Tree('PERSON', [('Steve', 'NNP')]), Tree('GPE', [('Jobs', 'NNP')]), (',', ','), ('the', 'DT'), Tree('ORGANIZATION', [('CEO', 'NNP')]), ('of', 'IN'), Tree('ORGANIZATION', [('Apple', 'NNP'), ('Inc.', 'NNP')]), ('is', 'VBZ'), ('living', 'VBG'), ('in', 'IN'), Tree('GPE', [('San', 'NNP'), ('Francisco', 'NNP')]), ('.', '.')])"
      ]
     },
     "execution_count": 216,
     "metadata": {},
     "output_type": "execute_result"
    }
   ],
   "source": [
    "import nltk\n",
    "\n",
    "sentence=\"Steve Jobs, the CEO of Apple Inc. is living in San Francisco.\"\n",
    "\n",
    "# we at first tokenize and pos_tag; and then chunk the entities\n",
    "\n",
    "tokens=nltk.word_tokenize(sentence)\n",
    "\n",
    "chunks=nltk.ne_chunk(nltk.pos_tag(tokens))\n",
    "\n",
    "chunks"
   ]
  },
  {
   "cell_type": "code",
   "execution_count": 217,
   "metadata": {},
   "outputs": [
    {
     "name": "stdout",
     "output_type": "stream",
     "text": [
      "(PERSON Steve/NNP)\n",
      "(GPE Jobs/NNP)\n",
      "(',', ',')\n",
      "('the', 'DT')\n",
      "(ORGANIZATION CEO/NNP)\n",
      "('of', 'IN')\n",
      "(ORGANIZATION Apple/NNP Inc./NNP)\n",
      "('is', 'VBZ')\n",
      "('living', 'VBG')\n",
      "('in', 'IN')\n",
      "(GPE San/NNP Francisco/NNP)\n",
      "('.', '.')\n"
     ]
    }
   ],
   "source": [
    "for chunk in chunks:\n",
    "    print (chunk)"
   ]
  },
  {
   "cell_type": "code",
   "execution_count": 218,
   "metadata": {},
   "outputs": [
    {
     "name": "stdout",
     "output_type": "stream",
     "text": [
      "PERSON Steve\n",
      "GPE Jobs\n",
      "ORGANIZATION CEO\n",
      "ORGANIZATION Apple Inc.\n",
      "GPE San Francisco\n"
     ]
    }
   ],
   "source": [
    "for chunk in chunks:\n",
    "    if hasattr(chunk, 'label'):\n",
    "        print(chunk.label(), ' '.join(c[0] for c in chunk))"
   ]
  },
  {
   "cell_type": "markdown",
   "metadata": {},
   "source": [
    "As you can realize, Steve is recognizd as name but Jobs is recognized as location. Since we used the simplest way of NER eembedded in NLTK, it's not strong enough to catch these kind of consecutive entities as a one.\n",
    "\n",
    "In practice, we generally use much stronger and efficient NER packages such as StandfordNERTagger, Spacy etc. "
   ]
  },
  {
   "cell_type": "markdown",
   "metadata": {},
   "source": [
    "### Let's apply these NLP procedures with Spacy package"
   ]
  },
  {
   "cell_type": "markdown",
   "metadata": {},
   "source": [
    "Applying all these processes with Spacy package is quite easy and straightforward. We should decide which package to use by checking the accuracy or any other metrics that we want to deal with."
   ]
  },
  {
   "cell_type": "code",
   "execution_count": 238,
   "metadata": {},
   "outputs": [
    {
     "name": "stdout",
     "output_type": "stream",
     "text": [
      "galaxies\n",
      "recede\n",
      "from\n",
      "us\n",
      "at\n",
      "speeds\n",
      "proportional\n",
      "to\n",
      "their\n",
      "distances\n",
      ",\n",
      "going\n",
      "faster\n",
      "the\n",
      "farther\n",
      "away\n",
      "they\n",
      "are\n",
      ".\n"
     ]
    }
   ],
   "source": [
    "# We at first import Spacy package and load \"English\" parser. \n",
    "# Then we dump any text into this parser and Spacy will apply various preprocssing mthods as default.\n",
    "# all we need to do is to usee relevant functions to extract what we wamt such as tokens, lemmas, pos etc.\n",
    "\n",
    "import spacy\n",
    "\n",
    "nlp = spacy.load('en')\n",
    "\n",
    "doc = nlp('galaxies recede from us at speeds proportional to their distances, going faster the farther away they are.')\n",
    "\n",
    "# now text is parsed by nearly all the basic NLP techniques and we are ready to extract what we need.\n",
    "\n",
    "# tokenization \n",
    "for token in doc:\n",
    "    print(token.text)"
   ]
  },
  {
   "cell_type": "code",
   "execution_count": 209,
   "metadata": {},
   "outputs": [
    {
     "name": "stdout",
     "output_type": "stream",
     "text": [
      "galaxies==>galaxy==>NOUN==>NNS==>nsubj==>xxxx==>True==>False\n",
      "recede==>recede==>VERB==>VBP==>ROOT==>xxxx==>True==>False\n",
      "from==>from==>ADP==>IN==>prep==>xxxx==>True==>True\n",
      "us==>-PRON-==>PRON==>PRP==>pobj==>xx==>True==>True\n",
      "at==>at==>ADP==>IN==>prep==>xx==>True==>True\n",
      "speeds==>speed==>NOUN==>NNS==>compound==>xxxx==>True==>False\n",
      "proportional==>proportional==>ADJ==>JJ==>pobj==>xxxx==>True==>False\n",
      "to==>to==>ADP==>IN==>prep==>xx==>True==>True\n",
      "their==>-PRON-==>ADJ==>PRP$==>poss==>xxxx==>True==>True\n",
      "distances==>distance==>NOUN==>NNS==>pobj==>xxxx==>True==>False\n",
      ",==>,==>PUNCT==>,==>punct==>,==>False==>False\n",
      "going==>go==>VERB==>VBG==>advcl==>xxxx==>True==>False\n",
      "faster==>fast==>ADV==>RBR==>advmod==>xxxx==>True==>False\n",
      "the==>the==>DET==>DT==>det==>xxx==>True==>True\n",
      "farther==>far==>ADV==>RB==>advmod==>xxxx==>True==>False\n",
      "away==>away==>ADV==>RB==>advmod==>xxxx==>True==>False\n",
      "they==>-PRON-==>PRON==>PRP==>nsubj==>xxxx==>True==>True\n",
      "are==>be==>VERB==>VBP==>ccomp==>xxx==>True==>True\n",
      ".==>.==>PUNCT==>.==>punct==>.==>False==>False\n"
     ]
    }
   ],
   "source": [
    "# lemmatization and POS\n",
    "\n",
    "# text: The original word text.\n",
    "# lemma: The base form of the word.\n",
    "# pos: The simple part-of-speech tag.\n",
    "# tag: The detailed part-of-speech tag.\n",
    "# dep: Syntactic dependency, i.e. the relation between tokens.\n",
    "# shape: The word shape – capitalisation, punctuation, digits.\n",
    "# is alpha: Is the token an alpha character?\n",
    "# is stop: Is the token part of a stop list, i.e. the most common words of the language?\n",
    "\n",
    "for token in doc:\n",
    "    print(token.text, token.lemma_, token.pos_, token.tag_,\n",
    "         token.dep_, token.shape_, token.is_alpha, token.is_stop, sep=\"==>\")"
   ]
  },
  {
   "cell_type": "code",
   "execution_count": 183,
   "metadata": {},
   "outputs": [
    {
     "data": {
      "text/html": [
       "<div>\n",
       "<style scoped>\n",
       "    .dataframe tbody tr th:only-of-type {\n",
       "        vertical-align: middle;\n",
       "    }\n",
       "\n",
       "    .dataframe tbody tr th {\n",
       "        vertical-align: top;\n",
       "    }\n",
       "\n",
       "    .dataframe thead th {\n",
       "        text-align: right;\n",
       "    }\n",
       "</style>\n",
       "<table border=\"1\" class=\"dataframe\">\n",
       "  <thead>\n",
       "    <tr style=\"text-align: right;\">\n",
       "      <th></th>\n",
       "      <th>tokens</th>\n",
       "      <th>lemmas</th>\n",
       "      <th>pos</th>\n",
       "      <th>tag</th>\n",
       "      <th>dep</th>\n",
       "      <th>shape</th>\n",
       "      <th>is_alpha</th>\n",
       "      <th>is_stop</th>\n",
       "    </tr>\n",
       "  </thead>\n",
       "  <tbody>\n",
       "    <tr>\n",
       "      <th>0</th>\n",
       "      <td>galaxies</td>\n",
       "      <td>galaxy</td>\n",
       "      <td>NOUN</td>\n",
       "      <td>NNS</td>\n",
       "      <td>nsubj</td>\n",
       "      <td>xxxx</td>\n",
       "      <td>True</td>\n",
       "      <td>False</td>\n",
       "    </tr>\n",
       "    <tr>\n",
       "      <th>1</th>\n",
       "      <td>recede</td>\n",
       "      <td>recede</td>\n",
       "      <td>VERB</td>\n",
       "      <td>VBP</td>\n",
       "      <td>ROOT</td>\n",
       "      <td>xxxx</td>\n",
       "      <td>True</td>\n",
       "      <td>False</td>\n",
       "    </tr>\n",
       "    <tr>\n",
       "      <th>2</th>\n",
       "      <td>from</td>\n",
       "      <td>from</td>\n",
       "      <td>ADP</td>\n",
       "      <td>IN</td>\n",
       "      <td>prep</td>\n",
       "      <td>xxxx</td>\n",
       "      <td>True</td>\n",
       "      <td>True</td>\n",
       "    </tr>\n",
       "    <tr>\n",
       "      <th>3</th>\n",
       "      <td>us</td>\n",
       "      <td>-PRON-</td>\n",
       "      <td>PRON</td>\n",
       "      <td>PRP</td>\n",
       "      <td>pobj</td>\n",
       "      <td>xx</td>\n",
       "      <td>True</td>\n",
       "      <td>True</td>\n",
       "    </tr>\n",
       "    <tr>\n",
       "      <th>4</th>\n",
       "      <td>at</td>\n",
       "      <td>at</td>\n",
       "      <td>ADP</td>\n",
       "      <td>IN</td>\n",
       "      <td>prep</td>\n",
       "      <td>xx</td>\n",
       "      <td>True</td>\n",
       "      <td>True</td>\n",
       "    </tr>\n",
       "    <tr>\n",
       "      <th>5</th>\n",
       "      <td>speeds</td>\n",
       "      <td>speed</td>\n",
       "      <td>NOUN</td>\n",
       "      <td>NNS</td>\n",
       "      <td>compound</td>\n",
       "      <td>xxxx</td>\n",
       "      <td>True</td>\n",
       "      <td>False</td>\n",
       "    </tr>\n",
       "    <tr>\n",
       "      <th>6</th>\n",
       "      <td>proportional</td>\n",
       "      <td>proportional</td>\n",
       "      <td>ADJ</td>\n",
       "      <td>JJ</td>\n",
       "      <td>pobj</td>\n",
       "      <td>xxxx</td>\n",
       "      <td>True</td>\n",
       "      <td>False</td>\n",
       "    </tr>\n",
       "    <tr>\n",
       "      <th>7</th>\n",
       "      <td>to</td>\n",
       "      <td>to</td>\n",
       "      <td>ADP</td>\n",
       "      <td>IN</td>\n",
       "      <td>prep</td>\n",
       "      <td>xx</td>\n",
       "      <td>True</td>\n",
       "      <td>True</td>\n",
       "    </tr>\n",
       "    <tr>\n",
       "      <th>8</th>\n",
       "      <td>their</td>\n",
       "      <td>-PRON-</td>\n",
       "      <td>ADJ</td>\n",
       "      <td>PRP$</td>\n",
       "      <td>poss</td>\n",
       "      <td>xxxx</td>\n",
       "      <td>True</td>\n",
       "      <td>True</td>\n",
       "    </tr>\n",
       "    <tr>\n",
       "      <th>9</th>\n",
       "      <td>distances</td>\n",
       "      <td>distance</td>\n",
       "      <td>NOUN</td>\n",
       "      <td>NNS</td>\n",
       "      <td>pobj</td>\n",
       "      <td>xxxx</td>\n",
       "      <td>True</td>\n",
       "      <td>False</td>\n",
       "    </tr>\n",
       "    <tr>\n",
       "      <th>10</th>\n",
       "      <td>,</td>\n",
       "      <td>,</td>\n",
       "      <td>PUNCT</td>\n",
       "      <td>,</td>\n",
       "      <td>punct</td>\n",
       "      <td>,</td>\n",
       "      <td>False</td>\n",
       "      <td>False</td>\n",
       "    </tr>\n",
       "    <tr>\n",
       "      <th>11</th>\n",
       "      <td>going</td>\n",
       "      <td>go</td>\n",
       "      <td>VERB</td>\n",
       "      <td>VBG</td>\n",
       "      <td>advcl</td>\n",
       "      <td>xxxx</td>\n",
       "      <td>True</td>\n",
       "      <td>False</td>\n",
       "    </tr>\n",
       "    <tr>\n",
       "      <th>12</th>\n",
       "      <td>faster</td>\n",
       "      <td>fast</td>\n",
       "      <td>ADV</td>\n",
       "      <td>RBR</td>\n",
       "      <td>advmod</td>\n",
       "      <td>xxxx</td>\n",
       "      <td>True</td>\n",
       "      <td>False</td>\n",
       "    </tr>\n",
       "    <tr>\n",
       "      <th>13</th>\n",
       "      <td>the</td>\n",
       "      <td>the</td>\n",
       "      <td>DET</td>\n",
       "      <td>DT</td>\n",
       "      <td>det</td>\n",
       "      <td>xxx</td>\n",
       "      <td>True</td>\n",
       "      <td>True</td>\n",
       "    </tr>\n",
       "    <tr>\n",
       "      <th>14</th>\n",
       "      <td>farther</td>\n",
       "      <td>far</td>\n",
       "      <td>ADV</td>\n",
       "      <td>RB</td>\n",
       "      <td>advmod</td>\n",
       "      <td>xxxx</td>\n",
       "      <td>True</td>\n",
       "      <td>False</td>\n",
       "    </tr>\n",
       "    <tr>\n",
       "      <th>15</th>\n",
       "      <td>away</td>\n",
       "      <td>away</td>\n",
       "      <td>ADV</td>\n",
       "      <td>RB</td>\n",
       "      <td>advmod</td>\n",
       "      <td>xxxx</td>\n",
       "      <td>True</td>\n",
       "      <td>False</td>\n",
       "    </tr>\n",
       "    <tr>\n",
       "      <th>16</th>\n",
       "      <td>they</td>\n",
       "      <td>-PRON-</td>\n",
       "      <td>PRON</td>\n",
       "      <td>PRP</td>\n",
       "      <td>nsubj</td>\n",
       "      <td>xxxx</td>\n",
       "      <td>True</td>\n",
       "      <td>True</td>\n",
       "    </tr>\n",
       "    <tr>\n",
       "      <th>17</th>\n",
       "      <td>are</td>\n",
       "      <td>be</td>\n",
       "      <td>VERB</td>\n",
       "      <td>VBP</td>\n",
       "      <td>ccomp</td>\n",
       "      <td>xxx</td>\n",
       "      <td>True</td>\n",
       "      <td>True</td>\n",
       "    </tr>\n",
       "    <tr>\n",
       "      <th>18</th>\n",
       "      <td>.</td>\n",
       "      <td>.</td>\n",
       "      <td>PUNCT</td>\n",
       "      <td>.</td>\n",
       "      <td>punct</td>\n",
       "      <td>.</td>\n",
       "      <td>False</td>\n",
       "      <td>False</td>\n",
       "    </tr>\n",
       "  </tbody>\n",
       "</table>\n",
       "</div>"
      ],
      "text/plain": [
       "          tokens        lemmas    pos   tag       dep shape  is_alpha  is_stop\n",
       "0       galaxies        galaxy   NOUN   NNS     nsubj  xxxx      True    False\n",
       "1         recede        recede   VERB   VBP      ROOT  xxxx      True    False\n",
       "2           from          from    ADP    IN      prep  xxxx      True     True\n",
       "3             us        -PRON-   PRON   PRP      pobj    xx      True     True\n",
       "4             at            at    ADP    IN      prep    xx      True     True\n",
       "5         speeds         speed   NOUN   NNS  compound  xxxx      True    False\n",
       "6   proportional  proportional    ADJ    JJ      pobj  xxxx      True    False\n",
       "7             to            to    ADP    IN      prep    xx      True     True\n",
       "8          their        -PRON-    ADJ  PRP$      poss  xxxx      True     True\n",
       "9      distances      distance   NOUN   NNS      pobj  xxxx      True    False\n",
       "10             ,             ,  PUNCT     ,     punct     ,     False    False\n",
       "11         going            go   VERB   VBG     advcl  xxxx      True    False\n",
       "12        faster          fast    ADV   RBR    advmod  xxxx      True    False\n",
       "13           the           the    DET    DT       det   xxx      True     True\n",
       "14       farther           far    ADV    RB    advmod  xxxx      True    False\n",
       "15          away          away    ADV    RB    advmod  xxxx      True    False\n",
       "16          they        -PRON-   PRON   PRP     nsubj  xxxx      True     True\n",
       "17           are            be   VERB   VBP     ccomp   xxx      True     True\n",
       "18             .             .  PUNCT     .     punct     .     False    False"
      ]
     },
     "execution_count": 183,
     "metadata": {},
     "output_type": "execute_result"
    }
   ],
   "source": [
    "#lets view this parsing in Pandas dataframe\n",
    "\n",
    "tokens=[token.text for token in doc]\n",
    "lemmas=[token.lemma_ for token in doc]\n",
    "pos=[token.pos_ for token in doc]\n",
    "tag=[token.tag_ for token in doc]\n",
    "dep=[token.dep_ for token in doc]\n",
    "shape=[token.shape_ for token in doc]\n",
    "is_alpha=[token.is_alpha for token in doc]\n",
    "is_stop=[token.is_stop for token in doc]\n",
    "\n",
    "import pandas as pd\n",
    "\n",
    "pd.DataFrame({\"tokens\":tokens, \"lemmas\":lemmas, \"pos\":pos, \"tag\":tag, \n",
    "             \"dep\": dep, \"shape\":shape, \"is_alpha\":is_alpha, \"is_stop\":is_stop}, \n",
    "             columns=[\"tokens\", \"lemmas\", \"pos\", \"tag\", \"dep\", \"shape\", \"is_alpha\", \"is_stop\"])"
   ]
  },
  {
   "cell_type": "markdown",
   "metadata": {},
   "source": [
    "***text:*** The original word text.\n",
    "\n",
    "***lemma:*** The base form of the word.\n",
    "\n",
    "***pos:*** The simple part-of-speech tag.\n",
    "\n",
    "***tag:*** The detailed part-of-speech tag.\n",
    "\n",
    "***dep:*** Syntactic dependency, i.e. the relation between tokens.\n",
    "\n",
    "***shape:*** The word shape – capitalisation, punctuation, digits.\n",
    "\n",
    "***is alpha:*** Is the token an alpha character?\n",
    "\n",
    "***is stop:*** Is the token part of a stop list, i.e. the most common words of the language?\n"
   ]
  },
  {
   "cell_type": "markdown",
   "metadata": {},
   "source": [
    "***NER :*** Named entities are available as the ***ents*** property of a doc:"
   ]
  },
  {
   "cell_type": "code",
   "execution_count": 237,
   "metadata": {},
   "outputs": [
    {
     "name": "stdout",
     "output_type": "stream",
     "text": [
      "Steve Jobs PERSON\n",
      "Apple Inc. ORG\n",
      "San Francisco GPE\n"
     ]
    }
   ],
   "source": [
    "import spacy\n",
    "\n",
    "nlp = spacy.load('en')\n",
    "doc = nlp(\"Steve Jobs, the CEO of Apple Inc. is living in San Francisco.\")\n",
    "\n",
    "for ent in doc.ents:\n",
    "    print(ent.text, ent.label_)"
   ]
  },
  {
   "cell_type": "markdown",
   "metadata": {},
   "source": [
    "We see that, without applying any other procedure, with just a few lines of code, Steve and Jobs are recognized as a whole person."
   ]
  },
  {
   "cell_type": "markdown",
   "metadata": {},
   "source": [
    "## 4. NLP Techniques and Algorithms\n"
   ]
  },
  {
   "cell_type": "markdown",
   "metadata": {},
   "source": [
    "### N-grams"
   ]
  },
  {
   "cell_type": "markdown",
   "metadata": {},
   "source": [
    "N-gram is a continuous sequence of n items from a given sequence of text or speech and N-grams of texts are extensively used in text mining and natural language processing tasks. In other words, n-grams are simply all combinations of adjacent words or letters of length n that you can find in your source text. If it's a one word gram, it's called unigram, bigram for two-word grams, trigram for three-word grams and so on.\n",
    "\n",
    "They are basically a set of co-occuring words within a given window and when computing the n-grams you typically move one word forward.\n",
    "\n",
    "N-grams are used for a variety of different task. For example, when developing a language model, n-grams are used to develop not just unigram models but also bigram and trigram models. Another simple purpose would be building a keyword sequesnces made of multiple words. One another use of n-grams, may be the most important one, is for developing features for supervised Machine Learning models such as SVMs, Naive Bayes, etc. The idea is to use tokens such as bigrams in the feature space instead of just unigrams.\n",
    "\n"
   ]
  },
  {
   "cell_type": "code",
   "execution_count": 1,
   "metadata": {},
   "outputs": [
    {
     "data": {
      "image/png": "[encoded data removed]",
      "text/plain": [
       "<IPython.core.display.Image object>"
      ]
     },
     "execution_count": 1,
     "metadata": {},
     "output_type": "execute_result"
    }
   ],
   "source": [
    "# To better understand grams, let's look at the imgae below.. a picture is worth thousand words !\n",
    "\n",
    "from IPython.display import Image\n",
    "Image(\"ngrams.png\")"
   ]
  },
  {
   "cell_type": "code",
   "execution_count": 2,
   "metadata": {},
   "outputs": [],
   "source": [
    "# Lets see what unigram is and how we can produce it with NLTK package in Python.\n",
    "# First we load our sample text again and import NLTK package\n",
    "\n",
    "import nltk\n",
    "\n",
    "with open (\"sample_text.txt\", \"r\") as f:\n",
    "    sample_text=f.read()"
   ]
  },
  {
   "cell_type": "code",
   "execution_count": 3,
   "metadata": {},
   "outputs": [],
   "source": [
    "# Since unigrams are basically the distinct set of word tokens we have seen before, we can use tokenization to generate unigrams.\n",
    "# First, we use word_tokenize() function of NLTK to produce tokens, also know as unigrams for this lecture.\n",
    "# Then we use remove_punctuation() function we wrote before, to elimnate the punctuations from the tokens.\n",
    "\n",
    "import regex as re\n",
    "\n",
    "def remove_punctuation(words):\n",
    "    \"\"\"Remove punctuation from list of tokenized words\"\"\"\n",
    "    new_words = []\n",
    "    for word in words:\n",
    "        new_word = re.sub(r'[^\\w\\s]', '', word)\n",
    "        if new_word != '':\n",
    "            new_words.append(new_word)\n",
    "    return new_words"
   ]
  },
  {
   "cell_type": "code",
   "execution_count": 4,
   "metadata": {},
   "outputs": [
    {
     "name": "stdout",
     "output_type": "stream",
     "text": [
      "['the', 'answer', 'to', 'the', 'question', 'of', 'the', 'universe', 's', 'expansion', 'rate', 'is', 'something', 'called', 'the', 'hubble', 'constant', 'named', 'after', 'the', 'astronomer', 'edwin', 'hubble', 'who', 'discovered', 'in', 'the', '1920s', 'that', 'the', 'universe', 'is', 'expanding', 'galaxies', 'recede', 'from', 'us', 'at', 'speeds', 'proportional', 'to', 'their', 'distances', 'going', 'faster', 'the', 'farther', 'away', 'they', 'are', 'the', 'hubble', 'constant', 'codifies', 'this', 'relationship', 'between', 'cosmic', 'distances', 'and', 'velocities', 'but', 'in', 'doing', 'so', 'it', 'reveals', 'much', 'more', 'making', 'it', 'of', 'interest', 'not', 'only', 'to', 'astronomers', 'but', 'also', 'to', 'cosmologists', 'and', 'physicists', 'because', 'the', 'constant', 'represents', 'the', 'expansion', 'rate', 'at', 'any', 'particular', 'moment', 'in', 'the', 'universe', 's', 'long', 'history', 'measuring', 'its', 'value', 'over', 'time', 'provides', 'an', 'expansive', 'view', 'of', 'how', 'the', 'universe', 'evolves', 'over', 'the', 'eons', 'giving', 'researchers', 'crucial', 'clues', 'to', 'our', 'cosmic', 'origins', 'and', 'future', 'somehow', 'beckoned', 'by', 'the', 'void', 'billions', 'of', 'outwardrushing', 'galaxies', 'also', 'feel', 'the', 'collective', 'gravitational', 'pull', 'of', 'everything', 'in', 'the', 'rearview', 'mirror', 'trying', 'to', 'tug', 'them', 'back', 'the', 'hubble', 'constant', 'reflects', 'the', 'sum', 'total', 'of', 'all', 'the', 'stuff', 'in', 'the', 'universe', 'and', 'the', 'forces', 'acting', 'on', 'itweighing', 'in', 'on', 'whether', 'gravity', 'or', 'the', 'void', 'will', 'ultimately', 'win', 'this', 'intergalactic', 'tugofwar', 'the', 'universe', 's', 'contents', 'could', 'eventually', 'reverse', 'the', 'expansiona', 'scenario', 'called', 'the', 'big', 'crunch', 'in', 'which', 'gravity', 'pulls', 'everything', 'back', 'into', 'an', 'infinitely', 'hot', 'and', 'dense', 'point', 'like', 'the', 'one', 'that', 'birthed', 'the', 'big', 'bang', 'or', 'the', 'universe', 'might', 'steadily', 'expand', 'indefinitely', 'growing', 'ever', 'colder', 'and', 'listless', 'in', 'a', 'big', 'chill', 'that', 'offers', 'endless', 'space', 'and', 'timebut', 'ultimately', 'very', 'little', 'to', 'do', 'or', 'just', 'maybe', 'the', 'cosmic', 'expansion', 'will', 'dramatically', 'speed', 'up', 'becoming', 'so', 'unruly', 'that', 'it', 'bucks', 'all', 'its', 'riders', 'such', 'an', 'accelerating', 'universe', 'could', 'sunder', 'galaxies', 'then', 'stars', 'then', 'planets', 'atoms', 'and', 'subatomic', 'particles', 'until', 'even', 'the', 'fabric', 'of', 'reality', 'itself', 'splits', 'at', 'its', 'seams', 'in', 'a', 'big', 'rip', 'that', 'leaves', 'practically', 'nothing', 'behind', 'will', 'the', 'universe', 'end', 'in', 'fire', 'ice', 'or', 'emptiness', 'the', 'hubble', 'constant', 'knowsbut', 'until', 'the', 'tension', 'is', 'resolved', 'the', 'answer', 'is', 'unclear']\n"
     ]
    }
   ],
   "source": [
    "\"\"\"\n",
    "But we better lower the text to standardize the tokens so that \n",
    "Python understand that capitalized words and lowercased words are exactly the same.\n",
    "\"\"\"\n",
    "sample_text=sample_text.lower()\n",
    "\n",
    "words = nltk.word_tokenize(sample_text)\n",
    "\n",
    "tokens= remove_punctuation (words)\n",
    "\n",
    "print (tokens)"
   ]
  },
  {
   "cell_type": "code",
   "execution_count": 5,
   "metadata": {},
   "outputs": [
    {
     "data": {
      "text/plain": [
       "FreqDist({'the': 35, 'in': 10, 'universe': 9, 'and': 8, 'to': 7, 'of': 7, 'hubble': 5, 'constant': 5, 'that': 5, 'is': 4, ...})"
      ]
     },
     "execution_count": 5,
     "metadata": {},
     "output_type": "execute_result"
    }
   ],
   "source": [
    "# Let's see the number of each unigram within this sample\n",
    "\n",
    "token_freq=nltk.FreqDist(tokens)\n",
    "\n",
    "# remeber that, nltk.FreqDist() function returns a key-value pair in dictiınary format.\n",
    "token_freq"
   ]
  },
  {
   "cell_type": "code",
   "execution_count": 6,
   "metadata": {
    "scrolled": true
   },
   "outputs": [
    {
     "name": "stdout",
     "output_type": "stream",
     "text": [
      "the 35\n",
      "answer 2\n",
      "to 7\n",
      "question 1\n",
      "of 7\n",
      "universe 9\n",
      "s 3\n",
      "expansion 3\n",
      "rate 2\n",
      "is 4\n",
      "something 1\n",
      "called 2\n",
      "hubble 5\n",
      "constant 5\n",
      "named 1\n",
      "after 1\n",
      "astronomer 1\n",
      "edwin 1\n",
      "who 1\n",
      "discovered 1\n",
      "in 10\n",
      "1920s 1\n",
      "that 5\n",
      "expanding 1\n",
      "galaxies 3\n",
      "recede 1\n",
      "from 1\n",
      "us 1\n",
      "at 3\n",
      "speeds 1\n",
      "proportional 1\n",
      "their 1\n",
      "distances 2\n",
      "going 1\n",
      "faster 1\n",
      "farther 1\n",
      "away 1\n",
      "they 1\n",
      "are 1\n",
      "codifies 1\n",
      "this 2\n",
      "relationship 1\n",
      "between 1\n",
      "cosmic 3\n",
      "and 8\n",
      "velocities 1\n",
      "but 2\n",
      "doing 1\n",
      "so 2\n",
      "it 3\n",
      "reveals 1\n",
      "much 1\n",
      "more 1\n",
      "making 1\n",
      "interest 1\n",
      "not 1\n",
      "only 1\n",
      "astronomers 1\n",
      "also 2\n",
      "cosmologists 1\n",
      "physicists 1\n",
      "because 1\n",
      "represents 1\n",
      "any 1\n",
      "particular 1\n",
      "moment 1\n",
      "long 1\n",
      "history 1\n",
      "measuring 1\n",
      "its 3\n",
      "value 1\n",
      "over 2\n",
      "time 1\n",
      "provides 1\n",
      "an 3\n",
      "expansive 1\n",
      "view 1\n",
      "how 1\n",
      "evolves 1\n",
      "eons 1\n",
      "giving 1\n",
      "researchers 1\n",
      "crucial 1\n",
      "clues 1\n",
      "our 1\n",
      "origins 1\n",
      "future 1\n",
      "somehow 1\n",
      "beckoned 1\n",
      "by 1\n",
      "void 2\n",
      "billions 1\n",
      "outwardrushing 1\n",
      "feel 1\n",
      "collective 1\n",
      "gravitational 1\n",
      "pull 1\n",
      "everything 2\n",
      "rearview 1\n",
      "mirror 1\n",
      "trying 1\n",
      "tug 1\n",
      "them 1\n",
      "back 2\n",
      "reflects 1\n",
      "sum 1\n",
      "total 1\n",
      "all 2\n",
      "stuff 1\n",
      "forces 1\n",
      "acting 1\n",
      "on 2\n",
      "itweighing 1\n",
      "whether 1\n",
      "gravity 2\n",
      "or 4\n",
      "will 3\n",
      "ultimately 2\n",
      "win 1\n",
      "intergalactic 1\n",
      "tugofwar 1\n",
      "contents 1\n",
      "could 2\n",
      "eventually 1\n",
      "reverse 1\n",
      "expansiona 1\n",
      "scenario 1\n",
      "big 4\n",
      "crunch 1\n",
      "which 1\n",
      "pulls 1\n",
      "into 1\n",
      "infinitely 1\n",
      "hot 1\n",
      "dense 1\n",
      "point 1\n",
      "like 1\n",
      "one 1\n",
      "birthed 1\n",
      "bang 1\n",
      "might 1\n",
      "steadily 1\n",
      "expand 1\n",
      "indefinitely 1\n",
      "growing 1\n",
      "ever 1\n",
      "colder 1\n",
      "listless 1\n",
      "a 2\n",
      "chill 1\n",
      "offers 1\n",
      "endless 1\n",
      "space 1\n",
      "timebut 1\n",
      "very 1\n",
      "little 1\n",
      "do 1\n",
      "just 1\n",
      "maybe 1\n",
      "dramatically 1\n",
      "speed 1\n",
      "up 1\n",
      "becoming 1\n",
      "unruly 1\n",
      "bucks 1\n",
      "riders 1\n",
      "such 1\n",
      "accelerating 1\n",
      "sunder 1\n",
      "then 2\n",
      "stars 1\n",
      "planets 1\n",
      "atoms 1\n",
      "subatomic 1\n",
      "particles 1\n",
      "until 2\n",
      "even 1\n",
      "fabric 1\n",
      "reality 1\n",
      "itself 1\n",
      "splits 1\n",
      "seams 1\n",
      "rip 1\n",
      "leaves 1\n",
      "practically 1\n",
      "nothing 1\n",
      "behind 1\n",
      "end 1\n",
      "fire 1\n",
      "ice 1\n",
      "emptiness 1\n",
      "knowsbut 1\n",
      "tension 1\n",
      "resolved 1\n",
      "unclear 1\n"
     ]
    }
   ],
   "source": [
    "# Let's write each unigram along with its count. \n",
    "\n",
    "for token in token_freq.keys(): # as you can see above, keys of token_freq are unigrams, and values are counts.\n",
    "    print (token, token_freq[token])"
   ]
  },
  {
   "cell_type": "code",
   "execution_count": null,
   "metadata": {},
   "outputs": [],
   "source": [
    "# As you can see, now we have all the unigrams and the number of occurences of each unigram."
   ]
  },
  {
   "cell_type": "code",
   "execution_count": 7,
   "metadata": {},
   "outputs": [
    {
     "name": "stdout",
     "output_type": "stream",
     "text": [
      "('the', 'answer') 2\n",
      "('answer', 'to') 1\n",
      "('to', 'the') 1\n",
      "('the', 'question') 1\n",
      "('question', 'of') 1\n",
      "('of', 'the') 1\n",
      "('the', 'universe') 8\n",
      "('universe', 's') 3\n",
      "('s', 'expansion') 1\n",
      "('expansion', 'rate') 2\n",
      "('rate', 'is') 1\n",
      "('is', 'something') 1\n",
      "('something', 'called') 1\n",
      "('called', 'the') 2\n",
      "('the', 'hubble') 4\n",
      "('hubble', 'constant') 4\n",
      "('constant', 'named') 1\n",
      "('named', 'after') 1\n",
      "('after', 'the') 1\n",
      "('the', 'astronomer') 1\n",
      "('astronomer', 'edwin') 1\n",
      "('edwin', 'hubble') 1\n",
      "('hubble', 'who') 1\n",
      "('who', 'discovered') 1\n",
      "('discovered', 'in') 1\n",
      "('in', 'the') 4\n",
      "('the', '1920s') 1\n",
      "('1920s', 'that') 1\n",
      "('that', 'the') 1\n",
      "('universe', 'is') 1\n",
      "('is', 'expanding') 1\n",
      "('expanding', 'galaxies') 1\n",
      "('galaxies', 'recede') 1\n",
      "('recede', 'from') 1\n",
      "('from', 'us') 1\n",
      "('us', 'at') 1\n",
      "('at', 'speeds') 1\n",
      "('speeds', 'proportional') 1\n",
      "('proportional', 'to') 1\n",
      "('to', 'their') 1\n",
      "('their', 'distances') 1\n",
      "('distances', 'going') 1\n",
      "('going', 'faster') 1\n",
      "('faster', 'the') 1\n",
      "('the', 'farther') 1\n",
      "('farther', 'away') 1\n",
      "('away', 'they') 1\n",
      "('they', 'are') 1\n",
      "('are', 'the') 1\n",
      "('constant', 'codifies') 1\n",
      "('codifies', 'this') 1\n",
      "('this', 'relationship') 1\n",
      "('relationship', 'between') 1\n",
      "('between', 'cosmic') 1\n",
      "('cosmic', 'distances') 1\n",
      "('distances', 'and') 1\n",
      "('and', 'velocities') 1\n",
      "('velocities', 'but') 1\n",
      "('but', 'in') 1\n",
      "('in', 'doing') 1\n",
      "('doing', 'so') 1\n",
      "('so', 'it') 1\n",
      "('it', 'reveals') 1\n",
      "('reveals', 'much') 1\n",
      "('much', 'more') 1\n",
      "('more', 'making') 1\n",
      "('making', 'it') 1\n",
      "('it', 'of') 1\n",
      "('of', 'interest') 1\n",
      "('interest', 'not') 1\n",
      "('not', 'only') 1\n",
      "('only', 'to') 1\n",
      "('to', 'astronomers') 1\n",
      "('astronomers', 'but') 1\n",
      "('but', 'also') 1\n",
      "('also', 'to') 1\n",
      "('to', 'cosmologists') 1\n",
      "('cosmologists', 'and') 1\n",
      "('and', 'physicists') 1\n",
      "('physicists', 'because') 1\n",
      "('because', 'the') 1\n",
      "('the', 'constant') 1\n",
      "('constant', 'represents') 1\n",
      "('represents', 'the') 1\n",
      "('the', 'expansion') 1\n",
      "('rate', 'at') 1\n",
      "('at', 'any') 1\n",
      "('any', 'particular') 1\n",
      "('particular', 'moment') 1\n",
      "('moment', 'in') 1\n",
      "('s', 'long') 1\n",
      "('long', 'history') 1\n",
      "('history', 'measuring') 1\n",
      "('measuring', 'its') 1\n",
      "('its', 'value') 1\n",
      "('value', 'over') 1\n",
      "('over', 'time') 1\n",
      "('time', 'provides') 1\n",
      "('provides', 'an') 1\n",
      "('an', 'expansive') 1\n",
      "('expansive', 'view') 1\n",
      "('view', 'of') 1\n",
      "('of', 'how') 1\n",
      "('how', 'the') 1\n",
      "('universe', 'evolves') 1\n",
      "('evolves', 'over') 1\n",
      "('over', 'the') 1\n",
      "('the', 'eons') 1\n",
      "('eons', 'giving') 1\n",
      "('giving', 'researchers') 1\n",
      "('researchers', 'crucial') 1\n",
      "('crucial', 'clues') 1\n",
      "('clues', 'to') 1\n",
      "('to', 'our') 1\n",
      "('our', 'cosmic') 1\n",
      "('cosmic', 'origins') 1\n",
      "('origins', 'and') 1\n",
      "('and', 'future') 1\n",
      "('future', 'somehow') 1\n",
      "('somehow', 'beckoned') 1\n",
      "('beckoned', 'by') 1\n",
      "('by', 'the') 1\n",
      "('the', 'void') 2\n",
      "('void', 'billions') 1\n",
      "('billions', 'of') 1\n",
      "('of', 'outwardrushing') 1\n",
      "('outwardrushing', 'galaxies') 1\n",
      "('galaxies', 'also') 1\n",
      "('also', 'feel') 1\n",
      "('feel', 'the') 1\n",
      "('the', 'collective') 1\n",
      "('collective', 'gravitational') 1\n",
      "('gravitational', 'pull') 1\n",
      "('pull', 'of') 1\n",
      "('of', 'everything') 1\n",
      "('everything', 'in') 1\n",
      "('the', 'rearview') 1\n",
      "('rearview', 'mirror') 1\n",
      "('mirror', 'trying') 1\n",
      "('trying', 'to') 1\n",
      "('to', 'tug') 1\n",
      "('tug', 'them') 1\n",
      "('them', 'back') 1\n",
      "('back', 'the') 1\n",
      "('constant', 'reflects') 1\n",
      "('reflects', 'the') 1\n",
      "('the', 'sum') 1\n",
      "('sum', 'total') 1\n",
      "('total', 'of') 1\n",
      "('of', 'all') 1\n",
      "('all', 'the') 1\n",
      "('the', 'stuff') 1\n",
      "('stuff', 'in') 1\n",
      "('universe', 'and') 1\n",
      "('and', 'the') 1\n",
      "('the', 'forces') 1\n",
      "('forces', 'acting') 1\n",
      "('acting', 'on') 1\n",
      "('on', 'itweighing') 1\n",
      "('itweighing', 'in') 1\n",
      "('in', 'on') 1\n",
      "('on', 'whether') 1\n",
      "('whether', 'gravity') 1\n",
      "('gravity', 'or') 1\n",
      "('or', 'the') 2\n",
      "('void', 'will') 1\n",
      "('will', 'ultimately') 1\n",
      "('ultimately', 'win') 1\n",
      "('win', 'this') 1\n",
      "('this', 'intergalactic') 1\n",
      "('intergalactic', 'tugofwar') 1\n",
      "('tugofwar', 'the') 1\n",
      "('s', 'contents') 1\n",
      "('contents', 'could') 1\n",
      "('could', 'eventually') 1\n",
      "('eventually', 'reverse') 1\n",
      "('reverse', 'the') 1\n",
      "('the', 'expansiona') 1\n",
      "('expansiona', 'scenario') 1\n",
      "('scenario', 'called') 1\n",
      "('the', 'big') 2\n",
      "('big', 'crunch') 1\n",
      "('crunch', 'in') 1\n",
      "('in', 'which') 1\n",
      "('which', 'gravity') 1\n",
      "('gravity', 'pulls') 1\n",
      "('pulls', 'everything') 1\n",
      "('everything', 'back') 1\n",
      "('back', 'into') 1\n",
      "('into', 'an') 1\n",
      "('an', 'infinitely') 1\n",
      "('infinitely', 'hot') 1\n",
      "('hot', 'and') 1\n",
      "('and', 'dense') 1\n",
      "('dense', 'point') 1\n",
      "('point', 'like') 1\n",
      "('like', 'the') 1\n",
      "('the', 'one') 1\n",
      "('one', 'that') 1\n",
      "('that', 'birthed') 1\n",
      "('birthed', 'the') 1\n",
      "('big', 'bang') 1\n",
      "('bang', 'or') 1\n",
      "('universe', 'might') 1\n",
      "('might', 'steadily') 1\n",
      "('steadily', 'expand') 1\n",
      "('expand', 'indefinitely') 1\n",
      "('indefinitely', 'growing') 1\n",
      "('growing', 'ever') 1\n",
      "('ever', 'colder') 1\n",
      "('colder', 'and') 1\n",
      "('and', 'listless') 1\n",
      "('listless', 'in') 1\n",
      "('in', 'a') 2\n",
      "('a', 'big') 2\n",
      "('big', 'chill') 1\n",
      "('chill', 'that') 1\n",
      "('that', 'offers') 1\n",
      "('offers', 'endless') 1\n",
      "('endless', 'space') 1\n",
      "('space', 'and') 1\n",
      "('and', 'timebut') 1\n",
      "('timebut', 'ultimately') 1\n",
      "('ultimately', 'very') 1\n",
      "('very', 'little') 1\n",
      "('little', 'to') 1\n",
      "('to', 'do') 1\n",
      "('do', 'or') 1\n",
      "('or', 'just') 1\n",
      "('just', 'maybe') 1\n",
      "('maybe', 'the') 1\n",
      "('the', 'cosmic') 1\n",
      "('cosmic', 'expansion') 1\n",
      "('expansion', 'will') 1\n",
      "('will', 'dramatically') 1\n",
      "('dramatically', 'speed') 1\n",
      "('speed', 'up') 1\n",
      "('up', 'becoming') 1\n",
      "('becoming', 'so') 1\n",
      "('so', 'unruly') 1\n",
      "('unruly', 'that') 1\n",
      "('that', 'it') 1\n",
      "('it', 'bucks') 1\n",
      "('bucks', 'all') 1\n",
      "('all', 'its') 1\n",
      "('its', 'riders') 1\n",
      "('riders', 'such') 1\n",
      "('such', 'an') 1\n",
      "('an', 'accelerating') 1\n",
      "('accelerating', 'universe') 1\n",
      "('universe', 'could') 1\n",
      "('could', 'sunder') 1\n",
      "('sunder', 'galaxies') 1\n",
      "('galaxies', 'then') 1\n",
      "('then', 'stars') 1\n",
      "('stars', 'then') 1\n",
      "('then', 'planets') 1\n",
      "('planets', 'atoms') 1\n",
      "('atoms', 'and') 1\n",
      "('and', 'subatomic') 1\n",
      "('subatomic', 'particles') 1\n",
      "('particles', 'until') 1\n",
      "('until', 'even') 1\n",
      "('even', 'the') 1\n",
      "('the', 'fabric') 1\n",
      "('fabric', 'of') 1\n",
      "('of', 'reality') 1\n",
      "('reality', 'itself') 1\n",
      "('itself', 'splits') 1\n",
      "('splits', 'at') 1\n",
      "('at', 'its') 1\n",
      "('its', 'seams') 1\n",
      "('seams', 'in') 1\n",
      "('big', 'rip') 1\n",
      "('rip', 'that') 1\n",
      "('that', 'leaves') 1\n",
      "('leaves', 'practically') 1\n",
      "('practically', 'nothing') 1\n",
      "('nothing', 'behind') 1\n",
      "('behind', 'will') 1\n",
      "('will', 'the') 1\n",
      "('universe', 'end') 1\n",
      "('end', 'in') 1\n",
      "('in', 'fire') 1\n",
      "('fire', 'ice') 1\n",
      "('ice', 'or') 1\n",
      "('or', 'emptiness') 1\n",
      "('emptiness', 'the') 1\n",
      "('constant', 'knowsbut') 1\n",
      "('knowsbut', 'until') 1\n",
      "('until', 'the') 1\n",
      "('the', 'tension') 1\n",
      "('tension', 'is') 1\n",
      "('is', 'resolved') 1\n",
      "('resolved', 'the') 1\n",
      "('answer', 'is') 1\n",
      "('is', 'unclear') 1\n"
     ]
    }
   ],
   "source": [
    "# Now şet's produce bigrams. \n",
    "# When we try to produce bigrams with tokenization procedure it gets complicated..\n",
    "# as we'd need to get the token pairs in a given order by sliding the window by tokens.\n",
    "# Instead, we can use embeedded bigram function of NLTK. This is as simple as this.\n",
    "\n",
    "bigrams=nltk.bigrams(tokens)\n",
    "\n",
    "token_freq=nltk.FreqDist(bigrams)\n",
    "\n",
    "for token in token_freq.keys(): \n",
    "    print (token, token_freq[token])"
   ]
  },
  {
   "cell_type": "code",
   "execution_count": 8,
   "metadata": {},
   "outputs": [
    {
     "name": "stdout",
     "output_type": "stream",
     "text": [
      "('the', 'answer', 'to') 1\n",
      "('answer', 'to', 'the') 1\n",
      "('to', 'the', 'question') 1\n",
      "('the', 'question', 'of') 1\n",
      "('question', 'of', 'the') 1\n",
      "('of', 'the', 'universe') 1\n",
      "('the', 'universe', 's') 3\n",
      "('universe', 's', 'expansion') 1\n",
      "('s', 'expansion', 'rate') 1\n",
      "('expansion', 'rate', 'is') 1\n",
      "('rate', 'is', 'something') 1\n",
      "('is', 'something', 'called') 1\n",
      "('something', 'called', 'the') 1\n",
      "('called', 'the', 'hubble') 1\n",
      "('the', 'hubble', 'constant') 4\n",
      "('hubble', 'constant', 'named') 1\n",
      "('constant', 'named', 'after') 1\n",
      "('named', 'after', 'the') 1\n",
      "('after', 'the', 'astronomer') 1\n",
      "('the', 'astronomer', 'edwin') 1\n",
      "('astronomer', 'edwin', 'hubble') 1\n",
      "('edwin', 'hubble', 'who') 1\n",
      "('hubble', 'who', 'discovered') 1\n",
      "('who', 'discovered', 'in') 1\n",
      "('discovered', 'in', 'the') 1\n",
      "('in', 'the', '1920s') 1\n",
      "('the', '1920s', 'that') 1\n",
      "('1920s', 'that', 'the') 1\n",
      "('that', 'the', 'universe') 1\n",
      "('the', 'universe', 'is') 1\n",
      "('universe', 'is', 'expanding') 1\n",
      "('is', 'expanding', 'galaxies') 1\n",
      "('expanding', 'galaxies', 'recede') 1\n",
      "('galaxies', 'recede', 'from') 1\n",
      "('recede', 'from', 'us') 1\n",
      "('from', 'us', 'at') 1\n",
      "('us', 'at', 'speeds') 1\n",
      "('at', 'speeds', 'proportional') 1\n",
      "('speeds', 'proportional', 'to') 1\n",
      "('proportional', 'to', 'their') 1\n",
      "('to', 'their', 'distances') 1\n",
      "('their', 'distances', 'going') 1\n",
      "('distances', 'going', 'faster') 1\n",
      "('going', 'faster', 'the') 1\n",
      "('faster', 'the', 'farther') 1\n",
      "('the', 'farther', 'away') 1\n",
      "('farther', 'away', 'they') 1\n",
      "('away', 'they', 'are') 1\n",
      "('they', 'are', 'the') 1\n",
      "('are', 'the', 'hubble') 1\n",
      "('hubble', 'constant', 'codifies') 1\n",
      "('constant', 'codifies', 'this') 1\n",
      "('codifies', 'this', 'relationship') 1\n",
      "('this', 'relationship', 'between') 1\n",
      "('relationship', 'between', 'cosmic') 1\n",
      "('between', 'cosmic', 'distances') 1\n",
      "('cosmic', 'distances', 'and') 1\n",
      "('distances', 'and', 'velocities') 1\n",
      "('and', 'velocities', 'but') 1\n",
      "('velocities', 'but', 'in') 1\n",
      "('but', 'in', 'doing') 1\n",
      "('in', 'doing', 'so') 1\n",
      "('doing', 'so', 'it') 1\n",
      "('so', 'it', 'reveals') 1\n",
      "('it', 'reveals', 'much') 1\n",
      "('reveals', 'much', 'more') 1\n",
      "('much', 'more', 'making') 1\n",
      "('more', 'making', 'it') 1\n",
      "('making', 'it', 'of') 1\n",
      "('it', 'of', 'interest') 1\n",
      "('of', 'interest', 'not') 1\n",
      "('interest', 'not', 'only') 1\n",
      "('not', 'only', 'to') 1\n",
      "('only', 'to', 'astronomers') 1\n",
      "('to', 'astronomers', 'but') 1\n",
      "('astronomers', 'but', 'also') 1\n",
      "('but', 'also', 'to') 1\n",
      "('also', 'to', 'cosmologists') 1\n",
      "('to', 'cosmologists', 'and') 1\n",
      "('cosmologists', 'and', 'physicists') 1\n",
      "('and', 'physicists', 'because') 1\n",
      "('physicists', 'because', 'the') 1\n",
      "('because', 'the', 'constant') 1\n",
      "('the', 'constant', 'represents') 1\n",
      "('constant', 'represents', 'the') 1\n",
      "('represents', 'the', 'expansion') 1\n",
      "('the', 'expansion', 'rate') 1\n",
      "('expansion', 'rate', 'at') 1\n",
      "('rate', 'at', 'any') 1\n",
      "('at', 'any', 'particular') 1\n",
      "('any', 'particular', 'moment') 1\n",
      "('particular', 'moment', 'in') 1\n",
      "('moment', 'in', 'the') 1\n",
      "('in', 'the', 'universe') 2\n",
      "('universe', 's', 'long') 1\n",
      "('s', 'long', 'history') 1\n",
      "('long', 'history', 'measuring') 1\n",
      "('history', 'measuring', 'its') 1\n",
      "('measuring', 'its', 'value') 1\n",
      "('its', 'value', 'over') 1\n",
      "('value', 'over', 'time') 1\n",
      "('over', 'time', 'provides') 1\n",
      "('time', 'provides', 'an') 1\n",
      "('provides', 'an', 'expansive') 1\n",
      "('an', 'expansive', 'view') 1\n",
      "('expansive', 'view', 'of') 1\n",
      "('view', 'of', 'how') 1\n",
      "('of', 'how', 'the') 1\n",
      "('how', 'the', 'universe') 1\n",
      "('the', 'universe', 'evolves') 1\n",
      "('universe', 'evolves', 'over') 1\n",
      "('evolves', 'over', 'the') 1\n",
      "('over', 'the', 'eons') 1\n",
      "('the', 'eons', 'giving') 1\n",
      "('eons', 'giving', 'researchers') 1\n",
      "('giving', 'researchers', 'crucial') 1\n",
      "('researchers', 'crucial', 'clues') 1\n",
      "('crucial', 'clues', 'to') 1\n",
      "('clues', 'to', 'our') 1\n",
      "('to', 'our', 'cosmic') 1\n",
      "('our', 'cosmic', 'origins') 1\n",
      "('cosmic', 'origins', 'and') 1\n",
      "('origins', 'and', 'future') 1\n",
      "('and', 'future', 'somehow') 1\n",
      "('future', 'somehow', 'beckoned') 1\n",
      "('somehow', 'beckoned', 'by') 1\n",
      "('beckoned', 'by', 'the') 1\n",
      "('by', 'the', 'void') 1\n",
      "('the', 'void', 'billions') 1\n",
      "('void', 'billions', 'of') 1\n",
      "('billions', 'of', 'outwardrushing') 1\n",
      "('of', 'outwardrushing', 'galaxies') 1\n",
      "('outwardrushing', 'galaxies', 'also') 1\n",
      "('galaxies', 'also', 'feel') 1\n",
      "('also', 'feel', 'the') 1\n",
      "('feel', 'the', 'collective') 1\n",
      "('the', 'collective', 'gravitational') 1\n",
      "('collective', 'gravitational', 'pull') 1\n",
      "('gravitational', 'pull', 'of') 1\n",
      "('pull', 'of', 'everything') 1\n",
      "('of', 'everything', 'in') 1\n",
      "('everything', 'in', 'the') 1\n",
      "('in', 'the', 'rearview') 1\n",
      "('the', 'rearview', 'mirror') 1\n",
      "('rearview', 'mirror', 'trying') 1\n",
      "('mirror', 'trying', 'to') 1\n",
      "('trying', 'to', 'tug') 1\n",
      "('to', 'tug', 'them') 1\n",
      "('tug', 'them', 'back') 1\n",
      "('them', 'back', 'the') 1\n",
      "('back', 'the', 'hubble') 1\n",
      "('hubble', 'constant', 'reflects') 1\n",
      "('constant', 'reflects', 'the') 1\n",
      "('reflects', 'the', 'sum') 1\n",
      "('the', 'sum', 'total') 1\n",
      "('sum', 'total', 'of') 1\n",
      "('total', 'of', 'all') 1\n",
      "('of', 'all', 'the') 1\n",
      "('all', 'the', 'stuff') 1\n",
      "('the', 'stuff', 'in') 1\n",
      "('stuff', 'in', 'the') 1\n",
      "('the', 'universe', 'and') 1\n",
      "('universe', 'and', 'the') 1\n",
      "('and', 'the', 'forces') 1\n",
      "('the', 'forces', 'acting') 1\n",
      "('forces', 'acting', 'on') 1\n",
      "('acting', 'on', 'itweighing') 1\n",
      "('on', 'itweighing', 'in') 1\n",
      "('itweighing', 'in', 'on') 1\n",
      "('in', 'on', 'whether') 1\n",
      "('on', 'whether', 'gravity') 1\n",
      "('whether', 'gravity', 'or') 1\n",
      "('gravity', 'or', 'the') 1\n",
      "('or', 'the', 'void') 1\n",
      "('the', 'void', 'will') 1\n",
      "('void', 'will', 'ultimately') 1\n",
      "('will', 'ultimately', 'win') 1\n",
      "('ultimately', 'win', 'this') 1\n",
      "('win', 'this', 'intergalactic') 1\n",
      "('this', 'intergalactic', 'tugofwar') 1\n",
      "('intergalactic', 'tugofwar', 'the') 1\n",
      "('tugofwar', 'the', 'universe') 1\n",
      "('universe', 's', 'contents') 1\n",
      "('s', 'contents', 'could') 1\n",
      "('contents', 'could', 'eventually') 1\n",
      "('could', 'eventually', 'reverse') 1\n",
      "('eventually', 'reverse', 'the') 1\n",
      "('reverse', 'the', 'expansiona') 1\n",
      "('the', 'expansiona', 'scenario') 1\n",
      "('expansiona', 'scenario', 'called') 1\n",
      "('scenario', 'called', 'the') 1\n",
      "('called', 'the', 'big') 1\n",
      "('the', 'big', 'crunch') 1\n",
      "('big', 'crunch', 'in') 1\n",
      "('crunch', 'in', 'which') 1\n",
      "('in', 'which', 'gravity') 1\n",
      "('which', 'gravity', 'pulls') 1\n",
      "('gravity', 'pulls', 'everything') 1\n",
      "('pulls', 'everything', 'back') 1\n",
      "('everything', 'back', 'into') 1\n",
      "('back', 'into', 'an') 1\n",
      "('into', 'an', 'infinitely') 1\n",
      "('an', 'infinitely', 'hot') 1\n",
      "('infinitely', 'hot', 'and') 1\n",
      "('hot', 'and', 'dense') 1\n",
      "('and', 'dense', 'point') 1\n",
      "('dense', 'point', 'like') 1\n",
      "('point', 'like', 'the') 1\n",
      "('like', 'the', 'one') 1\n",
      "('the', 'one', 'that') 1\n",
      "('one', 'that', 'birthed') 1\n",
      "('that', 'birthed', 'the') 1\n",
      "('birthed', 'the', 'big') 1\n",
      "('the', 'big', 'bang') 1\n",
      "('big', 'bang', 'or') 1\n",
      "('bang', 'or', 'the') 1\n",
      "('or', 'the', 'universe') 1\n",
      "('the', 'universe', 'might') 1\n",
      "('universe', 'might', 'steadily') 1\n",
      "('might', 'steadily', 'expand') 1\n",
      "('steadily', 'expand', 'indefinitely') 1\n",
      "('expand', 'indefinitely', 'growing') 1\n",
      "('indefinitely', 'growing', 'ever') 1\n",
      "('growing', 'ever', 'colder') 1\n",
      "('ever', 'colder', 'and') 1\n",
      "('colder', 'and', 'listless') 1\n",
      "('and', 'listless', 'in') 1\n",
      "('listless', 'in', 'a') 1\n",
      "('in', 'a', 'big') 2\n",
      "('a', 'big', 'chill') 1\n",
      "('big', 'chill', 'that') 1\n",
      "('chill', 'that', 'offers') 1\n",
      "('that', 'offers', 'endless') 1\n",
      "('offers', 'endless', 'space') 1\n",
      "('endless', 'space', 'and') 1\n",
      "('space', 'and', 'timebut') 1\n",
      "('and', 'timebut', 'ultimately') 1\n",
      "('timebut', 'ultimately', 'very') 1\n",
      "('ultimately', 'very', 'little') 1\n",
      "('very', 'little', 'to') 1\n",
      "('little', 'to', 'do') 1\n",
      "('to', 'do', 'or') 1\n",
      "('do', 'or', 'just') 1\n",
      "('or', 'just', 'maybe') 1\n",
      "('just', 'maybe', 'the') 1\n",
      "('maybe', 'the', 'cosmic') 1\n",
      "('the', 'cosmic', 'expansion') 1\n",
      "('cosmic', 'expansion', 'will') 1\n",
      "('expansion', 'will', 'dramatically') 1\n",
      "('will', 'dramatically', 'speed') 1\n",
      "('dramatically', 'speed', 'up') 1\n",
      "('speed', 'up', 'becoming') 1\n",
      "('up', 'becoming', 'so') 1\n",
      "('becoming', 'so', 'unruly') 1\n",
      "('so', 'unruly', 'that') 1\n",
      "('unruly', 'that', 'it') 1\n",
      "('that', 'it', 'bucks') 1\n",
      "('it', 'bucks', 'all') 1\n",
      "('bucks', 'all', 'its') 1\n",
      "('all', 'its', 'riders') 1\n",
      "('its', 'riders', 'such') 1\n",
      "('riders', 'such', 'an') 1\n",
      "('such', 'an', 'accelerating') 1\n",
      "('an', 'accelerating', 'universe') 1\n",
      "('accelerating', 'universe', 'could') 1\n",
      "('universe', 'could', 'sunder') 1\n",
      "('could', 'sunder', 'galaxies') 1\n",
      "('sunder', 'galaxies', 'then') 1\n",
      "('galaxies', 'then', 'stars') 1\n",
      "('then', 'stars', 'then') 1\n",
      "('stars', 'then', 'planets') 1\n",
      "('then', 'planets', 'atoms') 1\n",
      "('planets', 'atoms', 'and') 1\n",
      "('atoms', 'and', 'subatomic') 1\n",
      "('and', 'subatomic', 'particles') 1\n",
      "('subatomic', 'particles', 'until') 1\n",
      "('particles', 'until', 'even') 1\n",
      "('until', 'even', 'the') 1\n",
      "('even', 'the', 'fabric') 1\n",
      "('the', 'fabric', 'of') 1\n",
      "('fabric', 'of', 'reality') 1\n",
      "('of', 'reality', 'itself') 1\n",
      "('reality', 'itself', 'splits') 1\n",
      "('itself', 'splits', 'at') 1\n",
      "('splits', 'at', 'its') 1\n",
      "('at', 'its', 'seams') 1\n",
      "('its', 'seams', 'in') 1\n",
      "('seams', 'in', 'a') 1\n",
      "('a', 'big', 'rip') 1\n",
      "('big', 'rip', 'that') 1\n",
      "('rip', 'that', 'leaves') 1\n",
      "('that', 'leaves', 'practically') 1\n",
      "('leaves', 'practically', 'nothing') 1\n",
      "('practically', 'nothing', 'behind') 1\n",
      "('nothing', 'behind', 'will') 1\n",
      "('behind', 'will', 'the') 1\n",
      "('will', 'the', 'universe') 1\n",
      "('the', 'universe', 'end') 1\n",
      "('universe', 'end', 'in') 1\n",
      "('end', 'in', 'fire') 1\n",
      "('in', 'fire', 'ice') 1\n",
      "('fire', 'ice', 'or') 1\n",
      "('ice', 'or', 'emptiness') 1\n",
      "('or', 'emptiness', 'the') 1\n",
      "('emptiness', 'the', 'hubble') 1\n",
      "('hubble', 'constant', 'knowsbut') 1\n",
      "('constant', 'knowsbut', 'until') 1\n",
      "('knowsbut', 'until', 'the') 1\n",
      "('until', 'the', 'tension') 1\n",
      "('the', 'tension', 'is') 1\n",
      "('tension', 'is', 'resolved') 1\n",
      "('is', 'resolved', 'the') 1\n",
      "('resolved', 'the', 'answer') 1\n",
      "('the', 'answer', 'is') 1\n",
      "('answer', 'is', 'unclear') 1\n"
     ]
    }
   ],
   "source": [
    "# and do the same for trigrams\n",
    "\n",
    "trigrams=nltk.trigrams(tokens)\n",
    "\n",
    "token_freq=nltk.FreqDist(trigrams)\n",
    "\n",
    "for token in token_freq.keys(): \n",
    "    print (token, token_freq[token])\n"
   ]
  },
  {
   "cell_type": "code",
   "execution_count": 9,
   "metadata": {},
   "outputs": [
    {
     "name": "stdout",
     "output_type": "stream",
     "text": [
      "('the', 'answer', 'to', 'the') 1\n",
      "('answer', 'to', 'the', 'question') 1\n",
      "('to', 'the', 'question', 'of') 1\n",
      "('the', 'question', 'of', 'the') 1\n",
      "('question', 'of', 'the', 'universe') 1\n",
      "('of', 'the', 'universe', 's') 1\n",
      "('the', 'universe', 's', 'expansion') 1\n",
      "('universe', 's', 'expansion', 'rate') 1\n",
      "('s', 'expansion', 'rate', 'is') 1\n",
      "('expansion', 'rate', 'is', 'something') 1\n",
      "('rate', 'is', 'something', 'called') 1\n",
      "('is', 'something', 'called', 'the') 1\n",
      "('something', 'called', 'the', 'hubble') 1\n",
      "('called', 'the', 'hubble', 'constant') 1\n",
      "('the', 'hubble', 'constant', 'named') 1\n",
      "('hubble', 'constant', 'named', 'after') 1\n",
      "('constant', 'named', 'after', 'the') 1\n",
      "('named', 'after', 'the', 'astronomer') 1\n",
      "('after', 'the', 'astronomer', 'edwin') 1\n",
      "('the', 'astronomer', 'edwin', 'hubble') 1\n",
      "('astronomer', 'edwin', 'hubble', 'who') 1\n",
      "('edwin', 'hubble', 'who', 'discovered') 1\n",
      "('hubble', 'who', 'discovered', 'in') 1\n",
      "('who', 'discovered', 'in', 'the') 1\n",
      "('discovered', 'in', 'the', '1920s') 1\n",
      "('in', 'the', '1920s', 'that') 1\n",
      "('the', '1920s', 'that', 'the') 1\n",
      "('1920s', 'that', 'the', 'universe') 1\n",
      "('that', 'the', 'universe', 'is') 1\n",
      "('the', 'universe', 'is', 'expanding') 1\n",
      "('universe', 'is', 'expanding', 'galaxies') 1\n",
      "('is', 'expanding', 'galaxies', 'recede') 1\n",
      "('expanding', 'galaxies', 'recede', 'from') 1\n",
      "('galaxies', 'recede', 'from', 'us') 1\n",
      "('recede', 'from', 'us', 'at') 1\n",
      "('from', 'us', 'at', 'speeds') 1\n",
      "('us', 'at', 'speeds', 'proportional') 1\n",
      "('at', 'speeds', 'proportional', 'to') 1\n",
      "('speeds', 'proportional', 'to', 'their') 1\n",
      "('proportional', 'to', 'their', 'distances') 1\n",
      "('to', 'their', 'distances', 'going') 1\n",
      "('their', 'distances', 'going', 'faster') 1\n",
      "('distances', 'going', 'faster', 'the') 1\n",
      "('going', 'faster', 'the', 'farther') 1\n",
      "('faster', 'the', 'farther', 'away') 1\n",
      "('the', 'farther', 'away', 'they') 1\n",
      "('farther', 'away', 'they', 'are') 1\n",
      "('away', 'they', 'are', 'the') 1\n",
      "('they', 'are', 'the', 'hubble') 1\n",
      "('are', 'the', 'hubble', 'constant') 1\n",
      "('the', 'hubble', 'constant', 'codifies') 1\n",
      "('hubble', 'constant', 'codifies', 'this') 1\n",
      "('constant', 'codifies', 'this', 'relationship') 1\n",
      "('codifies', 'this', 'relationship', 'between') 1\n",
      "('this', 'relationship', 'between', 'cosmic') 1\n",
      "('relationship', 'between', 'cosmic', 'distances') 1\n",
      "('between', 'cosmic', 'distances', 'and') 1\n",
      "('cosmic', 'distances', 'and', 'velocities') 1\n",
      "('distances', 'and', 'velocities', 'but') 1\n",
      "('and', 'velocities', 'but', 'in') 1\n",
      "('velocities', 'but', 'in', 'doing') 1\n",
      "('but', 'in', 'doing', 'so') 1\n",
      "('in', 'doing', 'so', 'it') 1\n",
      "('doing', 'so', 'it', 'reveals') 1\n",
      "('so', 'it', 'reveals', 'much') 1\n",
      "('it', 'reveals', 'much', 'more') 1\n",
      "('reveals', 'much', 'more', 'making') 1\n",
      "('much', 'more', 'making', 'it') 1\n",
      "('more', 'making', 'it', 'of') 1\n",
      "('making', 'it', 'of', 'interest') 1\n",
      "('it', 'of', 'interest', 'not') 1\n",
      "('of', 'interest', 'not', 'only') 1\n",
      "('interest', 'not', 'only', 'to') 1\n",
      "('not', 'only', 'to', 'astronomers') 1\n",
      "('only', 'to', 'astronomers', 'but') 1\n",
      "('to', 'astronomers', 'but', 'also') 1\n",
      "('astronomers', 'but', 'also', 'to') 1\n",
      "('but', 'also', 'to', 'cosmologists') 1\n",
      "('also', 'to', 'cosmologists', 'and') 1\n",
      "('to', 'cosmologists', 'and', 'physicists') 1\n",
      "('cosmologists', 'and', 'physicists', 'because') 1\n",
      "('and', 'physicists', 'because', 'the') 1\n",
      "('physicists', 'because', 'the', 'constant') 1\n",
      "('because', 'the', 'constant', 'represents') 1\n",
      "('the', 'constant', 'represents', 'the') 1\n",
      "('constant', 'represents', 'the', 'expansion') 1\n",
      "('represents', 'the', 'expansion', 'rate') 1\n",
      "('the', 'expansion', 'rate', 'at') 1\n",
      "('expansion', 'rate', 'at', 'any') 1\n",
      "('rate', 'at', 'any', 'particular') 1\n",
      "('at', 'any', 'particular', 'moment') 1\n",
      "('any', 'particular', 'moment', 'in') 1\n",
      "('particular', 'moment', 'in', 'the') 1\n",
      "('moment', 'in', 'the', 'universe') 1\n",
      "('in', 'the', 'universe', 's') 1\n",
      "('the', 'universe', 's', 'long') 1\n",
      "('universe', 's', 'long', 'history') 1\n",
      "('s', 'long', 'history', 'measuring') 1\n",
      "('long', 'history', 'measuring', 'its') 1\n",
      "('history', 'measuring', 'its', 'value') 1\n",
      "('measuring', 'its', 'value', 'over') 1\n",
      "('its', 'value', 'over', 'time') 1\n",
      "('value', 'over', 'time', 'provides') 1\n",
      "('over', 'time', 'provides', 'an') 1\n",
      "('time', 'provides', 'an', 'expansive') 1\n",
      "('provides', 'an', 'expansive', 'view') 1\n",
      "('an', 'expansive', 'view', 'of') 1\n",
      "('expansive', 'view', 'of', 'how') 1\n",
      "('view', 'of', 'how', 'the') 1\n",
      "('of', 'how', 'the', 'universe') 1\n",
      "('how', 'the', 'universe', 'evolves') 1\n",
      "('the', 'universe', 'evolves', 'over') 1\n",
      "('universe', 'evolves', 'over', 'the') 1\n",
      "('evolves', 'over', 'the', 'eons') 1\n",
      "('over', 'the', 'eons', 'giving') 1\n",
      "('the', 'eons', 'giving', 'researchers') 1\n",
      "('eons', 'giving', 'researchers', 'crucial') 1\n",
      "('giving', 'researchers', 'crucial', 'clues') 1\n",
      "('researchers', 'crucial', 'clues', 'to') 1\n",
      "('crucial', 'clues', 'to', 'our') 1\n",
      "('clues', 'to', 'our', 'cosmic') 1\n",
      "('to', 'our', 'cosmic', 'origins') 1\n",
      "('our', 'cosmic', 'origins', 'and') 1\n",
      "('cosmic', 'origins', 'and', 'future') 1\n",
      "('origins', 'and', 'future', 'somehow') 1\n",
      "('and', 'future', 'somehow', 'beckoned') 1\n",
      "('future', 'somehow', 'beckoned', 'by') 1\n",
      "('somehow', 'beckoned', 'by', 'the') 1\n",
      "('beckoned', 'by', 'the', 'void') 1\n",
      "('by', 'the', 'void', 'billions') 1\n",
      "('the', 'void', 'billions', 'of') 1\n",
      "('void', 'billions', 'of', 'outwardrushing') 1\n",
      "('billions', 'of', 'outwardrushing', 'galaxies') 1\n",
      "('of', 'outwardrushing', 'galaxies', 'also') 1\n",
      "('outwardrushing', 'galaxies', 'also', 'feel') 1\n",
      "('galaxies', 'also', 'feel', 'the') 1\n",
      "('also', 'feel', 'the', 'collective') 1\n",
      "('feel', 'the', 'collective', 'gravitational') 1\n",
      "('the', 'collective', 'gravitational', 'pull') 1\n",
      "('collective', 'gravitational', 'pull', 'of') 1\n",
      "('gravitational', 'pull', 'of', 'everything') 1\n",
      "('pull', 'of', 'everything', 'in') 1\n",
      "('of', 'everything', 'in', 'the') 1\n",
      "('everything', 'in', 'the', 'rearview') 1\n",
      "('in', 'the', 'rearview', 'mirror') 1\n",
      "('the', 'rearview', 'mirror', 'trying') 1\n",
      "('rearview', 'mirror', 'trying', 'to') 1\n",
      "('mirror', 'trying', 'to', 'tug') 1\n",
      "('trying', 'to', 'tug', 'them') 1\n",
      "('to', 'tug', 'them', 'back') 1\n",
      "('tug', 'them', 'back', 'the') 1\n",
      "('them', 'back', 'the', 'hubble') 1\n",
      "('back', 'the', 'hubble', 'constant') 1\n",
      "('the', 'hubble', 'constant', 'reflects') 1\n",
      "('hubble', 'constant', 'reflects', 'the') 1\n",
      "('constant', 'reflects', 'the', 'sum') 1\n",
      "('reflects', 'the', 'sum', 'total') 1\n",
      "('the', 'sum', 'total', 'of') 1\n",
      "('sum', 'total', 'of', 'all') 1\n",
      "('total', 'of', 'all', 'the') 1\n",
      "('of', 'all', 'the', 'stuff') 1\n",
      "('all', 'the', 'stuff', 'in') 1\n",
      "('the', 'stuff', 'in', 'the') 1\n",
      "('stuff', 'in', 'the', 'universe') 1\n",
      "('in', 'the', 'universe', 'and') 1\n",
      "('the', 'universe', 'and', 'the') 1\n",
      "('universe', 'and', 'the', 'forces') 1\n",
      "('and', 'the', 'forces', 'acting') 1\n",
      "('the', 'forces', 'acting', 'on') 1\n",
      "('forces', 'acting', 'on', 'itweighing') 1\n",
      "('acting', 'on', 'itweighing', 'in') 1\n",
      "('on', 'itweighing', 'in', 'on') 1\n",
      "('itweighing', 'in', 'on', 'whether') 1\n",
      "('in', 'on', 'whether', 'gravity') 1\n",
      "('on', 'whether', 'gravity', 'or') 1\n",
      "('whether', 'gravity', 'or', 'the') 1\n",
      "('gravity', 'or', 'the', 'void') 1\n",
      "('or', 'the', 'void', 'will') 1\n",
      "('the', 'void', 'will', 'ultimately') 1\n",
      "('void', 'will', 'ultimately', 'win') 1\n",
      "('will', 'ultimately', 'win', 'this') 1\n",
      "('ultimately', 'win', 'this', 'intergalactic') 1\n",
      "('win', 'this', 'intergalactic', 'tugofwar') 1\n",
      "('this', 'intergalactic', 'tugofwar', 'the') 1\n",
      "('intergalactic', 'tugofwar', 'the', 'universe') 1\n",
      "('tugofwar', 'the', 'universe', 's') 1\n",
      "('the', 'universe', 's', 'contents') 1\n",
      "('universe', 's', 'contents', 'could') 1\n",
      "('s', 'contents', 'could', 'eventually') 1\n",
      "('contents', 'could', 'eventually', 'reverse') 1\n",
      "('could', 'eventually', 'reverse', 'the') 1\n",
      "('eventually', 'reverse', 'the', 'expansiona') 1\n",
      "('reverse', 'the', 'expansiona', 'scenario') 1\n",
      "('the', 'expansiona', 'scenario', 'called') 1\n",
      "('expansiona', 'scenario', 'called', 'the') 1\n",
      "('scenario', 'called', 'the', 'big') 1\n",
      "('called', 'the', 'big', 'crunch') 1\n",
      "('the', 'big', 'crunch', 'in') 1\n",
      "('big', 'crunch', 'in', 'which') 1\n",
      "('crunch', 'in', 'which', 'gravity') 1\n",
      "('in', 'which', 'gravity', 'pulls') 1\n",
      "('which', 'gravity', 'pulls', 'everything') 1\n",
      "('gravity', 'pulls', 'everything', 'back') 1\n",
      "('pulls', 'everything', 'back', 'into') 1\n",
      "('everything', 'back', 'into', 'an') 1\n",
      "('back', 'into', 'an', 'infinitely') 1\n",
      "('into', 'an', 'infinitely', 'hot') 1\n",
      "('an', 'infinitely', 'hot', 'and') 1\n",
      "('infinitely', 'hot', 'and', 'dense') 1\n",
      "('hot', 'and', 'dense', 'point') 1\n",
      "('and', 'dense', 'point', 'like') 1\n",
      "('dense', 'point', 'like', 'the') 1\n",
      "('point', 'like', 'the', 'one') 1\n",
      "('like', 'the', 'one', 'that') 1\n",
      "('the', 'one', 'that', 'birthed') 1\n",
      "('one', 'that', 'birthed', 'the') 1\n",
      "('that', 'birthed', 'the', 'big') 1\n",
      "('birthed', 'the', 'big', 'bang') 1\n",
      "('the', 'big', 'bang', 'or') 1\n",
      "('big', 'bang', 'or', 'the') 1\n",
      "('bang', 'or', 'the', 'universe') 1\n",
      "('or', 'the', 'universe', 'might') 1\n",
      "('the', 'universe', 'might', 'steadily') 1\n",
      "('universe', 'might', 'steadily', 'expand') 1\n",
      "('might', 'steadily', 'expand', 'indefinitely') 1\n",
      "('steadily', 'expand', 'indefinitely', 'growing') 1\n",
      "('expand', 'indefinitely', 'growing', 'ever') 1\n",
      "('indefinitely', 'growing', 'ever', 'colder') 1\n",
      "('growing', 'ever', 'colder', 'and') 1\n",
      "('ever', 'colder', 'and', 'listless') 1\n",
      "('colder', 'and', 'listless', 'in') 1\n",
      "('and', 'listless', 'in', 'a') 1\n",
      "('listless', 'in', 'a', 'big') 1\n",
      "('in', 'a', 'big', 'chill') 1\n",
      "('a', 'big', 'chill', 'that') 1\n",
      "('big', 'chill', 'that', 'offers') 1\n",
      "('chill', 'that', 'offers', 'endless') 1\n",
      "('that', 'offers', 'endless', 'space') 1\n",
      "('offers', 'endless', 'space', 'and') 1\n",
      "('endless', 'space', 'and', 'timebut') 1\n",
      "('space', 'and', 'timebut', 'ultimately') 1\n",
      "('and', 'timebut', 'ultimately', 'very') 1\n",
      "('timebut', 'ultimately', 'very', 'little') 1\n",
      "('ultimately', 'very', 'little', 'to') 1\n",
      "('very', 'little', 'to', 'do') 1\n",
      "('little', 'to', 'do', 'or') 1\n",
      "('to', 'do', 'or', 'just') 1\n",
      "('do', 'or', 'just', 'maybe') 1\n",
      "('or', 'just', 'maybe', 'the') 1\n",
      "('just', 'maybe', 'the', 'cosmic') 1\n",
      "('maybe', 'the', 'cosmic', 'expansion') 1\n",
      "('the', 'cosmic', 'expansion', 'will') 1\n",
      "('cosmic', 'expansion', 'will', 'dramatically') 1\n",
      "('expansion', 'will', 'dramatically', 'speed') 1\n",
      "('will', 'dramatically', 'speed', 'up') 1\n",
      "('dramatically', 'speed', 'up', 'becoming') 1\n",
      "('speed', 'up', 'becoming', 'so') 1\n",
      "('up', 'becoming', 'so', 'unruly') 1\n",
      "('becoming', 'so', 'unruly', 'that') 1\n",
      "('so', 'unruly', 'that', 'it') 1\n",
      "('unruly', 'that', 'it', 'bucks') 1\n",
      "('that', 'it', 'bucks', 'all') 1\n",
      "('it', 'bucks', 'all', 'its') 1\n",
      "('bucks', 'all', 'its', 'riders') 1\n",
      "('all', 'its', 'riders', 'such') 1\n",
      "('its', 'riders', 'such', 'an') 1\n",
      "('riders', 'such', 'an', 'accelerating') 1\n",
      "('such', 'an', 'accelerating', 'universe') 1\n",
      "('an', 'accelerating', 'universe', 'could') 1\n",
      "('accelerating', 'universe', 'could', 'sunder') 1\n",
      "('universe', 'could', 'sunder', 'galaxies') 1\n",
      "('could', 'sunder', 'galaxies', 'then') 1\n",
      "('sunder', 'galaxies', 'then', 'stars') 1\n",
      "('galaxies', 'then', 'stars', 'then') 1\n",
      "('then', 'stars', 'then', 'planets') 1\n",
      "('stars', 'then', 'planets', 'atoms') 1\n",
      "('then', 'planets', 'atoms', 'and') 1\n",
      "('planets', 'atoms', 'and', 'subatomic') 1\n",
      "('atoms', 'and', 'subatomic', 'particles') 1\n",
      "('and', 'subatomic', 'particles', 'until') 1\n",
      "('subatomic', 'particles', 'until', 'even') 1\n",
      "('particles', 'until', 'even', 'the') 1\n",
      "('until', 'even', 'the', 'fabric') 1\n",
      "('even', 'the', 'fabric', 'of') 1\n",
      "('the', 'fabric', 'of', 'reality') 1\n",
      "('fabric', 'of', 'reality', 'itself') 1\n",
      "('of', 'reality', 'itself', 'splits') 1\n",
      "('reality', 'itself', 'splits', 'at') 1\n",
      "('itself', 'splits', 'at', 'its') 1\n",
      "('splits', 'at', 'its', 'seams') 1\n",
      "('at', 'its', 'seams', 'in') 1\n",
      "('its', 'seams', 'in', 'a') 1\n",
      "('seams', 'in', 'a', 'big') 1\n",
      "('in', 'a', 'big', 'rip') 1\n",
      "('a', 'big', 'rip', 'that') 1\n",
      "('big', 'rip', 'that', 'leaves') 1\n",
      "('rip', 'that', 'leaves', 'practically') 1\n",
      "('that', 'leaves', 'practically', 'nothing') 1\n",
      "('leaves', 'practically', 'nothing', 'behind') 1\n",
      "('practically', 'nothing', 'behind', 'will') 1\n",
      "('nothing', 'behind', 'will', 'the') 1\n",
      "('behind', 'will', 'the', 'universe') 1\n",
      "('will', 'the', 'universe', 'end') 1\n",
      "('the', 'universe', 'end', 'in') 1\n",
      "('universe', 'end', 'in', 'fire') 1\n",
      "('end', 'in', 'fire', 'ice') 1\n",
      "('in', 'fire', 'ice', 'or') 1\n",
      "('fire', 'ice', 'or', 'emptiness') 1\n",
      "('ice', 'or', 'emptiness', 'the') 1\n",
      "('or', 'emptiness', 'the', 'hubble') 1\n",
      "('emptiness', 'the', 'hubble', 'constant') 1\n",
      "('the', 'hubble', 'constant', 'knowsbut') 1\n",
      "('hubble', 'constant', 'knowsbut', 'until') 1\n",
      "('constant', 'knowsbut', 'until', 'the') 1\n",
      "('knowsbut', 'until', 'the', 'tension') 1\n",
      "('until', 'the', 'tension', 'is') 1\n",
      "('the', 'tension', 'is', 'resolved') 1\n",
      "('tension', 'is', 'resolved', 'the') 1\n",
      "('is', 'resolved', 'the', 'answer') 1\n",
      "('resolved', 'the', 'answer', 'is') 1\n",
      "('the', 'answer', 'is', 'unclear') 1\n"
     ]
    }
   ],
   "source": [
    "# for the ngrams larger than three, we can use another nltk function with the number of grams as a parameter.\n",
    "\n",
    "fourgrams=nltk.ngrams(tokens, 4)\n",
    "\n",
    "token_freq=nltk.FreqDist(fourgrams)\n",
    "\n",
    "for token in token_freq.keys(): \n",
    "    print (token, token_freq[token])"
   ]
  },
  {
   "cell_type": "code",
   "execution_count": 10,
   "metadata": {
    "scrolled": true
   },
   "outputs": [
    {
     "name": "stdout",
     "output_type": "stream",
     "text": [
      "['the answer to', 'answer to the', 'to the question', 'the question of', 'question of the', 'of the universe', 'the universe s', 'universe s expansion', 's expansion rate', 'expansion rate is', 'rate is something', 'is something called', 'something called the', 'called the hubble', 'the hubble constant', 'hubble constant named', 'constant named after', 'named after the', 'after the astronomer', 'the astronomer edwin', 'astronomer edwin hubble', 'edwin hubble who', 'hubble who discovered', 'who discovered in', 'discovered in the', 'in the 1920s', 'the 1920s that', '1920s that the', 'that the universe', 'the universe is', 'universe is expanding', 'is expanding galaxies', 'expanding galaxies recede', 'galaxies recede from', 'recede from us', 'from us at', 'us at speeds', 'at speeds proportional', 'speeds proportional to', 'proportional to their', 'to their distances', 'their distances going', 'distances going faster', 'going faster the', 'faster the farther', 'the farther away', 'farther away they', 'away they are', 'they are the', 'are the hubble', 'the hubble constant', 'hubble constant codifies', 'constant codifies this', 'codifies this relationship', 'this relationship between', 'relationship between cosmic', 'between cosmic distances', 'cosmic distances and', 'distances and velocities', 'and velocities but', 'velocities but in', 'but in doing', 'in doing so', 'doing so it', 'so it reveals', 'it reveals much', 'reveals much more', 'much more making', 'more making it', 'making it of', 'it of interest', 'of interest not', 'interest not only', 'not only to', 'only to astronomers', 'to astronomers but', 'astronomers but also', 'but also to', 'also to cosmologists', 'to cosmologists and', 'cosmologists and physicists', 'and physicists because', 'physicists because the', 'because the constant', 'the constant represents', 'constant represents the', 'represents the expansion', 'the expansion rate', 'expansion rate at', 'rate at any', 'at any particular', 'any particular moment', 'particular moment in', 'moment in the', 'in the universe', 'the universe s', 'universe s long', 's long history', 'long history measuring', 'history measuring its', 'measuring its value', 'its value over', 'value over time', 'over time provides', 'time provides an', 'provides an expansive', 'an expansive view', 'expansive view of', 'view of how', 'of how the', 'how the universe', 'the universe evolves', 'universe evolves over', 'evolves over the', 'over the eons', 'the eons giving', 'eons giving researchers', 'giving researchers crucial', 'researchers crucial clues', 'crucial clues to', 'clues to our', 'to our cosmic', 'our cosmic origins', 'cosmic origins and', 'origins and future', 'and future somehow', 'future somehow beckoned', 'somehow beckoned by', 'beckoned by the', 'by the void', 'the void billions', 'void billions of', 'billions of outwardrushing', 'of outwardrushing galaxies', 'outwardrushing galaxies also', 'galaxies also feel', 'also feel the', 'feel the collective', 'the collective gravitational', 'collective gravitational pull', 'gravitational pull of', 'pull of everything', 'of everything in', 'everything in the', 'in the rearview', 'the rearview mirror', 'rearview mirror trying', 'mirror trying to', 'trying to tug', 'to tug them', 'tug them back', 'them back the', 'back the hubble', 'the hubble constant', 'hubble constant reflects', 'constant reflects the', 'reflects the sum', 'the sum total', 'sum total of', 'total of all', 'of all the', 'all the stuff', 'the stuff in', 'stuff in the', 'in the universe', 'the universe and', 'universe and the', 'and the forces', 'the forces acting', 'forces acting on', 'acting on itweighing', 'on itweighing in', 'itweighing in on', 'in on whether', 'on whether gravity', 'whether gravity or', 'gravity or the', 'or the void', 'the void will', 'void will ultimately', 'will ultimately win', 'ultimately win this', 'win this intergalactic', 'this intergalactic tugofwar', 'intergalactic tugofwar the', 'tugofwar the universe', 'the universe s', 'universe s contents', 's contents could', 'contents could eventually', 'could eventually reverse', 'eventually reverse the', 'reverse the expansiona', 'the expansiona scenario', 'expansiona scenario called', 'scenario called the', 'called the big', 'the big crunch', 'big crunch in', 'crunch in which', 'in which gravity', 'which gravity pulls', 'gravity pulls everything', 'pulls everything back', 'everything back into', 'back into an', 'into an infinitely', 'an infinitely hot', 'infinitely hot and', 'hot and dense', 'and dense point', 'dense point like', 'point like the', 'like the one', 'the one that', 'one that birthed', 'that birthed the', 'birthed the big', 'the big bang', 'big bang or', 'bang or the', 'or the universe', 'the universe might', 'universe might steadily', 'might steadily expand', 'steadily expand indefinitely', 'expand indefinitely growing', 'indefinitely growing ever', 'growing ever colder', 'ever colder and', 'colder and listless', 'and listless in', 'listless in a', 'in a big', 'a big chill', 'big chill that', 'chill that offers', 'that offers endless', 'offers endless space', 'endless space and', 'space and timebut', 'and timebut ultimately', 'timebut ultimately very', 'ultimately very little', 'very little to', 'little to do', 'to do or', 'do or just', 'or just maybe', 'just maybe the', 'maybe the cosmic', 'the cosmic expansion', 'cosmic expansion will', 'expansion will dramatically', 'will dramatically speed', 'dramatically speed up', 'speed up becoming', 'up becoming so', 'becoming so unruly', 'so unruly that', 'unruly that it', 'that it bucks', 'it bucks all', 'bucks all its', 'all its riders', 'its riders such', 'riders such an', 'such an accelerating', 'an accelerating universe', 'accelerating universe could', 'universe could sunder', 'could sunder galaxies', 'sunder galaxies then', 'galaxies then stars', 'then stars then', 'stars then planets', 'then planets atoms', 'planets atoms and', 'atoms and subatomic', 'and subatomic particles', 'subatomic particles until', 'particles until even', 'until even the', 'even the fabric', 'the fabric of', 'fabric of reality', 'of reality itself', 'reality itself splits', 'itself splits at', 'splits at its', 'at its seams', 'its seams in', 'seams in a', 'in a big', 'a big rip', 'big rip that', 'rip that leaves', 'that leaves practically', 'leaves practically nothing', 'practically nothing behind', 'nothing behind will', 'behind will the', 'will the universe', 'the universe end', 'universe end in', 'end in fire', 'in fire ice', 'fire ice or', 'ice or emptiness', 'or emptiness the', 'emptiness the hubble', 'the hubble constant', 'hubble constant knowsbut', 'constant knowsbut until', 'knowsbut until the', 'until the tension', 'the tension is', 'tension is resolved', 'is resolved the', 'resolved the answer', 'the answer is', 'answer is unclear']\n"
     ]
    }
   ],
   "source": [
    "# As for the last part of this lecture, let's join all the items inside a tuple by the space\n",
    "# so that we'd have ngram word groups and could use for some other purposes such as keyword matching etc.\n",
    "\n",
    "trigrams=nltk.trigrams(tokens)\n",
    "ngram_grouped=[\" \".join([i for i in x]) for x in trigrams]\n",
    "# here, we at first join the tokens inside the trigrams by spaces and then do the same for all the trigrams.\n",
    "print (ngram_grouped)"
   ]
  },
  {
   "cell_type": "markdown",
   "metadata": {},
   "source": [
    "### Bag of Words - Term Frequency"
   ]
  },
  {
   "cell_type": "markdown",
   "metadata": {},
   "source": [
    "As we mentiond at the beginning, a problem with modeling text is that it is messy, and techniques like machine learning algorithms prefer well defined fixed-length inputs and outputs. Machine learning algorithms cannot work with raw text directly; so the text must be converted into numbers. Specifically, vectors of numbers.\n",
    "\n",
    "If we want to use text in machine learning algorithms, we’ll have to convert them to a numerical representation. One of the methods is called bag-of-words approach.\n",
    "\n",
    "The bag of words model , or BoW for short, is a way of extracting features from text for use in modeling and it ignores grammar and order of words. Once we have a corpus (text data) then first, a list of vocabulary is created based on the entire corpus. Then each document or data entry is represented as numerical vectors based on the vocabulary built from the corpora.\n",
    "\n"
   ]
  },
  {
   "cell_type": "code",
   "execution_count": 1,
   "metadata": {},
   "outputs": [
    {
     "data": {
      "text/plain": [
       "['statistics', 'I', 'love', 'studying', 'math', 'driving']"
      ]
     },
     "execution_count": 1,
     "metadata": {},
     "output_type": "execute_result"
    }
   ],
   "source": [
    "import nltk\n",
    "# Let's see this in an example\n",
    "\n",
    "sentence_1 = \"I love studying math\"\n",
    "sentence_2 = \"I love studying statistics\"\n",
    "sentence_3 = \"I love driving\"\n",
    "\n",
    "# so, lets respresent this in a numerical way\n",
    "# We'll at first combine all these sentences and then tokenize and get distinct tokens.\n",
    "\n",
    "text=\" \".join([sentence_1,sentence_2,sentence_3]) # we basically combine the sentences with spaces between them.\n",
    "\n",
    "# now we tokenize and get the distinct tokens as a list by using set() function.\n",
    "\n",
    "tokens=list(set(nltk.word_tokenize(text)))\n",
    "tokens\n",
    "# This list will be the major reference for us when converting the words into numbers."
   ]
  },
  {
   "cell_type": "markdown",
   "metadata": {},
   "source": [
    "The length of the numerical representation of sentences (aka numerical vecor) will be the length of this list. Since we have six distinct words, we'll represent each sentence with 6 digits. To numerically represent each sentence, let's assign 1 to each occurence of words above. So, if a word form th tokenizeed list is inside the sentence, it's 1; if it's not, it's 0. Beware that we are not dealing with the order of words inside the sentence.\n",
    "\n",
    "Assume that below is our referencee look up list of terms:\n",
    "\n",
    "[\"I\", \"math\", \"studying\", \"love\", \"driving\", \"statistics\"]\n",
    "\n",
    "By looking at the reference list, we can represent sentence_1 (\"I love studying math\") as below:\n",
    "\n",
    "\"I\" is in the sentence. So the first item is 1.\n",
    "\n",
    "\"math\" is in the sentence. So the second item is 1.\n",
    "\n",
    "\"studying\" is in the sentence. So the second item is 1.\n",
    "\n",
    "\"love\" is in the sentence. So the second item is 1.\n",
    "\n",
    "\"driving\" is in NOT the sentence. So the second item is 0.\n",
    "\n",
    "\"statistics\" is NOT in the sentence. So the second item is 0.\n",
    "\n",
    "So, the numerical representation of sentence_1 is: [1, 1, 1, 1, 0, 0]"
   ]
  },
  {
   "cell_type": "code",
   "execution_count": 12,
   "metadata": {},
   "outputs": [],
   "source": [
    "# Here are the bag of words vector for all the sentences.\n",
    "\n",
    "bow_1=[1, 1, 1, 1, 0, 0] # in \"I love studying math\", we don't have \"statistics\" and \"driving\"\n",
    "bow_2=[1, 0, 1, 1, 0, 1] # in \"I love studying statistics\", we don't have \"math\" and \"driving\"\n",
    "bow_3=[1, 0, 0, 1, 1, 0] # in \"I love driving\", we don't have \"math\", \"studying\" and \"statistics\""
   ]
  },
  {
   "cell_type": "markdown",
   "metadata": {},
   "source": [
    "Simply said, a bag-of-words is a representation of text that describes the occurrence of words within a document. That is, each document or data entry is represented as numerical vectors based on the vocabulary built from the corpora. The intuition is that documents are similar if they have similar content. \n",
    "\n",
    "It is called a “bag” of words, because any information about the order or structure of words in the document is discarded. The model is only concerned with whether known words occur in the document, not where in the document.\n",
    "\n",
    "As you can see, while working with large texts, there will be multiple occurences for some words. And we need to repreesent this as well. Here comes term frequency. \n",
    "\n",
    "Now we'll learn two different methods to calculate this:\n",
    "\n",
    "- CountVectorizer \n",
    "- TfidfVectorizer"
   ]
  },
  {
   "cell_type": "markdown",
   "metadata": {},
   "source": [
    "#### Count Vectorizer \n",
    "\n",
    "With count vectorizer, we merely count the appearance of the words in each text. For example, if there were two \"math\" inside seentence_1, since \"math\" is the second item reference list, the second item in bow_1 would be 2; instead of 1.\n",
    "\n",
    "bow_2=[1, 2, 1, 1, 0, 0]\n",
    "\n",
    "Now let's see how we can do this in Python."
   ]
  },
  {
   "cell_type": "markdown",
   "metadata": {},
   "source": [
    "First, we’ll use CountVectorizer() from sklearn (sci-kit learn) package to create a matrix of numbers to represent our sentences. With CountVectorizer(), each message is seperated into tokens and the number of times each token occurs in a message is counted.\n",
    "\n",
    "We’ll at first import CountVectorizer from sklearn and instantiate it as an object, similar to how you would with a classifier from sklearn. In fact the usage is very similar. Instead of using fit() and then predict() we will use fit() then transform().\n",
    "\n"
   ]
  },
  {
   "cell_type": "code",
   "execution_count": 13,
   "metadata": {},
   "outputs": [],
   "source": [
    "from sklearn.feature_extraction.text import CountVectorizer\n",
    "vect = CountVectorizer()"
   ]
  },
  {
   "cell_type": "markdown",
   "metadata": {},
   "source": [
    "Using the fit method, our CountVectorizer() will “learn” what tokens are being used in our sentences inside the corpus. That is, we at first train our CountVectorizer() model with the training set and then leet the model learn the tokens. Then, whenever we throw a new sentence to this model, our CountVectorizer() model will show use the matrix representation of that sentence.\n",
    "\n"
   ]
  },
  {
   "cell_type": "code",
   "execution_count": 14,
   "metadata": {},
   "outputs": [
    {
     "data": {
      "text/plain": [
       "['the answer to the question of the universe’s expansion rate is something called the hubble constant, named after the astronomer edwin hubble who discovered in the 1920s that the universe is expanding.',\n",
       " 'galaxies recede from us at speeds proportional to their distances, going faster the farther away they are.',\n",
       " 'the hubble constant codifies this relationship between cosmic distances and velocities.',\n",
       " 'but in doing so it reveals much more, making it of interest not only to astronomers but also to cosmologists and physicists.',\n",
       " 'because the constant represents the expansion rate at any particular moment in the universe’s long history, measuring its value over time provides an expansive view of how the universe evolves over the eons, giving researchers crucial clues to our cosmic origins and future.']"
      ]
     },
     "execution_count": 14,
     "metadata": {},
     "output_type": "execute_result"
    }
   ],
   "source": [
    "# Let's train our CountVectorizer() model. To do this, we'll use the first five sentences extracted from our sample_text.\n",
    "\n",
    "with open (\"sample_text.txt\", \"r\") as f:\n",
    "    sample_text=f.read()\n",
    "\n",
    "sents = nltk.sent_tokenize(sample_text.lower())\n",
    "corpus=sents[:5]\n",
    "corpus"
   ]
  },
  {
   "cell_type": "code",
   "execution_count": 15,
   "metadata": {},
   "outputs": [
    {
     "name": "stdout",
     "output_type": "stream",
     "text": [
      "['the', 'answer', 'to', 'the', 'question', 'of', 'the', 'universe', '’', 's', 'expansion', 'rate', 'is', 'something', 'called', 'the', 'hubble', 'constant', ',', 'named', 'after', 'the', 'astronomer', 'edwin', 'hubble', 'who', 'discovered', 'in', 'the', '1920s', 'that', 'the', 'universe', 'is', 'expanding', '.']\n",
      "['galaxies', 'recede', 'from', 'us', 'at', 'speeds', 'proportional', 'to', 'their', 'distances', ',', 'going', 'faster', 'the', 'farther', 'away', 'they', 'are', '.']\n"
     ]
    }
   ],
   "source": [
    "# Since there are many stopwords and punctuations that are already in the corpusa and they don't add any value\n",
    "# we simply clean the sample_text again with the functions we wrote before.\n",
    "# For that, we at first tokenize each sentence into words and then clean.\n",
    "\n",
    "import nltk\n",
    "\n",
    "token_list=[]\n",
    "for sentence in corpus:\n",
    "    token_list.append(nltk.word_tokenize(sentence))\n",
    "\n",
    "# let's print th first two sentence tokens\n",
    "print (token_list[0])\n",
    "print (token_list[1])"
   ]
  },
  {
   "cell_type": "code",
   "execution_count": 6,
   "metadata": {
    "scrolled": true
   },
   "outputs": [
    {
     "data": {
      "text/plain": [
       "['I big exam tomorrow I need study hard get good grade',\n",
       " 'My wife likes go I prefer staying home reading',\n",
       " 'Kids playing football field seem fun',\n",
       " 'Sometimes I feel depressed driving hard focus road',\n",
       " 'I usually cook meat home wife prefers vegetable']"
      ]
     },
     "execution_count": 6,
     "metadata": {},
     "output_type": "execute_result"
    }
   ],
   "source": [
    "# Now we remove the punctuations and stopwords from each token list\n",
    "# Actuall we should also apply stemming and lemmatize algorithms to standard the text\n",
    "# but we'll just skip thosee steps.\n",
    "# Let's remember remove_stopwords() function again\n",
    "\n",
    "from nltk.corpus import stopwords\n",
    "stop_words=set(stopwords.words('english'))\n",
    "\n",
    "def remove_stopwords(words):\n",
    "\n",
    "    filtered_words = []\n",
    "    for word in words:\n",
    "        if word not in stop_words:\n",
    "            filtered_words.append(word)\n",
    "            \n",
    "    return filtered_words\n",
    "\n",
    "new_token_list=[]\n",
    "\n",
    "for token in token_list:\n",
    "    #distinct_tokens=list(set(token)) # remove duplicates\n",
    "    new_token_list.append(remove_stopwords(remove_punctuation(token)))\n",
    "    # we at first remove punctuations and then stopwords\n",
    "\n",
    "# and then join all the tokens with respect to sentences they belong to.\n",
    "clean_corpus=[]\n",
    "for tokens in new_token_list:\n",
    "    clean_sentence=\" \".join([token for token in tokens])\n",
    "    clean_corpus.append(clean_sentence)\n",
    "\n",
    "clean_corpus"
   ]
  },
  {
   "cell_type": "code",
   "execution_count": 17,
   "metadata": {},
   "outputs": [],
   "source": [
    "# Now we get back to CountVectorizer() method.\n",
    "\n",
    "from sklearn.feature_extraction.text import CountVectorizer\n",
    "vect = CountVectorizer()"
   ]
  },
  {
   "cell_type": "code",
   "execution_count": 18,
   "metadata": {},
   "outputs": [
    {
     "data": {
      "text/plain": [
       "CountVectorizer(analyzer='word', binary=False, decode_error='strict',\n",
       "        dtype=<class 'numpy.int64'>, encoding='utf-8', input='content',\n",
       "        lowercase=True, max_df=1.0, max_features=None, min_df=1,\n",
       "        ngram_range=(1, 1), preprocessor=None, stop_words=None,\n",
       "        strip_accents=None, token_pattern='(?u)\\\\b\\\\w\\\\w+\\\\b',\n",
       "        tokenizer=None, vocabulary=None)"
      ]
     },
     "execution_count": 18,
     "metadata": {},
     "output_type": "execute_result"
    }
   ],
   "source": [
    "# then we fit our model\n",
    "vect.fit(clean_corpus)\n",
    "# the result of this fitting procedure is a subject for Machine Learning. So we'll not get into this now."
   ]
  },
  {
   "cell_type": "code",
   "execution_count": 19,
   "metadata": {
    "scrolled": true
   },
   "outputs": [
    {
     "data": {
      "text/plain": [
       "['1920s',\n",
       " 'also',\n",
       " 'answer',\n",
       " 'astronomer',\n",
       " 'astronomers',\n",
       " 'away',\n",
       " 'called',\n",
       " 'clues',\n",
       " 'codifies',\n",
       " 'constant',\n",
       " 'cosmic',\n",
       " 'cosmologists',\n",
       " 'crucial',\n",
       " 'discovered',\n",
       " 'distances',\n",
       " 'edwin',\n",
       " 'eons',\n",
       " 'evolves',\n",
       " 'expanding',\n",
       " 'expansion',\n",
       " 'expansive',\n",
       " 'farther',\n",
       " 'faster',\n",
       " 'future',\n",
       " 'galaxies',\n",
       " 'giving',\n",
       " 'going',\n",
       " 'history',\n",
       " 'hubble',\n",
       " 'interest',\n",
       " 'long',\n",
       " 'making',\n",
       " 'measuring',\n",
       " 'moment',\n",
       " 'much',\n",
       " 'named',\n",
       " 'origins',\n",
       " 'particular',\n",
       " 'physicists',\n",
       " 'proportional',\n",
       " 'provides',\n",
       " 'question',\n",
       " 'rate',\n",
       " 'recede',\n",
       " 'relationship',\n",
       " 'represents',\n",
       " 'researchers',\n",
       " 'reveals',\n",
       " 'something',\n",
       " 'speeds',\n",
       " 'time',\n",
       " 'universe',\n",
       " 'us',\n",
       " 'value',\n",
       " 'velocities',\n",
       " 'view']"
      ]
     },
     "execution_count": 19,
     "metadata": {},
     "output_type": "execute_result"
    }
   ],
   "source": [
    "# By using the get_feature_names() method, we can see what features have been created from our messages. \n",
    "# (or what tokens have been “learned” by CountVectorizer)\n",
    "\n",
    "vect.get_feature_names()"
   ]
  },
  {
   "cell_type": "code",
   "execution_count": 20,
   "metadata": {},
   "outputs": [],
   "source": [
    "# Next, lets transform our CountVectorizer object. \n",
    "# This will create matrix populated with token counts to represent our messages. \n",
    "# This is often referred to as a document term matrix.\n",
    "matrix = vect.transform(clean_corpus)"
   ]
  },
  {
   "cell_type": "code",
   "execution_count": 21,
   "metadata": {},
   "outputs": [
    {
     "data": {
      "text/html": [
       "<div>\n",
       "<style scoped>\n",
       "    .dataframe tbody tr th:only-of-type {\n",
       "        vertical-align: middle;\n",
       "    }\n",
       "\n",
       "    .dataframe tbody tr th {\n",
       "        vertical-align: top;\n",
       "    }\n",
       "\n",
       "    .dataframe thead th {\n",
       "        text-align: right;\n",
       "    }\n",
       "</style>\n",
       "<table border=\"1\" class=\"dataframe\">\n",
       "  <thead>\n",
       "    <tr style=\"text-align: right;\">\n",
       "      <th></th>\n",
       "      <th>1920s</th>\n",
       "      <th>also</th>\n",
       "      <th>answer</th>\n",
       "      <th>astronomer</th>\n",
       "      <th>astronomers</th>\n",
       "      <th>away</th>\n",
       "      <th>called</th>\n",
       "      <th>clues</th>\n",
       "      <th>codifies</th>\n",
       "      <th>constant</th>\n",
       "      <th>...</th>\n",
       "      <th>researchers</th>\n",
       "      <th>reveals</th>\n",
       "      <th>something</th>\n",
       "      <th>speeds</th>\n",
       "      <th>time</th>\n",
       "      <th>universe</th>\n",
       "      <th>us</th>\n",
       "      <th>value</th>\n",
       "      <th>velocities</th>\n",
       "      <th>view</th>\n",
       "    </tr>\n",
       "  </thead>\n",
       "  <tbody>\n",
       "    <tr>\n",
       "      <th>0</th>\n",
       "      <td>1</td>\n",
       "      <td>0</td>\n",
       "      <td>1</td>\n",
       "      <td>1</td>\n",
       "      <td>0</td>\n",
       "      <td>0</td>\n",
       "      <td>1</td>\n",
       "      <td>0</td>\n",
       "      <td>0</td>\n",
       "      <td>1</td>\n",
       "      <td>...</td>\n",
       "      <td>0</td>\n",
       "      <td>0</td>\n",
       "      <td>1</td>\n",
       "      <td>0</td>\n",
       "      <td>0</td>\n",
       "      <td>2</td>\n",
       "      <td>0</td>\n",
       "      <td>0</td>\n",
       "      <td>0</td>\n",
       "      <td>0</td>\n",
       "    </tr>\n",
       "    <tr>\n",
       "      <th>1</th>\n",
       "      <td>0</td>\n",
       "      <td>0</td>\n",
       "      <td>0</td>\n",
       "      <td>0</td>\n",
       "      <td>0</td>\n",
       "      <td>1</td>\n",
       "      <td>0</td>\n",
       "      <td>0</td>\n",
       "      <td>0</td>\n",
       "      <td>0</td>\n",
       "      <td>...</td>\n",
       "      <td>0</td>\n",
       "      <td>0</td>\n",
       "      <td>0</td>\n",
       "      <td>1</td>\n",
       "      <td>0</td>\n",
       "      <td>0</td>\n",
       "      <td>1</td>\n",
       "      <td>0</td>\n",
       "      <td>0</td>\n",
       "      <td>0</td>\n",
       "    </tr>\n",
       "    <tr>\n",
       "      <th>2</th>\n",
       "      <td>0</td>\n",
       "      <td>0</td>\n",
       "      <td>0</td>\n",
       "      <td>0</td>\n",
       "      <td>0</td>\n",
       "      <td>0</td>\n",
       "      <td>0</td>\n",
       "      <td>0</td>\n",
       "      <td>1</td>\n",
       "      <td>1</td>\n",
       "      <td>...</td>\n",
       "      <td>0</td>\n",
       "      <td>0</td>\n",
       "      <td>0</td>\n",
       "      <td>0</td>\n",
       "      <td>0</td>\n",
       "      <td>0</td>\n",
       "      <td>0</td>\n",
       "      <td>0</td>\n",
       "      <td>1</td>\n",
       "      <td>0</td>\n",
       "    </tr>\n",
       "    <tr>\n",
       "      <th>3</th>\n",
       "      <td>0</td>\n",
       "      <td>1</td>\n",
       "      <td>0</td>\n",
       "      <td>0</td>\n",
       "      <td>1</td>\n",
       "      <td>0</td>\n",
       "      <td>0</td>\n",
       "      <td>0</td>\n",
       "      <td>0</td>\n",
       "      <td>0</td>\n",
       "      <td>...</td>\n",
       "      <td>0</td>\n",
       "      <td>1</td>\n",
       "      <td>0</td>\n",
       "      <td>0</td>\n",
       "      <td>0</td>\n",
       "      <td>0</td>\n",
       "      <td>0</td>\n",
       "      <td>0</td>\n",
       "      <td>0</td>\n",
       "      <td>0</td>\n",
       "    </tr>\n",
       "    <tr>\n",
       "      <th>4</th>\n",
       "      <td>0</td>\n",
       "      <td>0</td>\n",
       "      <td>0</td>\n",
       "      <td>0</td>\n",
       "      <td>0</td>\n",
       "      <td>0</td>\n",
       "      <td>0</td>\n",
       "      <td>1</td>\n",
       "      <td>0</td>\n",
       "      <td>1</td>\n",
       "      <td>...</td>\n",
       "      <td>1</td>\n",
       "      <td>0</td>\n",
       "      <td>0</td>\n",
       "      <td>0</td>\n",
       "      <td>1</td>\n",
       "      <td>2</td>\n",
       "      <td>0</td>\n",
       "      <td>1</td>\n",
       "      <td>0</td>\n",
       "      <td>1</td>\n",
       "    </tr>\n",
       "  </tbody>\n",
       "</table>\n",
       "<p>5 rows × 56 columns</p>\n",
       "</div>"
      ],
      "text/plain": [
       "   1920s  also  answer  astronomer  astronomers  away  called  clues  \\\n",
       "0      1     0       1           1            0     0       1      0   \n",
       "1      0     0       0           0            0     1       0      0   \n",
       "2      0     0       0           0            0     0       0      0   \n",
       "3      0     1       0           0            1     0       0      0   \n",
       "4      0     0       0           0            0     0       0      1   \n",
       "\n",
       "   codifies  constant  ...   researchers  reveals  something  speeds  time  \\\n",
       "0         0         1  ...             0        0          1       0     0   \n",
       "1         0         0  ...             0        0          0       1     0   \n",
       "2         1         1  ...             0        0          0       0     0   \n",
       "3         0         0  ...             0        1          0       0     0   \n",
       "4         0         1  ...             1        0          0       0     1   \n",
       "\n",
       "   universe  us  value  velocities  view  \n",
       "0         2   0      0           0     0  \n",
       "1         0   1      0           0     0  \n",
       "2         0   0      0           1     0  \n",
       "3         0   0      0           0     0  \n",
       "4         2   0      1           0     1  \n",
       "\n",
       "[5 rows x 56 columns]"
      ]
     },
     "execution_count": 21,
     "metadata": {},
     "output_type": "execute_result"
    }
   ],
   "source": [
    "# Let's convert this to pandas dataframe(a dense matrix version) for better intuition.\n",
    "import pandas as pd\n",
    "cv_df=pd.DataFrame(matrix.toarray(), columns=vect.get_feature_names())\n",
    "cv_df"
   ]
  },
  {
   "cell_type": "markdown",
   "metadata": {},
   "source": [
    "As you can see, we now have all the frequencies of each token inside a sentence. \n",
    "\n",
    "Each of our senteences only contain 10-15 unique tokens and we have 56 different features (number of columns in dataframe) created from all of our sentences. This means each row will mostly be filled with zeros. In order to save space/computational power a sparse matrix is created. This means that only the location and value of non-zero values is saved. Since we're transforming the same sentences into a model fitted from those sentences, this is not an issue at the moment. But when we try to find a matrix representation of another sentence other than we already have, it's quite possible that many of thee features (tokens) will not be in the nex sentence and all column would be zero. So the idea beehind the sparse matrix is to save some space because of that issue.\n",
    "\n",
    "However, if we'd like to feed a new sentence into this model and try to get matrix representation, we may have an issue though. Since our model is fitted on the sentences we already have, if a new sentence doesn't have a token that could be recognized by our model, that token wouldn't be represented. In this situation we simply neeed to include append our new message to our original collection and then refit and transform to make sure we don’t lose this information. \n",
    "\n",
    "Now look at the above table. Since there are two \"universe\" in sentence 1 and 5, the entry is 2 for \"universe\".\n",
    "\n",
    "If we'd be working on ML sentence classifier, we'd be ready to feed our sentence term matrix into our ML classifier or whatever else we have planned. \n"
   ]
  },
  {
   "cell_type": "code",
   "execution_count": 22,
   "metadata": {},
   "outputs": [
    {
     "data": {
      "text/plain": [
       "0    2\n",
       "1    0\n",
       "2    0\n",
       "3    0\n",
       "4    2\n",
       "Name: universe, dtype: int64"
      ]
     },
     "execution_count": 22,
     "metadata": {},
     "output_type": "execute_result"
    }
   ],
   "source": [
    "cv_df[\"universe\"] # we can just the feature name as column and print that column"
   ]
  },
  {
   "cell_type": "markdown",
   "metadata": {},
   "source": [
    "#### TfidfVectorizer (Term Frequency – Inverse Document Frequency)"
   ]
  },
  {
   "cell_type": "markdown",
   "metadata": {},
   "source": [
    "A problem with scoring word frequency is that highly frequent words start to dominate in the document (e.g. larger score), but may not contain as much “informational content” to the model as rarer but perhaps domain specific words.\n",
    "\n",
    "One approach is to rescale the frequency of words by how often they appear in all documents, so that the scores for frequent words like “the” that are also frequent across all documents are penalized.\n",
    "\n",
    "This approach to scoring is called Term Frequency – Inverse Document Frequency, or TF-IDF for short, where:\n",
    "\n",
    "Term Frequency: is a scoring of the frequency of the word in the current document.\n",
    "Inverse Document Frequency: is a scoring of how rare the word is across documents.\n",
    "\n",
    "The scores are a weighting where not all words are equally as important or interesting.\n",
    "\n",
    "The scores have the effect of highlighting words that are distinct (contain useful information) in a given document.\n",
    "\n",
    "Just like CountVectorizer, TfidfVectorizer also creates a document term matrix (DTM) from our messages. However, instead of filling the DTM with token counts it calculates term frequency-inverse document frequency value for each word(TF-IDF). The TF-IDF is the product of two weights, the term frequency and the inverse document frequency.\n",
    "\n",
    "To generalize: TF-IDF = term frequency * (1 / document frequency)\n",
    "\n",
    "Or: TF-IDF = term frequency * inverse document frequency\n",
    "\n",
    "Term frequency is a weight representing how often a word occurs in a document. If we have several occurences of the same word in one document we can expect the TF-IDF to increase.\n",
    "\n",
    "Inverse document frequency is another weight representing how common a word is across documents. If a word is used in many documents then the TF-IDF will decrease.\n",
    "\n",
    "With the definition out of the way we’ll go through a few examples to see how it works. Since the usage is pretty much identical to CountVectorizer and we’ll be going through a few examples we’ll make a function to create a DTM from our messages to make things a bit easier and clearer."
   ]
  },
  {
   "cell_type": "code",
   "execution_count": 23,
   "metadata": {},
   "outputs": [],
   "source": [
    "# We at first import TfidfVectorizer from sklearn\n",
    "from sklearn.feature_extraction.text import TfidfVectorizer"
   ]
  },
  {
   "cell_type": "code",
   "execution_count": 24,
   "metadata": {
    "scrolled": true
   },
   "outputs": [
    {
     "data": {
      "text/plain": [
       "['1920s',\n",
       " 'also',\n",
       " 'answer',\n",
       " 'astronomer',\n",
       " 'astronomers',\n",
       " 'away',\n",
       " 'called',\n",
       " 'clues',\n",
       " 'codifies',\n",
       " 'constant',\n",
       " 'cosmic',\n",
       " 'cosmologists',\n",
       " 'crucial',\n",
       " 'discovered',\n",
       " 'distances',\n",
       " 'edwin',\n",
       " 'eons',\n",
       " 'evolves',\n",
       " 'expanding',\n",
       " 'expansion',\n",
       " 'expansive',\n",
       " 'farther',\n",
       " 'faster',\n",
       " 'future',\n",
       " 'galaxies',\n",
       " 'giving',\n",
       " 'going',\n",
       " 'history',\n",
       " 'hubble',\n",
       " 'interest',\n",
       " 'long',\n",
       " 'making',\n",
       " 'measuring',\n",
       " 'moment',\n",
       " 'much',\n",
       " 'named',\n",
       " 'origins',\n",
       " 'particular',\n",
       " 'physicists',\n",
       " 'proportional',\n",
       " 'provides',\n",
       " 'question',\n",
       " 'rate',\n",
       " 'recede',\n",
       " 'relationship',\n",
       " 'represents',\n",
       " 'researchers',\n",
       " 'reveals',\n",
       " 'something',\n",
       " 'speeds',\n",
       " 'time',\n",
       " 'universe',\n",
       " 'us',\n",
       " 'value',\n",
       " 'velocities',\n",
       " 'view']"
      ]
     },
     "execution_count": 24,
     "metadata": {},
     "output_type": "execute_result"
    }
   ],
   "source": [
    "vect = TfidfVectorizer()\n",
    "\n",
    "# then we fit our model\n",
    "vect.fit(clean_corpus)\n",
    "\n",
    "vect.get_feature_names()"
   ]
  },
  {
   "cell_type": "code",
   "execution_count": 25,
   "metadata": {},
   "outputs": [],
   "source": [
    "matrix = vect.transform(clean_corpus)"
   ]
  },
  {
   "cell_type": "code",
   "execution_count": 26,
   "metadata": {},
   "outputs": [
    {
     "data": {
      "text/html": [
       "<div>\n",
       "<style scoped>\n",
       "    .dataframe tbody tr th:only-of-type {\n",
       "        vertical-align: middle;\n",
       "    }\n",
       "\n",
       "    .dataframe tbody tr th {\n",
       "        vertical-align: top;\n",
       "    }\n",
       "\n",
       "    .dataframe thead th {\n",
       "        text-align: right;\n",
       "    }\n",
       "</style>\n",
       "<table border=\"1\" class=\"dataframe\">\n",
       "  <thead>\n",
       "    <tr style=\"text-align: right;\">\n",
       "      <th></th>\n",
       "      <th>1920s</th>\n",
       "      <th>also</th>\n",
       "      <th>answer</th>\n",
       "      <th>astronomer</th>\n",
       "      <th>astronomers</th>\n",
       "      <th>away</th>\n",
       "      <th>called</th>\n",
       "      <th>clues</th>\n",
       "      <th>codifies</th>\n",
       "      <th>constant</th>\n",
       "      <th>...</th>\n",
       "      <th>researchers</th>\n",
       "      <th>reveals</th>\n",
       "      <th>something</th>\n",
       "      <th>speeds</th>\n",
       "      <th>time</th>\n",
       "      <th>universe</th>\n",
       "      <th>us</th>\n",
       "      <th>value</th>\n",
       "      <th>velocities</th>\n",
       "      <th>view</th>\n",
       "    </tr>\n",
       "  </thead>\n",
       "  <tbody>\n",
       "    <tr>\n",
       "      <th>0</th>\n",
       "      <td>0.242838</td>\n",
       "      <td>0.000000</td>\n",
       "      <td>0.242838</td>\n",
       "      <td>0.242838</td>\n",
       "      <td>0.000000</td>\n",
       "      <td>0.000000</td>\n",
       "      <td>0.242838</td>\n",
       "      <td>0.000000</td>\n",
       "      <td>0.000000</td>\n",
       "      <td>0.162632</td>\n",
       "      <td>...</td>\n",
       "      <td>0.000000</td>\n",
       "      <td>0.000000</td>\n",
       "      <td>0.242838</td>\n",
       "      <td>0.000000</td>\n",
       "      <td>0.000000</td>\n",
       "      <td>0.391841</td>\n",
       "      <td>0.000000</td>\n",
       "      <td>0.000000</td>\n",
       "      <td>0.000000</td>\n",
       "      <td>0.000000</td>\n",
       "    </tr>\n",
       "    <tr>\n",
       "      <th>1</th>\n",
       "      <td>0.000000</td>\n",
       "      <td>0.000000</td>\n",
       "      <td>0.000000</td>\n",
       "      <td>0.000000</td>\n",
       "      <td>0.000000</td>\n",
       "      <td>0.321896</td>\n",
       "      <td>0.000000</td>\n",
       "      <td>0.000000</td>\n",
       "      <td>0.000000</td>\n",
       "      <td>0.000000</td>\n",
       "      <td>...</td>\n",
       "      <td>0.000000</td>\n",
       "      <td>0.000000</td>\n",
       "      <td>0.000000</td>\n",
       "      <td>0.321896</td>\n",
       "      <td>0.000000</td>\n",
       "      <td>0.000000</td>\n",
       "      <td>0.321896</td>\n",
       "      <td>0.000000</td>\n",
       "      <td>0.000000</td>\n",
       "      <td>0.000000</td>\n",
       "    </tr>\n",
       "    <tr>\n",
       "      <th>2</th>\n",
       "      <td>0.000000</td>\n",
       "      <td>0.000000</td>\n",
       "      <td>0.000000</td>\n",
       "      <td>0.000000</td>\n",
       "      <td>0.000000</td>\n",
       "      <td>0.000000</td>\n",
       "      <td>0.000000</td>\n",
       "      <td>0.000000</td>\n",
       "      <td>0.430281</td>\n",
       "      <td>0.288164</td>\n",
       "      <td>...</td>\n",
       "      <td>0.000000</td>\n",
       "      <td>0.000000</td>\n",
       "      <td>0.000000</td>\n",
       "      <td>0.000000</td>\n",
       "      <td>0.000000</td>\n",
       "      <td>0.000000</td>\n",
       "      <td>0.000000</td>\n",
       "      <td>0.000000</td>\n",
       "      <td>0.430281</td>\n",
       "      <td>0.000000</td>\n",
       "    </tr>\n",
       "    <tr>\n",
       "      <th>3</th>\n",
       "      <td>0.000000</td>\n",
       "      <td>0.353553</td>\n",
       "      <td>0.000000</td>\n",
       "      <td>0.000000</td>\n",
       "      <td>0.353553</td>\n",
       "      <td>0.000000</td>\n",
       "      <td>0.000000</td>\n",
       "      <td>0.000000</td>\n",
       "      <td>0.000000</td>\n",
       "      <td>0.000000</td>\n",
       "      <td>...</td>\n",
       "      <td>0.000000</td>\n",
       "      <td>0.353553</td>\n",
       "      <td>0.000000</td>\n",
       "      <td>0.000000</td>\n",
       "      <td>0.000000</td>\n",
       "      <td>0.000000</td>\n",
       "      <td>0.000000</td>\n",
       "      <td>0.000000</td>\n",
       "      <td>0.000000</td>\n",
       "      <td>0.000000</td>\n",
       "    </tr>\n",
       "    <tr>\n",
       "      <th>4</th>\n",
       "      <td>0.000000</td>\n",
       "      <td>0.000000</td>\n",
       "      <td>0.000000</td>\n",
       "      <td>0.000000</td>\n",
       "      <td>0.000000</td>\n",
       "      <td>0.000000</td>\n",
       "      <td>0.000000</td>\n",
       "      <td>0.204103</td>\n",
       "      <td>0.000000</td>\n",
       "      <td>0.136690</td>\n",
       "      <td>...</td>\n",
       "      <td>0.204103</td>\n",
       "      <td>0.000000</td>\n",
       "      <td>0.000000</td>\n",
       "      <td>0.000000</td>\n",
       "      <td>0.204103</td>\n",
       "      <td>0.329338</td>\n",
       "      <td>0.000000</td>\n",
       "      <td>0.204103</td>\n",
       "      <td>0.000000</td>\n",
       "      <td>0.204103</td>\n",
       "    </tr>\n",
       "  </tbody>\n",
       "</table>\n",
       "<p>5 rows × 56 columns</p>\n",
       "</div>"
      ],
      "text/plain": [
       "      1920s      also    answer  astronomer  astronomers      away    called  \\\n",
       "0  0.242838  0.000000  0.242838    0.242838     0.000000  0.000000  0.242838   \n",
       "1  0.000000  0.000000  0.000000    0.000000     0.000000  0.321896  0.000000   \n",
       "2  0.000000  0.000000  0.000000    0.000000     0.000000  0.000000  0.000000   \n",
       "3  0.000000  0.353553  0.000000    0.000000     0.353553  0.000000  0.000000   \n",
       "4  0.000000  0.000000  0.000000    0.000000     0.000000  0.000000  0.000000   \n",
       "\n",
       "      clues  codifies  constant    ...     researchers   reveals  something  \\\n",
       "0  0.000000  0.000000  0.162632    ...        0.000000  0.000000   0.242838   \n",
       "1  0.000000  0.000000  0.000000    ...        0.000000  0.000000   0.000000   \n",
       "2  0.000000  0.430281  0.288164    ...        0.000000  0.000000   0.000000   \n",
       "3  0.000000  0.000000  0.000000    ...        0.000000  0.353553   0.000000   \n",
       "4  0.204103  0.000000  0.136690    ...        0.204103  0.000000   0.000000   \n",
       "\n",
       "     speeds      time  universe        us     value  velocities      view  \n",
       "0  0.000000  0.000000  0.391841  0.000000  0.000000    0.000000  0.000000  \n",
       "1  0.321896  0.000000  0.000000  0.321896  0.000000    0.000000  0.000000  \n",
       "2  0.000000  0.000000  0.000000  0.000000  0.000000    0.430281  0.000000  \n",
       "3  0.000000  0.000000  0.000000  0.000000  0.000000    0.000000  0.000000  \n",
       "4  0.000000  0.204103  0.329338  0.000000  0.204103    0.000000  0.204103  \n",
       "\n",
       "[5 rows x 56 columns]"
      ]
     },
     "execution_count": 26,
     "metadata": {},
     "output_type": "execute_result"
    }
   ],
   "source": [
    "tf_df=pd.DataFrame(matrix.toarray(), columns=vect.get_feature_names())\n",
    "tf_df"
   ]
  },
  {
   "cell_type": "code",
   "execution_count": 27,
   "metadata": {
    "scrolled": true
   },
   "outputs": [
    {
     "data": {
      "text/plain": [
       "hubble          0.391841\n",
       "universe        0.391841\n",
       "1920s           0.242838\n",
       "discovered      0.242838\n",
       "expanding       0.242838\n",
       "question        0.242838\n",
       "named           0.242838\n",
       "called          0.242838\n",
       "edwin           0.242838\n",
       "something       0.242838\n",
       "astronomer      0.242838\n",
       "answer          0.242838\n",
       "expansion       0.195920\n",
       "rate            0.195920\n",
       "constant        0.162632\n",
       "farther         0.000000\n",
       "evolves         0.000000\n",
       "eons            0.000000\n",
       "faster          0.000000\n",
       "expansive       0.000000\n",
       "cosmic          0.000000\n",
       "distances       0.000000\n",
       "crucial         0.000000\n",
       "cosmologists    0.000000\n",
       "galaxies        0.000000\n",
       "codifies        0.000000\n",
       "clues           0.000000\n",
       "away            0.000000\n",
       "astronomers     0.000000\n",
       "also            0.000000\n",
       "future          0.000000\n",
       "view            0.000000\n",
       "giving          0.000000\n",
       "going           0.000000\n",
       "value           0.000000\n",
       "us              0.000000\n",
       "time            0.000000\n",
       "speeds          0.000000\n",
       "reveals         0.000000\n",
       "researchers     0.000000\n",
       "represents      0.000000\n",
       "relationship    0.000000\n",
       "recede          0.000000\n",
       "provides        0.000000\n",
       "proportional    0.000000\n",
       "physicists      0.000000\n",
       "particular      0.000000\n",
       "origins         0.000000\n",
       "much            0.000000\n",
       "moment          0.000000\n",
       "measuring       0.000000\n",
       "making          0.000000\n",
       "long            0.000000\n",
       "interest        0.000000\n",
       "velocities      0.000000\n",
       "history         0.000000\n",
       "Name: 0, dtype: float64"
      ]
     },
     "execution_count": 27,
     "metadata": {},
     "output_type": "execute_result"
    }
   ],
   "source": [
    "# Now look at the sentence 1 by sorting the tfidf scores in a decreasing order\n",
    "tf_df.iloc[0].sort_values(ascending=False) # sentencee_1 is at index 0"
   ]
  },
  {
   "cell_type": "code",
   "execution_count": 28,
   "metadata": {},
   "outputs": [
    {
     "data": {
      "text/html": [
       "<div>\n",
       "<style scoped>\n",
       "    .dataframe tbody tr th:only-of-type {\n",
       "        vertical-align: middle;\n",
       "    }\n",
       "\n",
       "    .dataframe tbody tr th {\n",
       "        vertical-align: top;\n",
       "    }\n",
       "\n",
       "    .dataframe thead th {\n",
       "        text-align: right;\n",
       "    }\n",
       "</style>\n",
       "<table border=\"1\" class=\"dataframe\">\n",
       "  <thead>\n",
       "    <tr style=\"text-align: right;\">\n",
       "      <th></th>\n",
       "      <th>hubble</th>\n",
       "      <th>universe</th>\n",
       "      <th>1920s</th>\n",
       "      <th>rate</th>\n",
       "      <th>constant</th>\n",
       "    </tr>\n",
       "  </thead>\n",
       "  <tbody>\n",
       "    <tr>\n",
       "      <th>0</th>\n",
       "      <td>2</td>\n",
       "      <td>2</td>\n",
       "      <td>1</td>\n",
       "      <td>1</td>\n",
       "      <td>1</td>\n",
       "    </tr>\n",
       "    <tr>\n",
       "      <th>1</th>\n",
       "      <td>0</td>\n",
       "      <td>0</td>\n",
       "      <td>0</td>\n",
       "      <td>0</td>\n",
       "      <td>0</td>\n",
       "    </tr>\n",
       "    <tr>\n",
       "      <th>2</th>\n",
       "      <td>1</td>\n",
       "      <td>0</td>\n",
       "      <td>0</td>\n",
       "      <td>0</td>\n",
       "      <td>1</td>\n",
       "    </tr>\n",
       "    <tr>\n",
       "      <th>3</th>\n",
       "      <td>0</td>\n",
       "      <td>0</td>\n",
       "      <td>0</td>\n",
       "      <td>0</td>\n",
       "      <td>0</td>\n",
       "    </tr>\n",
       "    <tr>\n",
       "      <th>4</th>\n",
       "      <td>0</td>\n",
       "      <td>2</td>\n",
       "      <td>0</td>\n",
       "      <td>1</td>\n",
       "      <td>1</td>\n",
       "    </tr>\n",
       "  </tbody>\n",
       "</table>\n",
       "</div>"
      ],
      "text/plain": [
       "   hubble  universe  1920s  rate  constant\n",
       "0       2         2      1     1         1\n",
       "1       0         0      0     0         0\n",
       "2       1         0      0     0         1\n",
       "3       0         0      0     0         0\n",
       "4       0         2      0     1         1"
      ]
     },
     "execution_count": 28,
     "metadata": {},
     "output_type": "execute_result"
    }
   ],
   "source": [
    "# To better understand TF-IDF scores, let's analyze this with respect to CountVectorizer results.\n",
    "\n",
    "cv_df[[\"hubble\",\"universe\",\"1920s\",\"rate\",\"constant\"]]\n",
    "\n",
    "# here are the respective tfidf scores of each term ==>> [0.391841, 0.391841, 0.242838, 0.195920, 0.162632]"
   ]
  },
  {
   "cell_type": "markdown",
   "metadata": {},
   "source": [
    "As you can see, \"hubble\" and \"universe\" terms have the highest scores across all the tokens. This is because we don't have any \"universe\" or \"hubble\" in three of the sentences; although they are high in numbers inside the sentences they're used. Another nice example would be \"1920s\". This token is used only once in both the sentence it's used and across as the sentences. It's tfidf score is higher but still less when comapred to \"universe\" and \"hubble\" as \"1920s\" is not exist in the other sentences. So this issue lowers its rate a little bit. \n",
    "\n",
    "And let's look at the terms \"constant\" and \"rate\". They're only used once in the sentences they're used; but \"rate\" is used in two sentences while \"constant\" is used three sentences. So tfidf score of \"rate\" is higher than that of \"constant\"; which means that the term \"constant\" is not really informative in differentiating sentences.\n",
    "\n",
    "Now it's clear that \"hubble\" and \"universe\" terms represent the true content of all the sentences. This is the idea behind TF-IDF algorithm: assigning a higher value for the rare words that are less in number all the sentences in the corpus but higher in value inside the sentences they're used."
   ]
  },
  {
   "cell_type": "markdown",
   "metadata": {},
   "source": [
    "### Topic Modeling"
   ]
  },
  {
   "cell_type": "markdown",
   "metadata": {},
   "source": [
    "Topic modeling is a process of automatically identifying the topics present in a text corpus, it derives the hidden patterns among the words in the corpus in an unsupervised manner. Topics are defined as “a repeating pattern of co-occurring terms in a corpus”. Topic modelling can be described as a method for finding a group of words (i.e topic) from a collection of documents that best represents the information in the collection.\n",
    "\n",
    "As the name suggests, it is a process to automatically identify topics present in a text object and to derive hidden patterns exhibited by a text corpus. Thus, assisting better decision making. \n",
    "\n",
    "Topic Modelling is different from rule-based text mining approaches that use regular expressions or dictionary based keyword searching techniques. It is an unsupervised approach used for finding and observing the bunch of words (called “topics”) in large clusters of texts.\n",
    "\n",
    "A good topic model results in – “health”, “doctor”, “patient”, “hospital” for a topic – Healthcare, and “farm”, “crops”, “wheat” for a topic – “Farming”.\n",
    "\n",
    "Topic Models are very useful for the purpose for document clustering, organizing large blocks of textual data, information retrieval from unstructured text and feature selection. For Example – New York Times are using topic models to boost their user – article recommendation engines. Various professionals are using topic models for recruitment industries where they aim to extract latent features of job descriptions and map them to right candidates. They are being used to organize large datasets of emails, customer reviews, and user social media profiles.\n",
    "\n",
    "There are many approaches for obtaining topics from a text such as – Term Frequency and Inverse Document Frequency (TfIdf). NonNegative Matrix Factorization techniques. Latent Dirichlet Allocation(LDA) is the most popular topic modeling technique and in this article, we will discuss the same.\n",
    "\n",
    "LDA assumes documents are produced from a mixture of topics. Those topics then generate words based on their probability distribution. Given a dataset of documents, LDA backtracks and tries to figure out what topics would create those documents in the first place.\n"
   ]
  },
  {
   "cell_type": "code",
   "execution_count": 142,
   "metadata": {},
   "outputs": [],
   "source": [
    "# lets see how it works with the following sentences.\n",
    "\n",
    "doc1 = \"I have big exam tomorrow and I need to study hard to get a good grade.\"\n",
    "doc2 = \"My wife likes to go out with me but I prefer staying at home and studying.\"\n",
    "doc3 = \"Kids are playing football in the field and they seem to have fun\"\n",
    "doc4 = \"Sometimes I feel depressed while driving and it's hard to focus on the road.\"\n",
    "doc5 = \"I usually prefer reading at home but my wife prefers watching a TV.\""
   ]
  },
  {
   "cell_type": "code",
   "execution_count": 143,
   "metadata": {},
   "outputs": [],
   "source": [
    "# array of documents aka corpus\n",
    "corpus = [doc1, doc2, doc3, doc4, doc5]"
   ]
  },
  {
   "cell_type": "code",
   "execution_count": 144,
   "metadata": {},
   "outputs": [
    {
     "data": {
      "text/plain": [
       "[['big', 'exam', 'tomorrow', 'need', 'study', 'hard', 'get', 'good', 'grade'],\n",
       " ['wife', 'likes', 'go', 'prefer', 'staying', 'home', 'studying'],\n",
       " ['kids', 'playing', 'football', 'field', 'seem', 'fun'],\n",
       " ['sometimes', 'feel', 'depressed', 'driving', 'hard', 'focus', 'road'],\n",
       " ['usually', 'prefer', 'reading', 'home', 'wife', 'prefers', 'watching', 'tv']]"
      ]
     },
     "execution_count": 144,
     "metadata": {},
     "output_type": "execute_result"
    }
   ],
   "source": [
    "# now lets prepare our corpus to be used in LDA. We'll usee the same functions we wrote before\n",
    "# First, we are creating a dictionary from the data, then convert to bag-of-words corpus.\n",
    "\n",
    "import nltk\n",
    "from nltk.corpus import stopwords\n",
    "from nltk import word_tokenize\n",
    "from nltk.tokenize import RegexpTokenizer\n",
    "tokenizer = RegexpTokenizer(r'\\w+')\n",
    "\n",
    "stop_words=set(stopwords.words('english'))\n",
    "\n",
    "token_list=[]\n",
    "for sentence in corpus:\n",
    "    token_list.append(tokenizer.tokenize(sentence.lower()))\n",
    "\n",
    "\n",
    "def remove_stopwords(words):\n",
    "\n",
    "    filtered_words = []\n",
    "    for word in words:\n",
    "        if word not in stop_words:\n",
    "            filtered_words.append(word)\n",
    "            \n",
    "    return filtered_words\n",
    "\n",
    "    \n",
    "tokenized_data=[]\n",
    "\n",
    "for token in token_list:\n",
    "    #distinct_tokens=list(set(token))\n",
    "    tokenized_data.append(remove_stopwords(token))\n",
    "    # we at first remove punctuations and then stopwords\n",
    "\n",
    "\n",
    "tokenized_data\n",
    "# now here are the tokens for each sentence inside the corpus"
   ]
  },
  {
   "cell_type": "markdown",
   "metadata": {},
   "source": [
    "The LDA model discovers the different topics that the documents represent and how much of each topic is present in a document. "
   ]
  },
  {
   "cell_type": "markdown",
   "metadata": {},
   "source": [
    "Python provides many great libraries for text mining practices, “gensim” is one such clean and beautiful library to handle text data. It is scalable, robust and efficient. Following code shows how to convert a corpus into a document-term matrix."
   ]
  },
  {
   "cell_type": "code",
   "execution_count": 162,
   "metadata": {},
   "outputs": [
    {
     "name": "stdout",
     "output_type": "stream",
     "text": [
      "Topic #0: 0.054*\"hard\" + 0.054*\"wife\" + 0.054*\"tv\" + 0.054*\"grade\" + 0.054*\"watching\"\n",
      "Topic #1: 0.118*\"kids\" + 0.118*\"playing\" + 0.118*\"football\" + 0.118*\"field\" + 0.118*\"seem\"\n",
      "Topic #2: 0.107*\"sometimes\" + 0.107*\"focus\" + 0.107*\"road\" + 0.107*\"driving\" + 0.107*\"feel\"\n",
      "Topic #3: 0.030*\"home\" + 0.030*\"wife\" + 0.030*\"prefer\" + 0.030*\"hard\" + 0.030*\"field\"\n",
      "Topic #4: 0.030*\"prefer\" + 0.030*\"home\" + 0.030*\"hard\" + 0.030*\"wife\" + 0.030*\"playing\"\n",
      "Topic #5: 0.103*\"studying\" + 0.101*\"likes\" + 0.101*\"go\" + 0.096*\"home\" + 0.094*\"wife\"\n",
      "Topic #6: 0.030*\"prefer\" + 0.030*\"home\" + 0.030*\"hard\" + 0.030*\"prefers\" + 0.030*\"seem\"\n",
      "Topic #7: 0.092*\"prefer\" + 0.085*\"staying\" + 0.080*\"wife\" + 0.078*\"home\" + 0.070*\"go\"\n",
      "Topic #8: 0.030*\"home\" + 0.030*\"prefer\" + 0.030*\"wife\" + 0.030*\"football\" + 0.030*\"field\"\n",
      "Topic #9: 0.030*\"hard\" + 0.030*\"prefer\" + 0.030*\"home\" + 0.030*\"wife\" + 0.030*\"staying\"\n"
     ]
    }
   ],
   "source": [
    "# first import corpora and models module from gensim package\n",
    "from gensim import corpora, models\n",
    "\n",
    "# Build a Dictionary - association word to numeric id\n",
    "dictionary = corpora.Dictionary(tokenized_data)\n",
    " \n",
    "# Transform the collection of texts to a numerical form\n",
    "corpus = [dictionary.doc2bow(text) for text in tokenized_data]\n",
    "\n",
    "# Build the LDA model\n",
    "# We are asking LDA to find 10 topics in the data\n",
    "lda_model = models.LdaModel(corpus=corpus, num_topics=10, id2word=dictionary)\n",
    "\n",
    "for idx in range(10):\n",
    "    # Print the first 10 most representative topics\n",
    "    print(\"Topic #%s:\" % idx, lda_model.print_topic(idx, 5))\n"
   ]
  },
  {
   "cell_type": "markdown",
   "metadata": {},
   "source": [
    "Since we trained and built our LDA model over the five simple sentences, whenever we want to detect the topic of a new sentence or text, we'll at first prepare the text and then push that into our model to get a topic. Let's try to predict a topic for a new sentence."
   ]
  },
  {
   "cell_type": "code",
   "execution_count": 163,
   "metadata": {},
   "outputs": [
    {
     "data": {
      "text/plain": [
       "[(0, 0.033337917),\n",
       " (1, 0.03333333),\n",
       " (2, 0.03333333),\n",
       " (3, 0.033333335),\n",
       " (4, 0.033333335),\n",
       " (5, 0.6999899),\n",
       " (6, 0.033333335),\n",
       " (7, 0.033338852),\n",
       " (8, 0.033333335),\n",
       " (9, 0.033333335)]"
      ]
     },
     "execution_count": 163,
     "metadata": {},
     "output_type": "execute_result"
    }
   ],
   "source": [
    "new_sentence=\"My wife plans to go out tonight\"\n",
    "lda_model.get_document_topics(dictionary.doc2bow(new_sentence.split()) )"
   ]
  },
  {
   "cell_type": "markdown",
   "metadata": {},
   "source": [
    "as you can see, topic-5 (listed above) is the most relevant topic for this sentence. \n",
    "\n",
    "Topic #5: 0.103*\"studying\" + 0.101*\"likes\" + 0.101*\"go\" + 0.096*\"home\" + 0.094*\"wife\""
   ]
  },
  {
   "cell_type": "code",
   "execution_count": null,
   "metadata": {},
   "outputs": [],
   "source": []
  }
 ],
 "metadata": {
  "kernelspec": {
   "display_name": "Python 3",
   "language": "python",
   "name": "python3"
  },
  "language_info": {
   "codemirror_mode": {
    "name": "ipython",
    "version": 3
   },
   "file_extension": ".py",
   "mimetype": "text/x-python",
   "name": "python",
   "nbconvert_exporter": "python",
   "pygments_lexer": "ipython3",
   "version": "3.6.5"
  }
 },
 "nbformat": 4,
 "nbformat_minor": 2
}
